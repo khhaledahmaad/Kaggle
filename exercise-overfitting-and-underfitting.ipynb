{
 "cells": [
  {
   "cell_type": "markdown",
   "id": "0aaeddec",
   "metadata": {
    "papermill": {
     "duration": 0.005744,
     "end_time": "2023-03-01T23:49:27.668007",
     "exception": false,
     "start_time": "2023-03-01T23:49:27.662263",
     "status": "completed"
    },
    "tags": []
   },
   "source": [
    "**This notebook is an exercise in the [Intro to Deep Learning](https://www.kaggle.com/learn/intro-to-deep-learning) course.  You can reference the tutorial at [this link](https://www.kaggle.com/ryanholbrook/overfitting-and-underfitting).**\n",
    "\n",
    "---\n"
   ]
  },
  {
   "cell_type": "markdown",
   "id": "462cc7ce",
   "metadata": {
    "papermill": {
     "duration": 0.004299,
     "end_time": "2023-03-01T23:49:27.677104",
     "exception": false,
     "start_time": "2023-03-01T23:49:27.672805",
     "status": "completed"
    },
    "tags": []
   },
   "source": [
    "# Introduction #\n",
    "\n",
    "In this exercise, you’ll learn how to improve training outcomes by including an early stopping callback to prevent overfitting.\n",
    "\n",
    "When you're ready, run this next cell to set everything up!"
   ]
  },
  {
   "cell_type": "code",
   "execution_count": 1,
   "id": "279aa1a0",
   "metadata": {
    "execution": {
     "iopub.execute_input": "2023-03-01T23:49:27.688056Z",
     "iopub.status.busy": "2023-03-01T23:49:27.687602Z",
     "iopub.status.idle": "2023-03-01T23:49:27.720243Z",
     "shell.execute_reply": "2023-03-01T23:49:27.719263Z"
    },
    "papermill": {
     "duration": 0.040809,
     "end_time": "2023-03-01T23:49:27.722466",
     "exception": false,
     "start_time": "2023-03-01T23:49:27.681657",
     "status": "completed"
    },
    "tags": []
   },
   "outputs": [],
   "source": [
    "# Setup plotting\n",
    "import matplotlib.pyplot as plt\n",
    "plt.style.use('seaborn-whitegrid')\n",
    "# Set Matplotlib defaults\n",
    "plt.rc('figure', autolayout=True)\n",
    "plt.rc('axes', labelweight='bold', labelsize='large',\n",
    "       titleweight='bold', titlesize=18, titlepad=10)\n",
    "plt.rc('animation', html='html5')\n",
    "\n",
    "# Setup feedback system\n",
    "from learntools.core import binder\n",
    "binder.bind(globals())\n",
    "from learntools.deep_learning_intro.ex4 import *"
   ]
  },
  {
   "cell_type": "markdown",
   "id": "11f3aa88",
   "metadata": {
    "papermill": {
     "duration": 0.004377,
     "end_time": "2023-03-01T23:49:27.731334",
     "exception": false,
     "start_time": "2023-03-01T23:49:27.726957",
     "status": "completed"
    },
    "tags": []
   },
   "source": [
    "First load the *Spotify* dataset. Your task will be to predict the popularity of a song based on various audio features, like `'tempo'`, `'danceability'`, and `'mode'`."
   ]
  },
  {
   "cell_type": "code",
   "execution_count": 2,
   "id": "e0e78d2f",
   "metadata": {
    "execution": {
     "iopub.execute_input": "2023-03-01T23:49:27.742825Z",
     "iopub.status.busy": "2023-03-01T23:49:27.741368Z",
     "iopub.status.idle": "2023-03-01T23:49:35.715191Z",
     "shell.execute_reply": "2023-03-01T23:49:35.712150Z"
    },
    "papermill": {
     "duration": 7.981718,
     "end_time": "2023-03-01T23:49:35.717498",
     "exception": false,
     "start_time": "2023-03-01T23:49:27.735780",
     "status": "completed"
    },
    "tags": []
   },
   "outputs": [
    {
     "name": "stdout",
     "output_type": "stream",
     "text": [
      "Input shape: [18]\n"
     ]
    }
   ],
   "source": [
    "import pandas as pd\n",
    "from sklearn.preprocessing import StandardScaler, OneHotEncoder\n",
    "from sklearn.compose import make_column_transformer\n",
    "from sklearn.model_selection import GroupShuffleSplit\n",
    "\n",
    "from tensorflow import keras\n",
    "from tensorflow.keras import layers\n",
    "from tensorflow.keras import callbacks\n",
    "\n",
    "spotify = pd.read_csv('../input/dl-course-data/spotify.csv')\n",
    "\n",
    "X = spotify.copy().dropna()\n",
    "y = X.pop('track_popularity')\n",
    "artists = X['track_artist']\n",
    "\n",
    "features_num = ['danceability', 'energy', 'key', 'loudness', 'mode',\n",
    "                'speechiness', 'acousticness', 'instrumentalness',\n",
    "                'liveness', 'valence', 'tempo', 'duration_ms']\n",
    "features_cat = ['playlist_genre']\n",
    "\n",
    "preprocessor = make_column_transformer(\n",
    "    (StandardScaler(), features_num),\n",
    "    (OneHotEncoder(), features_cat),\n",
    ")\n",
    "\n",
    "# We'll do a \"grouped\" split to keep all of an artist's songs in one\n",
    "# split or the other. This is to help prevent signal leakage.\n",
    "def group_split(X, y, group, train_size=0.75):\n",
    "    splitter = GroupShuffleSplit(train_size=train_size)\n",
    "    train, test = next(splitter.split(X, y, groups=group))\n",
    "    return (X.iloc[train], X.iloc[test], y.iloc[train], y.iloc[test])\n",
    "\n",
    "X_train, X_valid, y_train, y_valid = group_split(X, y, artists)\n",
    "\n",
    "X_train = preprocessor.fit_transform(X_train)\n",
    "X_valid = preprocessor.transform(X_valid)\n",
    "y_train = y_train / 100 # popularity is on a scale 0-100, so this rescales to 0-1.\n",
    "y_valid = y_valid / 100\n",
    "\n",
    "input_shape = [X_train.shape[1]]\n",
    "print(\"Input shape: {}\".format(input_shape))"
   ]
  },
  {
   "cell_type": "markdown",
   "id": "138d1618",
   "metadata": {
    "papermill": {
     "duration": 0.004486,
     "end_time": "2023-03-01T23:49:35.726943",
     "exception": false,
     "start_time": "2023-03-01T23:49:35.722457",
     "status": "completed"
    },
    "tags": []
   },
   "source": [
    "Let's start with the simplest network, a linear model. This model has low capacity.\n",
    "\n",
    "Run this next cell without any changes to train a linear model on the *Spotify* dataset."
   ]
  },
  {
   "cell_type": "code",
   "execution_count": 3,
   "id": "3c9950d8",
   "metadata": {
    "execution": {
     "iopub.execute_input": "2023-03-01T23:49:35.738009Z",
     "iopub.status.busy": "2023-03-01T23:49:35.737100Z",
     "iopub.status.idle": "2023-03-01T23:49:35.744754Z",
     "shell.execute_reply": "2023-03-01T23:49:35.743640Z"
    },
    "papermill": {
     "duration": 0.016183,
     "end_time": "2023-03-01T23:49:35.747670",
     "exception": false,
     "start_time": "2023-03-01T23:49:35.731487",
     "status": "completed"
    },
    "tags": []
   },
   "outputs": [
    {
     "data": {
      "text/plain": [
       "(24668, 18)"
      ]
     },
     "execution_count": 3,
     "metadata": {},
     "output_type": "execute_result"
    }
   ],
   "source": [
    "# Shape\n",
    "X_train.shape"
   ]
  },
  {
   "cell_type": "code",
   "execution_count": 4,
   "id": "84bc7c89",
   "metadata": {
    "execution": {
     "iopub.execute_input": "2023-03-01T23:49:35.758499Z",
     "iopub.status.busy": "2023-03-01T23:49:35.758204Z",
     "iopub.status.idle": "2023-03-01T23:50:00.114950Z",
     "shell.execute_reply": "2023-03-01T23:50:00.113964Z"
    },
    "lines_to_next_cell": 0,
    "papermill": {
     "duration": 24.36486,
     "end_time": "2023-03-01T23:50:00.117276",
     "exception": false,
     "start_time": "2023-03-01T23:49:35.752416",
     "status": "completed"
    },
    "tags": []
   },
   "outputs": [
    {
     "name": "stdout",
     "output_type": "stream",
     "text": [
      "Minimum Validation Loss: 0.1982\n"
     ]
    },
    {
     "data": {
      "image/png": "[encoded data removed]",
      "text/plain": [
       "<Figure size 640x480 with 1 Axes>"
      ]
     },
     "metadata": {},
     "output_type": "display_data"
    }
   ],
   "source": [
    "model = keras.Sequential([\n",
    "    layers.Dense(1, input_shape=input_shape),\n",
    "])\n",
    "model.compile(\n",
    "    optimizer='adam',\n",
    "    loss='mae',\n",
    ")\n",
    "history = model.fit(\n",
    "    X_train, y_train,\n",
    "    validation_data=(X_valid, y_valid),\n",
    "    batch_size=512,\n",
    "    epochs=50,\n",
    "    verbose=0, # suppress output since we'll plot the curves\n",
    ")\n",
    "history_df = pd.DataFrame(history.history)\n",
    "history_df.loc[0:, ['loss', 'val_loss']].plot()\n",
    "print(\"Minimum Validation Loss: {:0.4f}\".format(history_df['val_loss'].min()));"
   ]
  },
  {
   "cell_type": "markdown",
   "id": "54e1abd8",
   "metadata": {
    "papermill": {
     "duration": 0.00508,
     "end_time": "2023-03-01T23:50:00.127979",
     "exception": false,
     "start_time": "2023-03-01T23:50:00.122899",
     "status": "completed"
    },
    "tags": []
   },
   "source": [
    "It's not uncommon for the curves to follow a \"hockey stick\" pattern like you see here. This makes the final part of training hard to see, so let's start at epoch 10 instead:"
   ]
  },
  {
   "cell_type": "code",
   "execution_count": 5,
   "id": "91733c93",
   "metadata": {
    "execution": {
     "iopub.execute_input": "2023-03-01T23:50:00.141413Z",
     "iopub.status.busy": "2023-03-01T23:50:00.139633Z",
     "iopub.status.idle": "2023-03-01T23:50:00.539573Z",
     "shell.execute_reply": "2023-03-01T23:50:00.532349Z"
    },
    "papermill": {
     "duration": 0.409373,
     "end_time": "2023-03-01T23:50:00.542478",
     "exception": false,
     "start_time": "2023-03-01T23:50:00.133105",
     "status": "completed"
    },
    "tags": []
   },
   "outputs": [
    {
     "name": "stdout",
     "output_type": "stream",
     "text": [
      "Minimum Validation Loss: 0.1982\n"
     ]
    },
    {
     "data": {
      "image/png": "[encoded data removed]",
      "text/plain": [
       "<Figure size 640x480 with 1 Axes>"
      ]
     },
     "metadata": {},
     "output_type": "display_data"
    }
   ],
   "source": [
    "# Start the plot at epoch 10\n",
    "history_df.loc[10:, ['loss', 'val_loss']].plot()\n",
    "print(\"Minimum Validation Loss: {:0.4f}\".format(history_df['val_loss'].min()));"
   ]
  },
  {
   "cell_type": "markdown",
   "id": "cc87ccd0",
   "metadata": {
    "papermill": {
     "duration": 0.007842,
     "end_time": "2023-03-01T23:50:00.558797",
     "exception": false,
     "start_time": "2023-03-01T23:50:00.550955",
     "status": "completed"
    },
    "tags": []
   },
   "source": [
    "# 1) Evaluate Baseline\n",
    "\n",
    "What do you think? Would you say this model is underfitting, overfitting, just right?"
   ]
  },
  {
   "cell_type": "code",
   "execution_count": 6,
   "id": "236bb3e0",
   "metadata": {
    "execution": {
     "iopub.execute_input": "2023-03-01T23:50:00.576507Z",
     "iopub.status.busy": "2023-03-01T23:50:00.576111Z",
     "iopub.status.idle": "2023-03-01T23:50:00.588491Z",
     "shell.execute_reply": "2023-03-01T23:50:00.587514Z"
    },
    "papermill": {
     "duration": 0.024766,
     "end_time": "2023-03-01T23:50:00.591650",
     "exception": false,
     "start_time": "2023-03-01T23:50:00.566884",
     "status": "completed"
    },
    "tags": []
   },
   "outputs": [
    {
     "data": {
      "application/javascript": [
       "parent.postMessage({\"jupyterEvent\": \"custom.exercise_interaction\", \"data\": {\"outcomeType\": 1, \"valueTowardsCompletion\": 0.25, \"interactionType\": 1, \"questionType\": 4, \"questionId\": \"1_Q1\", \"learnToolsVersion\": \"0.3.4\", \"failureMessage\": \"\", \"exceptionClass\": \"\", \"trace\": \"\"}}, \"*\")"
      ],
      "text/plain": [
       "<IPython.core.display.Javascript object>"
      ]
     },
     "metadata": {},
     "output_type": "display_data"
    },
    {
     "data": {
      "text/markdown": [
       "<span style=\"color:#33cc33\">Correct:</span> \n",
       "\n",
       "The gap between these curves is quite small and the validation loss never increases, so it's more likely that the network is underfitting than overfitting. It would be worth experimenting with more capacity to see if that's the case."
      ],
      "text/plain": [
       "Correct: \n",
       "\n",
       "The gap between these curves is quite small and the validation loss never increases, so it's more likely that the network is underfitting than overfitting. It would be worth experimenting with more capacity to see if that's the case."
      ]
     },
     "metadata": {},
     "output_type": "display_data"
    }
   ],
   "source": [
    "# View the solution (Run this cell to receive credit!)\n",
    "q_1.check()"
   ]
  },
  {
   "cell_type": "markdown",
   "id": "0a2284d1",
   "metadata": {
    "papermill": {
     "duration": 0.008098,
     "end_time": "2023-03-01T23:50:00.608215",
     "exception": false,
     "start_time": "2023-03-01T23:50:00.600117",
     "status": "completed"
    },
    "tags": []
   },
   "source": [
    "Now let's add some capacity to our network. We'll add three hidden layers with 128 units each. Run the next cell to train the network and see the learning curves."
   ]
  },
  {
   "cell_type": "code",
   "execution_count": 7,
   "id": "a485c5ac",
   "metadata": {
    "execution": {
     "iopub.execute_input": "2023-03-01T23:50:00.626384Z",
     "iopub.status.busy": "2023-03-01T23:50:00.626028Z",
     "iopub.status.idle": "2023-03-01T23:50:12.899115Z",
     "shell.execute_reply": "2023-03-01T23:50:12.898078Z"
    },
    "papermill": {
     "duration": 12.285228,
     "end_time": "2023-03-01T23:50:12.901714",
     "exception": false,
     "start_time": "2023-03-01T23:50:00.616486",
     "status": "completed"
    },
    "tags": []
   },
   "outputs": [
    {
     "name": "stdout",
     "output_type": "stream",
     "text": [
      "Epoch 1/50\n",
      "49/49 [==============================] - 2s 6ms/step - loss: 0.2376 - val_loss: 0.2078\n",
      "Epoch 2/50\n",
      "49/49 [==============================] - 0s 4ms/step - loss: 0.2001 - val_loss: 0.2032\n",
      "Epoch 3/50\n",
      "49/49 [==============================] - 0s 4ms/step - loss: 0.1951 - val_loss: 0.2017\n",
      "Epoch 4/50\n",
      "49/49 [==============================] - 0s 4ms/step - loss: 0.1929 - val_loss: 0.1994\n",
      "Epoch 5/50\n",
      "49/49 [==============================] - 0s 4ms/step - loss: 0.1901 - val_loss: 0.1994\n",
      "Epoch 6/50\n",
      "49/49 [==============================] - 0s 4ms/step - loss: 0.1887 - val_loss: 0.2015\n",
      "Epoch 7/50\n",
      "49/49 [==============================] - 0s 4ms/step - loss: 0.1880 - val_loss: 0.1984\n",
      "Epoch 8/50\n",
      "49/49 [==============================] - 0s 4ms/step - loss: 0.1863 - val_loss: 0.1993\n",
      "Epoch 9/50\n",
      "49/49 [==============================] - 0s 4ms/step - loss: 0.1853 - val_loss: 0.1993\n",
      "Epoch 10/50\n",
      "49/49 [==============================] - 0s 3ms/step - loss: 0.1846 - val_loss: 0.2000\n",
      "Epoch 11/50\n",
      "49/49 [==============================] - 0s 4ms/step - loss: 0.1834 - val_loss: 0.1993\n",
      "Epoch 12/50\n",
      "49/49 [==============================] - 0s 4ms/step - loss: 0.1831 - val_loss: 0.1984\n",
      "Epoch 13/50\n",
      "49/49 [==============================] - 0s 4ms/step - loss: 0.1819 - val_loss: 0.1989\n",
      "Epoch 14/50\n",
      "49/49 [==============================] - 0s 4ms/step - loss: 0.1826 - val_loss: 0.2018\n",
      "Epoch 15/50\n",
      "49/49 [==============================] - 0s 4ms/step - loss: 0.1816 - val_loss: 0.1995\n",
      "Epoch 16/50\n",
      "49/49 [==============================] - 0s 4ms/step - loss: 0.1798 - val_loss: 0.1993\n",
      "Epoch 17/50\n",
      "49/49 [==============================] - 0s 4ms/step - loss: 0.1798 - val_loss: 0.1992\n",
      "Epoch 18/50\n",
      "49/49 [==============================] - 0s 4ms/step - loss: 0.1800 - val_loss: 0.1990\n",
      "Epoch 19/50\n",
      "49/49 [==============================] - 0s 4ms/step - loss: 0.1785 - val_loss: 0.1999\n",
      "Epoch 20/50\n",
      "49/49 [==============================] - 0s 4ms/step - loss: 0.1782 - val_loss: 0.2028\n",
      "Epoch 21/50\n",
      "49/49 [==============================] - 0s 4ms/step - loss: 0.1783 - val_loss: 0.1999\n",
      "Epoch 22/50\n",
      "49/49 [==============================] - 0s 4ms/step - loss: 0.1772 - val_loss: 0.2002\n",
      "Epoch 23/50\n",
      "49/49 [==============================] - 0s 4ms/step - loss: 0.1769 - val_loss: 0.2017\n",
      "Epoch 24/50\n",
      "49/49 [==============================] - 0s 4ms/step - loss: 0.1761 - val_loss: 0.1997\n",
      "Epoch 25/50\n",
      "49/49 [==============================] - 0s 4ms/step - loss: 0.1757 - val_loss: 0.2000\n",
      "Epoch 26/50\n",
      "49/49 [==============================] - 0s 4ms/step - loss: 0.1757 - val_loss: 0.2014\n",
      "Epoch 27/50\n",
      "49/49 [==============================] - 0s 4ms/step - loss: 0.1748 - val_loss: 0.2011\n",
      "Epoch 28/50\n",
      "49/49 [==============================] - 0s 4ms/step - loss: 0.1745 - val_loss: 0.2015\n",
      "Epoch 29/50\n",
      "49/49 [==============================] - 0s 4ms/step - loss: 0.1740 - val_loss: 0.2008\n",
      "Epoch 30/50\n",
      "49/49 [==============================] - 0s 6ms/step - loss: 0.1735 - val_loss: 0.2009\n",
      "Epoch 31/50\n",
      "49/49 [==============================] - 0s 5ms/step - loss: 0.1729 - val_loss: 0.2009\n",
      "Epoch 32/50\n",
      "49/49 [==============================] - 0s 5ms/step - loss: 0.1729 - val_loss: 0.2035\n",
      "Epoch 33/50\n",
      "49/49 [==============================] - 0s 5ms/step - loss: 0.1742 - val_loss: 0.2038\n",
      "Epoch 34/50\n",
      "49/49 [==============================] - 0s 5ms/step - loss: 0.1719 - val_loss: 0.2027\n",
      "Epoch 35/50\n",
      "49/49 [==============================] - 0s 4ms/step - loss: 0.1717 - val_loss: 0.2026\n",
      "Epoch 36/50\n",
      "49/49 [==============================] - 0s 4ms/step - loss: 0.1712 - val_loss: 0.2016\n",
      "Epoch 37/50\n",
      "49/49 [==============================] - 0s 4ms/step - loss: 0.1716 - val_loss: 0.2034\n",
      "Epoch 38/50\n",
      "49/49 [==============================] - 0s 4ms/step - loss: 0.1707 - val_loss: 0.2028\n",
      "Epoch 39/50\n",
      "49/49 [==============================] - 0s 4ms/step - loss: 0.1698 - val_loss: 0.2018\n",
      "Epoch 40/50\n",
      "49/49 [==============================] - 0s 4ms/step - loss: 0.1693 - val_loss: 0.2031\n",
      "Epoch 41/50\n",
      "49/49 [==============================] - 0s 4ms/step - loss: 0.1694 - val_loss: 0.2015\n",
      "Epoch 42/50\n",
      "49/49 [==============================] - 0s 4ms/step - loss: 0.1683 - val_loss: 0.2065\n",
      "Epoch 43/50\n",
      "49/49 [==============================] - 0s 4ms/step - loss: 0.1678 - val_loss: 0.2049\n",
      "Epoch 44/50\n",
      "49/49 [==============================] - 0s 4ms/step - loss: 0.1695 - val_loss: 0.2034\n",
      "Epoch 45/50\n",
      "49/49 [==============================] - 0s 6ms/step - loss: 0.1681 - val_loss: 0.2030\n",
      "Epoch 46/50\n",
      "49/49 [==============================] - 0s 6ms/step - loss: 0.1689 - val_loss: 0.2040\n",
      "Epoch 47/50\n",
      "49/49 [==============================] - 0s 4ms/step - loss: 0.1682 - val_loss: 0.2034\n",
      "Epoch 48/50\n",
      "49/49 [==============================] - 0s 4ms/step - loss: 0.1674 - val_loss: 0.2022\n",
      "Epoch 49/50\n",
      "49/49 [==============================] - 0s 4ms/step - loss: 0.1676 - val_loss: 0.2031\n",
      "Epoch 50/50\n",
      "49/49 [==============================] - 0s 5ms/step - loss: 0.1666 - val_loss: 0.2039\n",
      "Minimum Validation Loss: 0.1984\n"
     ]
    },
    {
     "data": {
      "image/png": "[encoded data removed]",
      "text/plain": [
       "<Figure size 640x480 with 1 Axes>"
      ]
     },
     "metadata": {},
     "output_type": "display_data"
    }
   ],
   "source": [
    "model = keras.Sequential([\n",
    "    layers.Dense(128, activation='relu', input_shape=input_shape),\n",
    "    layers.Dense(64, activation='relu'),\n",
    "    layers.Dense(1)\n",
    "])\n",
    "model.compile(\n",
    "    optimizer='adam',\n",
    "    loss='mae',\n",
    ")\n",
    "history = model.fit(\n",
    "    X_train, y_train,\n",
    "    validation_data=(X_valid, y_valid),\n",
    "    batch_size=512,\n",
    "    epochs=50,\n",
    ")\n",
    "history_df = pd.DataFrame(history.history)\n",
    "history_df.loc[:, ['loss', 'val_loss']].plot()\n",
    "print(\"Minimum Validation Loss: {:0.4f}\".format(history_df['val_loss'].min()));"
   ]
  },
  {
   "cell_type": "markdown",
   "id": "faffa914",
   "metadata": {
    "papermill": {
     "duration": 0.020221,
     "end_time": "2023-03-01T23:50:12.942897",
     "exception": false,
     "start_time": "2023-03-01T23:50:12.922676",
     "status": "completed"
    },
    "tags": []
   },
   "source": [
    "# 2) Add Capacity\n",
    "\n",
    "What is your evaluation of these curves? Underfitting, overfitting, just right?"
   ]
  },
  {
   "cell_type": "code",
   "execution_count": 8,
   "id": "fb862f7d",
   "metadata": {
    "execution": {
     "iopub.execute_input": "2023-03-01T23:50:12.984056Z",
     "iopub.status.busy": "2023-03-01T23:50:12.983683Z",
     "iopub.status.idle": "2023-03-01T23:50:12.993635Z",
     "shell.execute_reply": "2023-03-01T23:50:12.992566Z"
    },
    "papermill": {
     "duration": 0.033389,
     "end_time": "2023-03-01T23:50:12.995815",
     "exception": false,
     "start_time": "2023-03-01T23:50:12.962426",
     "status": "completed"
    },
    "tags": []
   },
   "outputs": [
    {
     "data": {
      "application/javascript": [
       "parent.postMessage({\"jupyterEvent\": \"custom.exercise_interaction\", \"data\": {\"outcomeType\": 1, \"valueTowardsCompletion\": 0.25, \"interactionType\": 1, \"questionType\": 4, \"questionId\": \"2_Q2\", \"learnToolsVersion\": \"0.3.4\", \"failureMessage\": \"\", \"exceptionClass\": \"\", \"trace\": \"\"}}, \"*\")"
      ],
      "text/plain": [
       "<IPython.core.display.Javascript object>"
      ]
     },
     "metadata": {},
     "output_type": "display_data"
    },
    {
     "data": {
      "text/markdown": [
       "<span style=\"color:#33cc33\">Correct:</span> \n",
       "\n",
       "Now the validation loss begins to rise very early, while the training loss continues to decrease. This indicates that the network has begun to overfit. At this point, we would need to try something to prevent it, either by reducing the number of units or through a method like early stopping. (We'll see another in the next lesson!)"
      ],
      "text/plain": [
       "Correct: \n",
       "\n",
       "Now the validation loss begins to rise very early, while the training loss continues to decrease. This indicates that the network has begun to overfit. At this point, we would need to try something to prevent it, either by reducing the number of units or through a method like early stopping. (We'll see another in the next lesson!)"
      ]
     },
     "metadata": {},
     "output_type": "display_data"
    }
   ],
   "source": [
    "# View the solution (Run this cell to receive credit!)\n",
    "q_2.check()"
   ]
  },
  {
   "cell_type": "markdown",
   "id": "1aaada3d",
   "metadata": {
    "papermill": {
     "duration": 0.019884,
     "end_time": "2023-03-01T23:50:13.035499",
     "exception": false,
     "start_time": "2023-03-01T23:50:13.015615",
     "status": "completed"
    },
    "tags": []
   },
   "source": [
    "# 3) Define Early Stopping Callback\n",
    "\n",
    "Now define an early stopping callback that waits 5 epochs (`patience'`) for a change in validation loss of at least `0.001` (`min_delta`) and keeps the weights with the best loss (`restore_best_weights`)."
   ]
  },
  {
   "cell_type": "code",
   "execution_count": 9,
   "id": "a61ce324",
   "metadata": {
    "execution": {
     "iopub.execute_input": "2023-03-01T23:50:13.077529Z",
     "iopub.status.busy": "2023-03-01T23:50:13.077159Z",
     "iopub.status.idle": "2023-03-01T23:50:13.086114Z",
     "shell.execute_reply": "2023-03-01T23:50:13.085092Z"
    },
    "lines_to_next_cell": 0,
    "papermill": {
     "duration": 0.032815,
     "end_time": "2023-03-01T23:50:13.088382",
     "exception": false,
     "start_time": "2023-03-01T23:50:13.055567",
     "status": "completed"
    },
    "tags": []
   },
   "outputs": [
    {
     "data": {
      "application/javascript": [
       "parent.postMessage({\"jupyterEvent\": \"custom.exercise_interaction\", \"data\": {\"outcomeType\": 1, \"valueTowardsCompletion\": 0.25, \"interactionType\": 1, \"questionType\": 2, \"questionId\": \"3_Q3\", \"learnToolsVersion\": \"0.3.4\", \"failureMessage\": \"\", \"exceptionClass\": \"\", \"trace\": \"\"}}, \"*\")"
      ],
      "text/plain": [
       "<IPython.core.display.Javascript object>"
      ]
     },
     "metadata": {},
     "output_type": "display_data"
    },
    {
     "data": {
      "text/markdown": [
       "<span style=\"color:#33cc33\">Correct</span>"
      ],
      "text/plain": [
       "Correct"
      ]
     },
     "metadata": {},
     "output_type": "display_data"
    }
   ],
   "source": [
    "from tensorflow.keras import callbacks\n",
    "\n",
    "# YOUR CODE HERE: define an early stopping callback\n",
    "early_stopping = callbacks.EarlyStopping(min_delta=0.001, patience=5, restore_best_weights=True)\n",
    "\n",
    "# Check your answer\n",
    "q_3.check()"
   ]
  },
  {
   "cell_type": "code",
   "execution_count": 10,
   "id": "b318edb2",
   "metadata": {
    "execution": {
     "iopub.execute_input": "2023-03-01T23:50:13.130861Z",
     "iopub.status.busy": "2023-03-01T23:50:13.130081Z",
     "iopub.status.idle": "2023-03-01T23:50:13.134799Z",
     "shell.execute_reply": "2023-03-01T23:50:13.133817Z"
    },
    "papermill": {
     "duration": 0.028157,
     "end_time": "2023-03-01T23:50:13.136908",
     "exception": false,
     "start_time": "2023-03-01T23:50:13.108751",
     "status": "completed"
    },
    "tags": []
   },
   "outputs": [],
   "source": [
    "# Lines below will give you a hint or solution code\n",
    "#q_3.hint()\n",
    "#q_3.solution()"
   ]
  },
  {
   "cell_type": "markdown",
   "id": "9cbb691b",
   "metadata": {
    "papermill": {
     "duration": 0.019845,
     "end_time": "2023-03-01T23:50:13.176310",
     "exception": false,
     "start_time": "2023-03-01T23:50:13.156465",
     "status": "completed"
    },
    "tags": []
   },
   "source": [
    "Now run this cell to train the model and get the learning curves. Notice the `callbacks` argument in `model.fit`."
   ]
  },
  {
   "cell_type": "code",
   "execution_count": 11,
   "id": "5f827792",
   "metadata": {
    "execution": {
     "iopub.execute_input": "2023-03-01T23:50:13.216802Z",
     "iopub.status.busy": "2023-03-01T23:50:13.216499Z",
     "iopub.status.idle": "2023-03-01T23:50:19.179611Z",
     "shell.execute_reply": "2023-03-01T23:50:19.178599Z"
    },
    "papermill": {
     "duration": 5.986103,
     "end_time": "2023-03-01T23:50:19.181823",
     "exception": false,
     "start_time": "2023-03-01T23:50:13.195720",
     "status": "completed"
    },
    "tags": []
   },
   "outputs": [
    {
     "name": "stdout",
     "output_type": "stream",
     "text": [
      "Epoch 1/50\n",
      "49/49 [==============================] - 1s 6ms/step - loss: 0.2320 - val_loss: 0.2084\n",
      "Epoch 2/50\n",
      "49/49 [==============================] - 0s 4ms/step - loss: 0.2006 - val_loss: 0.2038\n",
      "Epoch 3/50\n",
      "49/49 [==============================] - 0s 4ms/step - loss: 0.1959 - val_loss: 0.2017\n",
      "Epoch 4/50\n",
      "49/49 [==============================] - 0s 4ms/step - loss: 0.1927 - val_loss: 0.2010\n",
      "Epoch 5/50\n",
      "49/49 [==============================] - 0s 5ms/step - loss: 0.1907 - val_loss: 0.2004\n",
      "Epoch 6/50\n",
      "49/49 [==============================] - 0s 4ms/step - loss: 0.1893 - val_loss: 0.1991\n",
      "Epoch 7/50\n",
      "49/49 [==============================] - 0s 4ms/step - loss: 0.1882 - val_loss: 0.1999\n",
      "Epoch 8/50\n",
      "49/49 [==============================] - 0s 3ms/step - loss: 0.1864 - val_loss: 0.2001\n",
      "Epoch 9/50\n",
      "49/49 [==============================] - 0s 4ms/step - loss: 0.1858 - val_loss: 0.1988\n",
      "Epoch 10/50\n",
      "49/49 [==============================] - 0s 4ms/step - loss: 0.1850 - val_loss: 0.1993\n",
      "Epoch 11/50\n",
      "49/49 [==============================] - 0s 4ms/step - loss: 0.1841 - val_loss: 0.1987\n",
      "Minimum Validation Loss: 0.1987\n"
     ]
    },
    {
     "data": {
      "image/png": "[encoded data removed]",
      "text/plain": [
       "<Figure size 640x480 with 1 Axes>"
      ]
     },
     "metadata": {},
     "output_type": "display_data"
    }
   ],
   "source": [
    "model = keras.Sequential([\n",
    "    layers.Dense(128, activation='relu', input_shape=input_shape),\n",
    "    layers.Dense(64, activation='relu'),    \n",
    "    layers.Dense(1)\n",
    "])\n",
    "model.compile(\n",
    "    optimizer='adam',\n",
    "    loss='mae',\n",
    ")\n",
    "history = model.fit(\n",
    "    X_train, y_train,\n",
    "    validation_data=(X_valid, y_valid),\n",
    "    batch_size=512,\n",
    "    epochs=50,\n",
    "    callbacks=[early_stopping]\n",
    ")\n",
    "history_df = pd.DataFrame(history.history)\n",
    "history_df.loc[:, ['loss', 'val_loss']].plot()\n",
    "print(\"Minimum Validation Loss: {:0.4f}\".format(history_df['val_loss'].min()));"
   ]
  },
  {
   "cell_type": "markdown",
   "id": "4f7be987",
   "metadata": {
    "papermill": {
     "duration": 0.02255,
     "end_time": "2023-03-01T23:50:19.227756",
     "exception": false,
     "start_time": "2023-03-01T23:50:19.205206",
     "status": "completed"
    },
    "tags": []
   },
   "source": [
    "# 4) Train and Interpret\n",
    "\n",
    "Was this an improvement compared to training without early stopping?"
   ]
  },
  {
   "cell_type": "code",
   "execution_count": 12,
   "id": "c9ac803a",
   "metadata": {
    "execution": {
     "iopub.execute_input": "2023-03-01T23:50:19.275134Z",
     "iopub.status.busy": "2023-03-01T23:50:19.274484Z",
     "iopub.status.idle": "2023-03-01T23:50:19.282631Z",
     "shell.execute_reply": "2023-03-01T23:50:19.281973Z"
    },
    "papermill": {
     "duration": 0.033899,
     "end_time": "2023-03-01T23:50:19.284516",
     "exception": false,
     "start_time": "2023-03-01T23:50:19.250617",
     "status": "completed"
    },
    "tags": []
   },
   "outputs": [
    {
     "data": {
      "application/javascript": [
       "parent.postMessage({\"jupyterEvent\": \"custom.exercise_interaction\", \"data\": {\"outcomeType\": 1, \"valueTowardsCompletion\": 0.25, \"interactionType\": 1, \"questionType\": 4, \"questionId\": \"4_Q4\", \"learnToolsVersion\": \"0.3.4\", \"failureMessage\": \"\", \"exceptionClass\": \"\", \"trace\": \"\"}}, \"*\")"
      ],
      "text/plain": [
       "<IPython.core.display.Javascript object>"
      ]
     },
     "metadata": {},
     "output_type": "display_data"
    },
    {
     "data": {
      "text/markdown": [
       "<span style=\"color:#33cc33\">Correct:</span> \n",
       "\n",
       "The early stopping callback did stop the training once the network began overfitting. Moreover, by including `restore_best_weights` we still get to keep the model where validation loss was lowest."
      ],
      "text/plain": [
       "Correct: \n",
       "\n",
       "The early stopping callback did stop the training once the network began overfitting. Moreover, by including `restore_best_weights` we still get to keep the model where validation loss was lowest."
      ]
     },
     "metadata": {},
     "output_type": "display_data"
    }
   ],
   "source": [
    "# View the solution (Run this cell to receive credit!)\n",
    "q_4.check()"
   ]
  },
  {
   "cell_type": "markdown",
   "id": "a4637523",
   "metadata": {
    "papermill": {
     "duration": 0.022746,
     "end_time": "2023-03-01T23:50:19.331095",
     "exception": false,
     "start_time": "2023-03-01T23:50:19.308349",
     "status": "completed"
    },
    "tags": []
   },
   "source": [
    "If you like, try experimenting with `patience` and `min_delta` to see what difference it might make.\n",
    "\n",
    "# Keep Going #\n",
    "\n",
    "Move on to [**learn about a couple of special layers**](https://www.kaggle.com/ryanholbrook/dropout-and-batch-normalization): batch normalization and dropout."
   ]
  },
  {
   "cell_type": "markdown",
   "id": "f687556f",
   "metadata": {
    "papermill": {
     "duration": 0.022827,
     "end_time": "2023-03-01T23:50:19.377034",
     "exception": false,
     "start_time": "2023-03-01T23:50:19.354207",
     "status": "completed"
    },
    "tags": []
   },
   "source": [
    "---\n",
    "\n",
    "\n",
    "\n",
    "\n",
    "*Have questions or comments? Visit the [course discussion forum](https://www.kaggle.com/learn/intro-to-deep-learning/discussion) to chat with other learners.*"
   ]
  }
 ],
 "metadata": {
  "kernelspec": {
   "display_name": "Python 3",
   "language": "python",
   "name": "python3"
  },
  "language_info": {
   "codemirror_mode": {
    "name": "ipython",
    "version": 3
   },
   "file_extension": ".py",
   "mimetype": "text/x-python",
   "name": "python",
   "nbconvert_exporter": "python",
   "pygments_lexer": "ipython3",
   "version": "3.7.12"
  },
  "papermill": {
   "default_parameters": {},
   "duration": 63.821962,
   "end_time": "2023-03-01T23:50:22.305748",
   "environment_variables": {},
   "exception": null,
   "input_path": "__notebook__.ipynb",
   "output_path": "__notebook__.ipynb",
   "parameters": {},
   "start_time": "2023-03-01T23:49:18.483786",
   "version": "2.4.0"
  }
 },
 "nbformat": 4,
 "nbformat_minor": 5
}
