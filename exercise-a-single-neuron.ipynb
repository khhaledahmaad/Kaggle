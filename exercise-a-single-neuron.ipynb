{
 "cells": [
  {
   "cell_type": "markdown",
   "id": "28ab3888",
   "metadata": {
    "papermill": {
     "duration": 0.006289,
     "end_time": "2023-03-01T23:17:49.057852",
     "exception": false,
     "start_time": "2023-03-01T23:17:49.051563",
     "status": "completed"
    },
    "tags": []
   },
   "source": [
    "**This notebook is an exercise in the [Intro to Deep Learning](https://www.kaggle.com/learn/intro-to-deep-learning) course.  You can reference the tutorial at [this link](https://www.kaggle.com/ryanholbrook/a-single-neuron).**\n",
    "\n",
    "---\n"
   ]
  },
  {
   "cell_type": "markdown",
   "id": "02f88ab7",
   "metadata": {
    "papermill": {
     "duration": 0.005181,
     "end_time": "2023-03-01T23:17:49.068172",
     "exception": false,
     "start_time": "2023-03-01T23:17:49.062991",
     "status": "completed"
    },
    "tags": []
   },
   "source": [
    "# Introduction #\n",
    "\n",
    "In the tutorial we learned about the building blocks of neural networks: *linear units*. We saw that a model of just one linear unit will fit a linear function to a dataset (equivalent to linear regression). In this exercise, you'll build a linear model and get some practice working with models in Keras.\n",
    "\n",
    "Before you get started, run the code cell below to set everything up."
   ]
  },
  {
   "cell_type": "code",
   "execution_count": 1,
   "id": "ec4880c8",
   "metadata": {
    "execution": {
     "iopub.execute_input": "2023-03-01T23:17:49.080397Z",
     "iopub.status.busy": "2023-03-01T23:17:49.079962Z",
     "iopub.status.idle": "2023-03-01T23:17:58.623749Z",
     "shell.execute_reply": "2023-03-01T23:17:58.622226Z"
    },
    "papermill": {
     "duration": 9.55399,
     "end_time": "2023-03-01T23:17:58.627376",
     "exception": false,
     "start_time": "2023-03-01T23:17:49.073386",
     "status": "completed"
    },
    "tags": []
   },
   "outputs": [],
   "source": [
    "# Setup plotting\n",
    "import matplotlib.pyplot as plt\n",
    "\n",
    "plt.style.use('seaborn-whitegrid')\n",
    "# Set Matplotlib defaults\n",
    "plt.rc('figure', autolayout=True)\n",
    "plt.rc('axes', labelweight='bold', labelsize='large',\n",
    "       titleweight='bold', titlesize=18, titlepad=10)\n",
    "\n",
    "# Setup feedback system\n",
    "from learntools.core import binder\n",
    "binder.bind(globals())\n",
    "from learntools.deep_learning_intro.ex1 import *"
   ]
  },
  {
   "cell_type": "markdown",
   "id": "26eb4158",
   "metadata": {
    "papermill": {
     "duration": 0.005004,
     "end_time": "2023-03-01T23:17:58.637719",
     "exception": false,
     "start_time": "2023-03-01T23:17:58.632715",
     "status": "completed"
    },
    "tags": []
   },
   "source": [
    "The *Red Wine Quality* dataset consists of physiochemical measurements from about 1600 Portuguese red wines.  Also included is a quality rating for each wine from blind taste-tests. \n",
    "\n",
    "First, run the next cell to display the first few rows of this dataset."
   ]
  },
  {
   "cell_type": "code",
   "execution_count": 2,
   "id": "ea824de3",
   "metadata": {
    "execution": {
     "iopub.execute_input": "2023-03-01T23:17:58.650702Z",
     "iopub.status.busy": "2023-03-01T23:17:58.649858Z",
     "iopub.status.idle": "2023-03-01T23:17:58.711351Z",
     "shell.execute_reply": "2023-03-01T23:17:58.710132Z"
    },
    "papermill": {
     "duration": 0.07094,
     "end_time": "2023-03-01T23:17:58.713947",
     "exception": false,
     "start_time": "2023-03-01T23:17:58.643007",
     "status": "completed"
    },
    "tags": []
   },
   "outputs": [
    {
     "data": {
      "text/html": [
       "<div>\n",
       "<style scoped>\n",
       "    .dataframe tbody tr th:only-of-type {\n",
       "        vertical-align: middle;\n",
       "    }\n",
       "\n",
       "    .dataframe tbody tr th {\n",
       "        vertical-align: top;\n",
       "    }\n",
       "\n",
       "    .dataframe thead th {\n",
       "        text-align: right;\n",
       "    }\n",
       "</style>\n",
       "<table border=\"1\" class=\"dataframe\">\n",
       "  <thead>\n",
       "    <tr style=\"text-align: right;\">\n",
       "      <th></th>\n",
       "      <th>fixed acidity</th>\n",
       "      <th>volatile acidity</th>\n",
       "      <th>citric acid</th>\n",
       "      <th>residual sugar</th>\n",
       "      <th>chlorides</th>\n",
       "      <th>free sulfur dioxide</th>\n",
       "      <th>total sulfur dioxide</th>\n",
       "      <th>density</th>\n",
       "      <th>pH</th>\n",
       "      <th>sulphates</th>\n",
       "      <th>alcohol</th>\n",
       "      <th>quality</th>\n",
       "    </tr>\n",
       "  </thead>\n",
       "  <tbody>\n",
       "    <tr>\n",
       "      <th>0</th>\n",
       "      <td>7.4</td>\n",
       "      <td>0.70</td>\n",
       "      <td>0.00</td>\n",
       "      <td>1.9</td>\n",
       "      <td>0.076</td>\n",
       "      <td>11.0</td>\n",
       "      <td>34.0</td>\n",
       "      <td>0.9978</td>\n",
       "      <td>3.51</td>\n",
       "      <td>0.56</td>\n",
       "      <td>9.4</td>\n",
       "      <td>5</td>\n",
       "    </tr>\n",
       "    <tr>\n",
       "      <th>1</th>\n",
       "      <td>7.8</td>\n",
       "      <td>0.88</td>\n",
       "      <td>0.00</td>\n",
       "      <td>2.6</td>\n",
       "      <td>0.098</td>\n",
       "      <td>25.0</td>\n",
       "      <td>67.0</td>\n",
       "      <td>0.9968</td>\n",
       "      <td>3.20</td>\n",
       "      <td>0.68</td>\n",
       "      <td>9.8</td>\n",
       "      <td>5</td>\n",
       "    </tr>\n",
       "    <tr>\n",
       "      <th>2</th>\n",
       "      <td>7.8</td>\n",
       "      <td>0.76</td>\n",
       "      <td>0.04</td>\n",
       "      <td>2.3</td>\n",
       "      <td>0.092</td>\n",
       "      <td>15.0</td>\n",
       "      <td>54.0</td>\n",
       "      <td>0.9970</td>\n",
       "      <td>3.26</td>\n",
       "      <td>0.65</td>\n",
       "      <td>9.8</td>\n",
       "      <td>5</td>\n",
       "    </tr>\n",
       "    <tr>\n",
       "      <th>3</th>\n",
       "      <td>11.2</td>\n",
       "      <td>0.28</td>\n",
       "      <td>0.56</td>\n",
       "      <td>1.9</td>\n",
       "      <td>0.075</td>\n",
       "      <td>17.0</td>\n",
       "      <td>60.0</td>\n",
       "      <td>0.9980</td>\n",
       "      <td>3.16</td>\n",
       "      <td>0.58</td>\n",
       "      <td>9.8</td>\n",
       "      <td>6</td>\n",
       "    </tr>\n",
       "    <tr>\n",
       "      <th>4</th>\n",
       "      <td>7.4</td>\n",
       "      <td>0.70</td>\n",
       "      <td>0.00</td>\n",
       "      <td>1.9</td>\n",
       "      <td>0.076</td>\n",
       "      <td>11.0</td>\n",
       "      <td>34.0</td>\n",
       "      <td>0.9978</td>\n",
       "      <td>3.51</td>\n",
       "      <td>0.56</td>\n",
       "      <td>9.4</td>\n",
       "      <td>5</td>\n",
       "    </tr>\n",
       "  </tbody>\n",
       "</table>\n",
       "</div>"
      ],
      "text/plain": [
       "   fixed acidity  volatile acidity  citric acid  residual sugar  chlorides  \\\n",
       "0            7.4              0.70         0.00             1.9      0.076   \n",
       "1            7.8              0.88         0.00             2.6      0.098   \n",
       "2            7.8              0.76         0.04             2.3      0.092   \n",
       "3           11.2              0.28         0.56             1.9      0.075   \n",
       "4            7.4              0.70         0.00             1.9      0.076   \n",
       "\n",
       "   free sulfur dioxide  total sulfur dioxide  density    pH  sulphates  \\\n",
       "0                 11.0                  34.0   0.9978  3.51       0.56   \n",
       "1                 25.0                  67.0   0.9968  3.20       0.68   \n",
       "2                 15.0                  54.0   0.9970  3.26       0.65   \n",
       "3                 17.0                  60.0   0.9980  3.16       0.58   \n",
       "4                 11.0                  34.0   0.9978  3.51       0.56   \n",
       "\n",
       "   alcohol  quality  \n",
       "0      9.4        5  \n",
       "1      9.8        5  \n",
       "2      9.8        5  \n",
       "3      9.8        6  \n",
       "4      9.4        5  "
      ]
     },
     "execution_count": 2,
     "metadata": {},
     "output_type": "execute_result"
    }
   ],
   "source": [
    "import pandas as pd\n",
    "\n",
    "red_wine = pd.read_csv('../input/dl-course-data/red-wine.csv')\n",
    "red_wine.head()"
   ]
  },
  {
   "cell_type": "markdown",
   "id": "d929f2ea",
   "metadata": {
    "papermill": {
     "duration": 0.004897,
     "end_time": "2023-03-01T23:17:58.724219",
     "exception": false,
     "start_time": "2023-03-01T23:17:58.719322",
     "status": "completed"
    },
    "tags": []
   },
   "source": [
    "You can get the number of rows and columns of a dataframe (or a Numpy array) with the `shape` attribute."
   ]
  },
  {
   "cell_type": "code",
   "execution_count": 3,
   "id": "51e8425b",
   "metadata": {
    "execution": {
     "iopub.execute_input": "2023-03-01T23:17:58.736472Z",
     "iopub.status.busy": "2023-03-01T23:17:58.735711Z",
     "iopub.status.idle": "2023-03-01T23:17:58.744545Z",
     "shell.execute_reply": "2023-03-01T23:17:58.743046Z"
    },
    "papermill": {
     "duration": 0.01822,
     "end_time": "2023-03-01T23:17:58.747480",
     "exception": false,
     "start_time": "2023-03-01T23:17:58.729260",
     "status": "completed"
    },
    "tags": []
   },
   "outputs": [
    {
     "data": {
      "text/plain": [
       "(1599, 12)"
      ]
     },
     "execution_count": 3,
     "metadata": {},
     "output_type": "execute_result"
    }
   ],
   "source": [
    "red_wine.shape # (rows, columns)"
   ]
  },
  {
   "cell_type": "markdown",
   "id": "98262e51",
   "metadata": {
    "papermill": {
     "duration": 0.007413,
     "end_time": "2023-03-01T23:17:58.760727",
     "exception": false,
     "start_time": "2023-03-01T23:17:58.753314",
     "status": "completed"
    },
    "tags": []
   },
   "source": [
    "# 1) Input shape #\n",
    "\n",
    "How well can we predict a wine's perceived quality from the physiochemical measurements?  \n",
    "\n",
    "The target is `'quality'`, and the remaining columns are the features.  How would you set the `input_shape` parameter for a Keras model on this task?"
   ]
  },
  {
   "cell_type": "code",
   "execution_count": 4,
   "id": "d6894ee3",
   "metadata": {
    "execution": {
     "iopub.execute_input": "2023-03-01T23:17:58.774750Z",
     "iopub.status.busy": "2023-03-01T23:17:58.774298Z",
     "iopub.status.idle": "2023-03-01T23:17:58.781167Z",
     "shell.execute_reply": "2023-03-01T23:17:58.780255Z"
    },
    "papermill": {
     "duration": 0.016818,
     "end_time": "2023-03-01T23:17:58.783568",
     "exception": false,
     "start_time": "2023-03-01T23:17:58.766750",
     "status": "completed"
    },
    "tags": []
   },
   "outputs": [
    {
     "data": {
      "text/plain": [
       "11"
      ]
     },
     "execution_count": 4,
     "metadata": {},
     "output_type": "execute_result"
    }
   ],
   "source": [
    "len([col for col in red_wine.columns.tolist() if col!='quality'])"
   ]
  },
  {
   "cell_type": "code",
   "execution_count": 5,
   "id": "5b7b575f",
   "metadata": {
    "execution": {
     "iopub.execute_input": "2023-03-01T23:17:58.797837Z",
     "iopub.status.busy": "2023-03-01T23:17:58.796823Z",
     "iopub.status.idle": "2023-03-01T23:17:58.807776Z",
     "shell.execute_reply": "2023-03-01T23:17:58.806557Z"
    },
    "lines_to_next_cell": 0,
    "papermill": {
     "duration": 0.021149,
     "end_time": "2023-03-01T23:17:58.810582",
     "exception": false,
     "start_time": "2023-03-01T23:17:58.789433",
     "status": "completed"
    },
    "tags": []
   },
   "outputs": [
    {
     "data": {
      "application/javascript": [
       "parent.postMessage({\"jupyterEvent\": \"custom.exercise_interaction\", \"data\": {\"outcomeType\": 1, \"valueTowardsCompletion\": 0.3333333333333333, \"interactionType\": 1, \"questionType\": 2, \"questionId\": \"1_Q1\", \"learnToolsVersion\": \"0.3.4\", \"failureMessage\": \"\", \"exceptionClass\": \"\", \"trace\": \"\"}}, \"*\")"
      ],
      "text/plain": [
       "<IPython.core.display.Javascript object>"
      ]
     },
     "metadata": {},
     "output_type": "display_data"
    },
    {
     "data": {
      "text/markdown": [
       "<span style=\"color:#33cc33\">Correct</span>"
      ],
      "text/plain": [
       "Correct"
      ]
     },
     "metadata": {},
     "output_type": "display_data"
    }
   ],
   "source": [
    "# YOUR CODE HERE\n",
    "input_shape = [len([col for col in red_wine.columns.tolist() if col!='quality'])]\n",
    "\n",
    "# Check your answer\n",
    "q_1.check()"
   ]
  },
  {
   "cell_type": "code",
   "execution_count": 6,
   "id": "e3eb4801",
   "metadata": {
    "execution": {
     "iopub.execute_input": "2023-03-01T23:17:58.824561Z",
     "iopub.status.busy": "2023-03-01T23:17:58.824064Z",
     "iopub.status.idle": "2023-03-01T23:17:58.829082Z",
     "shell.execute_reply": "2023-03-01T23:17:58.827926Z"
    },
    "papermill": {
     "duration": 0.014999,
     "end_time": "2023-03-01T23:17:58.831588",
     "exception": false,
     "start_time": "2023-03-01T23:17:58.816589",
     "status": "completed"
    },
    "tags": []
   },
   "outputs": [],
   "source": [
    "# Lines below will give you a hint or solution code\n",
    "#q_1.hint()\n",
    "# q_1.solution()"
   ]
  },
  {
   "cell_type": "markdown",
   "id": "45461004",
   "metadata": {
    "papermill": {
     "duration": 0.005465,
     "end_time": "2023-03-01T23:17:58.843001",
     "exception": false,
     "start_time": "2023-03-01T23:17:58.837536",
     "status": "completed"
    },
    "tags": []
   },
   "source": [
    "# 2) Define a linear model\n",
    "\n",
    "Now define a linear model appropriate for this task. Pay attention to how many inputs and outputs the model should have."
   ]
  },
  {
   "cell_type": "code",
   "execution_count": 7,
   "id": "83dcfa53",
   "metadata": {
    "execution": {
     "iopub.execute_input": "2023-03-01T23:17:58.858025Z",
     "iopub.status.busy": "2023-03-01T23:17:58.857600Z",
     "iopub.status.idle": "2023-03-01T23:17:59.027928Z",
     "shell.execute_reply": "2023-03-01T23:17:59.026541Z"
    },
    "lines_to_next_cell": 0,
    "papermill": {
     "duration": 0.181861,
     "end_time": "2023-03-01T23:17:59.030635",
     "exception": false,
     "start_time": "2023-03-01T23:17:58.848774",
     "status": "completed"
    },
    "tags": []
   },
   "outputs": [
    {
     "data": {
      "application/javascript": [
       "parent.postMessage({\"jupyterEvent\": \"custom.exercise_interaction\", \"data\": {\"outcomeType\": 1, \"valueTowardsCompletion\": 0.3333333333333333, \"interactionType\": 1, \"questionType\": 2, \"questionId\": \"2_Q2\", \"learnToolsVersion\": \"0.3.4\", \"failureMessage\": \"\", \"exceptionClass\": \"\", \"trace\": \"\"}}, \"*\")"
      ],
      "text/plain": [
       "<IPython.core.display.Javascript object>"
      ]
     },
     "metadata": {},
     "output_type": "display_data"
    },
    {
     "data": {
      "text/markdown": [
       "<span style=\"color:#33cc33\">Correct</span>"
      ],
      "text/plain": [
       "Correct"
      ]
     },
     "metadata": {},
     "output_type": "display_data"
    }
   ],
   "source": [
    "from tensorflow import keras\n",
    "from tensorflow.keras import layers\n",
    "\n",
    "# YOUR CODE HERE\n",
    "model = keras.Sequential([layers.Dense(units=1, input_shape=[11])])\n",
    "\n",
    "# Check your answer\n",
    "q_2.check()"
   ]
  },
  {
   "cell_type": "code",
   "execution_count": 8,
   "id": "ff0675ba",
   "metadata": {
    "execution": {
     "iopub.execute_input": "2023-03-01T23:17:59.044600Z",
     "iopub.status.busy": "2023-03-01T23:17:59.044006Z",
     "iopub.status.idle": "2023-03-01T23:17:59.049009Z",
     "shell.execute_reply": "2023-03-01T23:17:59.047605Z"
    },
    "papermill": {
     "duration": 0.015011,
     "end_time": "2023-03-01T23:17:59.051619",
     "exception": false,
     "start_time": "2023-03-01T23:17:59.036608",
     "status": "completed"
    },
    "tags": []
   },
   "outputs": [],
   "source": [
    "# Lines below will give you a hint or solution code\n",
    "#q_2.hint()\n",
    "#q_2.solution()"
   ]
  },
  {
   "cell_type": "markdown",
   "id": "f7bb8f6f",
   "metadata": {
    "papermill": {
     "duration": 0.005671,
     "end_time": "2023-03-01T23:17:59.063311",
     "exception": false,
     "start_time": "2023-03-01T23:17:59.057640",
     "status": "completed"
    },
    "tags": []
   },
   "source": [
    "# 3) Look at the weights\n",
    "\n",
    "Internally, Keras represents the weights of a neural network with **tensors**. Tensors are basically TensorFlow's version of a Numpy array with a few differences that make them better suited to deep learning. One of the most important is that tensors are compatible with [GPU](https://www.kaggle.com/docs/efficient-gpu-usage) and [TPU](https://www.kaggle.com/docs/tpu)) accelerators. TPUs, in fact, are designed specifically for tensor computations.\n",
    "\n",
    "A model's weights are kept in its `weights` attribute as a list of tensors. Get the weights of the model you defined above. (If you want, you could display the weights with something like: `print(\"Weights\\n{}\\n\\nBias\\n{}\".format(w, b))`)."
   ]
  },
  {
   "cell_type": "code",
   "execution_count": 9,
   "id": "82408cfe",
   "metadata": {
    "execution": {
     "iopub.execute_input": "2023-03-01T23:17:59.076885Z",
     "iopub.status.busy": "2023-03-01T23:17:59.076455Z",
     "iopub.status.idle": "2023-03-01T23:17:59.094149Z",
     "shell.execute_reply": "2023-03-01T23:17:59.092384Z"
    },
    "lines_to_next_cell": 0,
    "papermill": {
     "duration": 0.027577,
     "end_time": "2023-03-01T23:17:59.096829",
     "exception": false,
     "start_time": "2023-03-01T23:17:59.069252",
     "status": "completed"
    },
    "tags": []
   },
   "outputs": [
    {
     "name": "stdout",
     "output_type": "stream",
     "text": [
      "Weights\n",
      "<tf.Variable 'dense/kernel:0' shape=(11, 1) dtype=float32, numpy=\n",
      "array([[-0.25949562],\n",
      "       [-0.6184989 ],\n",
      "       [ 0.6253913 ],\n",
      "       [-0.50798434],\n",
      "       [ 0.10416526],\n",
      "       [ 0.10316151],\n",
      "       [ 0.61138624],\n",
      "       [-0.19417101],\n",
      "       [ 0.6666798 ],\n",
      "       [ 0.01930106],\n",
      "       [ 0.549831  ]], dtype=float32)>\n",
      "\n",
      "Bias\n",
      "<tf.Variable 'dense/bias:0' shape=(1,) dtype=float32, numpy=array([0.], dtype=float32)>\n"
     ]
    },
    {
     "data": {
      "application/javascript": [
       "parent.postMessage({\"jupyterEvent\": \"custom.exercise_interaction\", \"data\": {\"outcomeType\": 1, \"valueTowardsCompletion\": 0.3333333333333333, \"interactionType\": 1, \"questionType\": 2, \"questionId\": \"3_Q3\", \"learnToolsVersion\": \"0.3.4\", \"failureMessage\": \"\", \"exceptionClass\": \"\", \"trace\": \"\"}}, \"*\")"
      ],
      "text/plain": [
       "<IPython.core.display.Javascript object>"
      ]
     },
     "metadata": {},
     "output_type": "display_data"
    },
    {
     "data": {
      "text/markdown": [
       "<span style=\"color:#33cc33\">Correct:</span> Do you see how there's one weight for each input (and a bias)? Notice though that there doesn't seem to be any pattern to the values the weights have. Before the model is trained, the weights are set to random numbers (and the bias to 0.0). A neural network learns by finding better values for its weights.\n"
      ],
      "text/plain": [
       "Correct: Do you see how there's one weight for each input (and a bias)? Notice though that there doesn't seem to be any pattern to the values the weights have. Before the model is trained, the weights are set to random numbers (and the bias to 0.0). A neural network learns by finding better values for its weights."
      ]
     },
     "metadata": {},
     "output_type": "display_data"
    }
   ],
   "source": [
    "# YOUR CODE HERE\n",
    "w, b = model.weights\n",
    "print(\"Weights\\n{}\\n\\nBias\\n{}\".format(w, b))\n",
    "# Check your answer\n",
    "q_3.check()"
   ]
  },
  {
   "cell_type": "code",
   "execution_count": 10,
   "id": "574c1498",
   "metadata": {
    "execution": {
     "iopub.execute_input": "2023-03-01T23:17:59.112333Z",
     "iopub.status.busy": "2023-03-01T23:17:59.110995Z",
     "iopub.status.idle": "2023-03-01T23:17:59.116150Z",
     "shell.execute_reply": "2023-03-01T23:17:59.115304Z"
    },
    "lines_to_next_cell": 0,
    "papermill": {
     "duration": 0.01511,
     "end_time": "2023-03-01T23:17:59.118371",
     "exception": false,
     "start_time": "2023-03-01T23:17:59.103261",
     "status": "completed"
    },
    "tags": []
   },
   "outputs": [],
   "source": [
    "# Lines below will give you a hint or solution code\n",
    "#q_3.hint()\n",
    "# q_3.solution()"
   ]
  },
  {
   "cell_type": "markdown",
   "id": "e4d3b3f1",
   "metadata": {
    "papermill": {
     "duration": 0.006148,
     "end_time": "2023-03-01T23:17:59.130805",
     "exception": false,
     "start_time": "2023-03-01T23:17:59.124657",
     "status": "completed"
    },
    "tags": []
   },
   "source": [
    "(By the way, Keras represents weights as tensors, but also uses tensors to represent data. When you set the `input_shape` argument, you are telling Keras the dimensions of the array it should expect for each example in the training data. Setting `input_shape=[3]` would create a network accepting vectors of length 3, like `[0.2, 0.4, 0.6]`.)\n",
    " \n",
    "\n",
    "# Optional: Plot the output of an untrained linear model\n",
    " \n",
    "The kinds of problems we'll work on through Lesson 5 will be *regression* problems, where the goal is to predict some numeric target. Regression problems are like \"curve-fitting\" problems: we're trying to find a curve that best fits the data. Let's take a look at the \"curve\" produced by a linear model. (You've probably guessed that it's a line!)\n",
    " \n",
    "We mentioned that before training a model's weights are set randomly. Run the cell below a few times to see the different lines produced with a random initialization. (There's no coding for this exercise -- it's just a demonstration.)"
   ]
  },
  {
   "cell_type": "code",
   "execution_count": 11,
   "id": "6e671336",
   "metadata": {
    "execution": {
     "iopub.execute_input": "2023-03-01T23:17:59.146016Z",
     "iopub.status.busy": "2023-03-01T23:17:59.145248Z",
     "iopub.status.idle": "2023-03-01T23:17:59.893429Z",
     "shell.execute_reply": "2023-03-01T23:17:59.892052Z"
    },
    "lines_to_next_cell": 0,
    "papermill": {
     "duration": 0.759071,
     "end_time": "2023-03-01T23:17:59.896280",
     "exception": false,
     "start_time": "2023-03-01T23:17:59.137209",
     "status": "completed"
    },
    "tags": []
   },
   "outputs": [
    {
     "name": "stdout",
     "output_type": "stream",
     "text": [
      "4/4 [==============================] - 0s 2ms/step\n"
     ]
    },
    {
     "data": {
      "image/png": "[encoded data removed]",
      "text/plain": [
       "<Figure size 640x480 with 1 Axes>"
      ]
     },
     "metadata": {},
     "output_type": "display_data"
    }
   ],
   "source": [
    "import tensorflow as tf\n",
    "import matplotlib.pyplot as plt\n",
    "\n",
    "model = keras.Sequential([\n",
    "    layers.Dense(1, input_shape=[1]),\n",
    "])\n",
    "\n",
    "x = tf.linspace(-1.0, 1.0, 100)\n",
    "y = model.predict(x)\n",
    "\n",
    "plt.figure(dpi=100)\n",
    "plt.plot(x, y, 'k')\n",
    "plt.xlim(-1, 1)\n",
    "plt.ylim(-1, 1)\n",
    "plt.xlabel(\"Input: x\")\n",
    "plt.ylabel(\"Target y\")\n",
    "w, b = model.weights # you could also use model.get_weights() here\n",
    "plt.title(\"Weight: {:0.2f}\\nBias: {:0.2f}\".format(w[0][0], b[0]))\n",
    "plt.show()"
   ]
  },
  {
   "cell_type": "markdown",
   "id": "0e9c08ed",
   "metadata": {
    "papermill": {
     "duration": 0.006904,
     "end_time": "2023-03-01T23:17:59.910453",
     "exception": false,
     "start_time": "2023-03-01T23:17:59.903549",
     "status": "completed"
    },
    "tags": []
   },
   "source": [
    "# Keep Going #\n",
    "\n",
    "Add hidden layers and [**make your models deep**](https://www.kaggle.com/ryanholbrook/deep-neural-networks) in Lesson 2."
   ]
  },
  {
   "cell_type": "markdown",
   "id": "a48902a6",
   "metadata": {
    "papermill": {
     "duration": 0.006812,
     "end_time": "2023-03-01T23:17:59.924763",
     "exception": false,
     "start_time": "2023-03-01T23:17:59.917951",
     "status": "completed"
    },
    "tags": []
   },
   "source": [
    "---\n",
    "\n",
    "\n",
    "\n",
    "\n",
    "*Have questions or comments? Visit the [course discussion forum](https://www.kaggle.com/learn/intro-to-deep-learning/discussion) to chat with other learners.*"
   ]
  }
 ],
 "metadata": {
  "kernelspec": {
   "display_name": "Python 3",
   "language": "python",
   "name": "python3"
  },
  "language_info": {
   "codemirror_mode": {
    "name": "ipython",
    "version": 3
   },
   "file_extension": ".py",
   "mimetype": "text/x-python",
   "name": "python",
   "nbconvert_exporter": "python",
   "pygments_lexer": "ipython3",
   "version": "3.7.12"
  },
  "papermill": {
   "default_parameters": {},
   "duration": 26.33509,
   "end_time": "2023-03-01T23:18:03.491784",
   "environment_variables": {},
   "exception": null,
   "input_path": "__notebook__.ipynb",
   "output_path": "__notebook__.ipynb",
   "parameters": {},
   "start_time": "2023-03-01T23:17:37.156694",
   "version": "2.4.0"
  }
 },
 "nbformat": 4,
 "nbformat_minor": 5
}
