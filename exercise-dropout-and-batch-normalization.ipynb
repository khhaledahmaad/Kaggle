{
 "cells": [
  {
   "cell_type": "markdown",
   "id": "90e765ad",
   "metadata": {
    "papermill": {
     "duration": 0.005671,
     "end_time": "2023-03-04T00:49:19.129708",
     "exception": false,
     "start_time": "2023-03-04T00:49:19.124037",
     "status": "completed"
    },
    "tags": []
   },
   "source": [
    "**This notebook is an exercise in the [Intro to Deep Learning](https://www.kaggle.com/learn/intro-to-deep-learning) course.  You can reference the tutorial at [this link](https://www.kaggle.com/ryanholbrook/dropout-and-batch-normalization).**\n",
    "\n",
    "---\n"
   ]
  },
  {
   "cell_type": "markdown",
   "id": "a384c078",
   "metadata": {
    "papermill": {
     "duration": 0.004218,
     "end_time": "2023-03-04T00:49:19.138618",
     "exception": false,
     "start_time": "2023-03-04T00:49:19.134400",
     "status": "completed"
    },
    "tags": []
   },
   "source": [
    "# Introduction #\n",
    "\n",
    "In this exercise, you'll add dropout to the *Spotify* model from Exercise 4 and see how batch normalization can let you successfully train models on difficult datasets.\n",
    "\n",
    "Run the next cell to get started!"
   ]
  },
  {
   "cell_type": "code",
   "execution_count": 1,
   "id": "663a2abe",
   "metadata": {
    "execution": {
     "iopub.execute_input": "2023-03-04T00:49:19.150560Z",
     "iopub.status.busy": "2023-03-04T00:49:19.149363Z",
     "iopub.status.idle": "2023-03-04T00:49:19.181928Z",
     "shell.execute_reply": "2023-03-04T00:49:19.181002Z"
    },
    "papermill": {
     "duration": 0.040627,
     "end_time": "2023-03-04T00:49:19.184171",
     "exception": false,
     "start_time": "2023-03-04T00:49:19.143544",
     "status": "completed"
    },
    "tags": []
   },
   "outputs": [],
   "source": [
    "# Setup plotting\n",
    "import matplotlib.pyplot as plt\n",
    "plt.style.use('seaborn-whitegrid')\n",
    "# Set Matplotlib defaults\n",
    "plt.rc('figure', autolayout=True)\n",
    "plt.rc('axes', labelweight='bold', labelsize='large',\n",
    "       titleweight='bold', titlesize=18, titlepad=10)\n",
    "plt.rc('animation', html='html5')\n",
    "\n",
    "# Setup feedback system\n",
    "from learntools.core import binder\n",
    "binder.bind(globals())\n",
    "from learntools.deep_learning_intro.ex5 import *"
   ]
  },
  {
   "cell_type": "markdown",
   "id": "f338423e",
   "metadata": {
    "papermill": {
     "duration": 0.004249,
     "end_time": "2023-03-04T00:49:19.193023",
     "exception": false,
     "start_time": "2023-03-04T00:49:19.188774",
     "status": "completed"
    },
    "tags": []
   },
   "source": [
    "First load the *Spotify* dataset."
   ]
  },
  {
   "cell_type": "code",
   "execution_count": 2,
   "id": "4f7cc9da",
   "metadata": {
    "execution": {
     "iopub.execute_input": "2023-03-04T00:49:19.203225Z",
     "iopub.status.busy": "2023-03-04T00:49:19.202948Z",
     "iopub.status.idle": "2023-03-04T00:49:27.352658Z",
     "shell.execute_reply": "2023-03-04T00:49:27.351496Z"
    },
    "papermill": {
     "duration": 8.15819,
     "end_time": "2023-03-04T00:49:27.355608",
     "exception": false,
     "start_time": "2023-03-04T00:49:19.197418",
     "status": "completed"
    },
    "tags": []
   },
   "outputs": [
    {
     "name": "stdout",
     "output_type": "stream",
     "text": [
      "Input shape: [18]\n"
     ]
    }
   ],
   "source": [
    "import pandas as pd\n",
    "from sklearn.preprocessing import StandardScaler, OneHotEncoder\n",
    "from sklearn.compose import make_column_transformer\n",
    "from sklearn.model_selection import GroupShuffleSplit\n",
    "\n",
    "from tensorflow import keras\n",
    "from tensorflow.keras import layers\n",
    "from tensorflow.keras import callbacks\n",
    "\n",
    "spotify = pd.read_csv('../input/dl-course-data/spotify.csv')\n",
    "\n",
    "X = spotify.copy().dropna()\n",
    "y = X.pop('track_popularity')\n",
    "artists = X['track_artist']\n",
    "\n",
    "features_num = ['danceability', 'energy', 'key', 'loudness', 'mode',\n",
    "                'speechiness', 'acousticness', 'instrumentalness',\n",
    "                'liveness', 'valence', 'tempo', 'duration_ms']\n",
    "features_cat = ['playlist_genre']\n",
    "\n",
    "preprocessor = make_column_transformer(\n",
    "    (StandardScaler(), features_num),\n",
    "    (OneHotEncoder(), features_cat),\n",
    ")\n",
    "\n",
    "def group_split(X, y, group, train_size=0.75):\n",
    "    splitter = GroupShuffleSplit(train_size=train_size)\n",
    "    train, test = next(splitter.split(X, y, groups=group))\n",
    "    return (X.iloc[train], X.iloc[test], y.iloc[train], y.iloc[test])\n",
    "\n",
    "X_train, X_valid, y_train, y_valid = group_split(X, y, artists)\n",
    "\n",
    "X_train = preprocessor.fit_transform(X_train)\n",
    "X_valid = preprocessor.transform(X_valid)\n",
    "y_train = y_train / 100\n",
    "y_valid = y_valid / 100\n",
    "\n",
    "input_shape = [X_train.shape[1]]\n",
    "print(\"Input shape: {}\".format(input_shape))"
   ]
  },
  {
   "cell_type": "markdown",
   "id": "7b6782ae",
   "metadata": {
    "papermill": {
     "duration": 0.004374,
     "end_time": "2023-03-04T00:49:27.365146",
     "exception": false,
     "start_time": "2023-03-04T00:49:27.360772",
     "status": "completed"
    },
    "tags": []
   },
   "source": [
    "# 1) Add Dropout to Spotify Model\n",
    "\n",
    "Here is the last model from Exercise 4. Add two dropout layers, one after the `Dense` layer with 128 units, and one after the `Dense` layer with 64 units. Set the dropout rate on both to `0.3`."
   ]
  },
  {
   "cell_type": "code",
   "execution_count": 3,
   "id": "91a49089",
   "metadata": {
    "execution": {
     "iopub.execute_input": "2023-03-04T00:49:27.376050Z",
     "iopub.status.busy": "2023-03-04T00:49:27.375712Z",
     "iopub.status.idle": "2023-03-04T00:49:30.084303Z",
     "shell.execute_reply": "2023-03-04T00:49:30.083361Z"
    },
    "lines_to_next_cell": 2,
    "papermill": {
     "duration": 2.716526,
     "end_time": "2023-03-04T00:49:30.086246",
     "exception": false,
     "start_time": "2023-03-04T00:49:27.369720",
     "status": "completed"
    },
    "tags": []
   },
   "outputs": [
    {
     "data": {
      "application/javascript": [
       "parent.postMessage({\"jupyterEvent\": \"custom.exercise_interaction\", \"data\": {\"outcomeType\": 1, \"valueTowardsCompletion\": 0.25, \"interactionType\": 1, \"questionType\": 2, \"questionId\": \"1_Q1\", \"learnToolsVersion\": \"0.3.4\", \"failureMessage\": \"\", \"exceptionClass\": \"\", \"trace\": \"\"}}, \"*\")"
      ],
      "text/plain": [
       "<IPython.core.display.Javascript object>"
      ]
     },
     "metadata": {},
     "output_type": "display_data"
    },
    {
     "data": {
      "text/markdown": [
       "<span style=\"color:#33cc33\">Correct</span>"
      ],
      "text/plain": [
       "Correct"
      ]
     },
     "metadata": {},
     "output_type": "display_data"
    }
   ],
   "source": [
    "# YOUR CODE HERE: Add two 30% dropout layers, one after 128 and one after 64\n",
    "model = keras.Sequential([\n",
    "    layers.Dense(128, activation='relu', input_shape=input_shape),\n",
    "    layers.Dropout(0.3),\n",
    "    layers.Dense(64, activation='relu'),\n",
    "    layers.Dropout(0.3),\n",
    "    layers.Dense(1)\n",
    "])\n",
    "\n",
    "# Check your answer\n",
    "q_1.check()"
   ]
  },
  {
   "cell_type": "code",
   "execution_count": 4,
   "id": "6f53c1a8",
   "metadata": {
    "execution": {
     "iopub.execute_input": "2023-03-04T00:49:30.097363Z",
     "iopub.status.busy": "2023-03-04T00:49:30.097053Z",
     "iopub.status.idle": "2023-03-04T00:49:30.100989Z",
     "shell.execute_reply": "2023-03-04T00:49:30.099949Z"
    },
    "papermill": {
     "duration": 0.012,
     "end_time": "2023-03-04T00:49:30.103111",
     "exception": false,
     "start_time": "2023-03-04T00:49:30.091111",
     "status": "completed"
    },
    "tags": []
   },
   "outputs": [],
   "source": [
    "# Lines below will give you a hint or solution code\n",
    "#q_1.hint()\n",
    "#q_1.solution()"
   ]
  },
  {
   "cell_type": "markdown",
   "id": "9ae8d014",
   "metadata": {
    "papermill": {
     "duration": 0.004553,
     "end_time": "2023-03-04T00:49:30.112394",
     "exception": false,
     "start_time": "2023-03-04T00:49:30.107841",
     "status": "completed"
    },
    "tags": []
   },
   "source": [
    "Now run this next cell to train the model see the effect of adding dropout."
   ]
  },
  {
   "cell_type": "code",
   "execution_count": 5,
   "id": "cb9f1537",
   "metadata": {
    "execution": {
     "iopub.execute_input": "2023-03-04T00:49:30.123143Z",
     "iopub.status.busy": "2023-03-04T00:49:30.122869Z",
     "iopub.status.idle": "2023-03-04T00:49:43.739285Z",
     "shell.execute_reply": "2023-03-04T00:49:43.738276Z"
    },
    "papermill": {
     "duration": 13.624419,
     "end_time": "2023-03-04T00:49:43.741485",
     "exception": false,
     "start_time": "2023-03-04T00:49:30.117066",
     "status": "completed"
    },
    "tags": []
   },
   "outputs": [
    {
     "name": "stdout",
     "output_type": "stream",
     "text": [
      "Minimum Validation Loss: 0.1951\n"
     ]
    },
    {
     "data": {
      "image/png": "[encoded data removed]",
      "text/plain": [
       "<Figure size 640x480 with 1 Axes>"
      ]
     },
     "metadata": {},
     "output_type": "display_data"
    }
   ],
   "source": [
    "model.compile(\n",
    "    optimizer='adam',\n",
    "    loss='mae',\n",
    ")\n",
    "history = model.fit(\n",
    "    X_train, y_train,\n",
    "    validation_data=(X_valid, y_valid),\n",
    "    batch_size=512,\n",
    "    epochs=50,\n",
    "    verbose=0,\n",
    ")\n",
    "history_df = pd.DataFrame(history.history)\n",
    "history_df.loc[:, ['loss', 'val_loss']].plot()\n",
    "print(\"Minimum Validation Loss: {:0.4f}\".format(history_df['val_loss'].min()))"
   ]
  },
  {
   "cell_type": "markdown",
   "id": "5285cd3b",
   "metadata": {
    "papermill": {
     "duration": 0.005031,
     "end_time": "2023-03-04T00:49:43.751941",
     "exception": false,
     "start_time": "2023-03-04T00:49:43.746910",
     "status": "completed"
    },
    "tags": []
   },
   "source": [
    "# 2) Evaluate Dropout\n",
    "\n",
    "Recall from Exercise 4 that this model tended to overfit the data around epoch 5. Did adding dropout seem to help prevent overfitting this time?"
   ]
  },
  {
   "cell_type": "code",
   "execution_count": 6,
   "id": "c5907b0c",
   "metadata": {
    "execution": {
     "iopub.execute_input": "2023-03-04T00:49:43.765156Z",
     "iopub.status.busy": "2023-03-04T00:49:43.763438Z",
     "iopub.status.idle": "2023-03-04T00:49:43.773359Z",
     "shell.execute_reply": "2023-03-04T00:49:43.772406Z"
    },
    "papermill": {
     "duration": 0.018479,
     "end_time": "2023-03-04T00:49:43.775633",
     "exception": false,
     "start_time": "2023-03-04T00:49:43.757154",
     "status": "completed"
    },
    "tags": []
   },
   "outputs": [
    {
     "data": {
      "application/javascript": [
       "parent.postMessage({\"jupyterEvent\": \"custom.exercise_interaction\", \"data\": {\"outcomeType\": 1, \"valueTowardsCompletion\": 0.25, \"interactionType\": 1, \"questionType\": 4, \"questionId\": \"2_Q2\", \"learnToolsVersion\": \"0.3.4\", \"failureMessage\": \"\", \"exceptionClass\": \"\", \"trace\": \"\"}}, \"*\")"
      ],
      "text/plain": [
       "<IPython.core.display.Javascript object>"
      ]
     },
     "metadata": {},
     "output_type": "display_data"
    },
    {
     "data": {
      "text/markdown": [
       "<span style=\"color:#33cc33\">Correct:</span> \n",
       "\n",
       "\n",
       "From the learning curves, you can see that the validation loss remains near a constant minimum even though the training loss continues to decrease. So we can see that adding dropout did prevent overfitting this time. Moreover, by making it harder for the network to fit spurious patterns, dropout may have encouraged the network to seek out more of the true patterns, possibly improving the validation loss some as well).\n"
      ],
      "text/plain": [
       "Correct: \n",
       "\n",
       "\n",
       "From the learning curves, you can see that the validation loss remains near a constant minimum even though the training loss continues to decrease. So we can see that adding dropout did prevent overfitting this time. Moreover, by making it harder for the network to fit spurious patterns, dropout may have encouraged the network to seek out more of the true patterns, possibly improving the validation loss some as well)."
      ]
     },
     "metadata": {},
     "output_type": "display_data"
    }
   ],
   "source": [
    "# View the solution (Run this cell to receive credit!)\n",
    "q_2.check()"
   ]
  },
  {
   "cell_type": "markdown",
   "id": "2742f36d",
   "metadata": {
    "papermill": {
     "duration": 0.00514,
     "end_time": "2023-03-04T00:49:43.786074",
     "exception": false,
     "start_time": "2023-03-04T00:49:43.780934",
     "status": "completed"
    },
    "tags": []
   },
   "source": [
    "Now, we'll switch topics to explore how batch normalization can fix problems in training.\n",
    "\n",
    "Load the *Concrete* dataset. We won't do any standardization this time. This will make the effect of batch normalization much more apparent."
   ]
  },
  {
   "cell_type": "code",
   "execution_count": 7,
   "id": "858cc68a",
   "metadata": {
    "execution": {
     "iopub.execute_input": "2023-03-04T00:49:43.798181Z",
     "iopub.status.busy": "2023-03-04T00:49:43.797907Z",
     "iopub.status.idle": "2023-03-04T00:49:43.817631Z",
     "shell.execute_reply": "2023-03-04T00:49:43.816714Z"
    },
    "papermill": {
     "duration": 0.028295,
     "end_time": "2023-03-04T00:49:43.819770",
     "exception": false,
     "start_time": "2023-03-04T00:49:43.791475",
     "status": "completed"
    },
    "tags": []
   },
   "outputs": [],
   "source": [
    "import pandas as pd\n",
    "\n",
    "concrete = pd.read_csv('../input/dl-course-data/concrete.csv')\n",
    "df = concrete.copy()\n",
    "\n",
    "df_train = df.sample(frac=0.7, random_state=0)\n",
    "df_valid = df.drop(df_train.index)\n",
    "\n",
    "X_train = df_train.drop('CompressiveStrength', axis=1)\n",
    "X_valid = df_valid.drop('CompressiveStrength', axis=1)\n",
    "y_train = df_train['CompressiveStrength']\n",
    "y_valid = df_valid['CompressiveStrength']\n",
    "\n",
    "input_shape = [X_train.shape[1]]"
   ]
  },
  {
   "cell_type": "markdown",
   "id": "510de4fd",
   "metadata": {
    "papermill": {
     "duration": 0.005169,
     "end_time": "2023-03-04T00:49:43.830312",
     "exception": false,
     "start_time": "2023-03-04T00:49:43.825143",
     "status": "completed"
    },
    "tags": []
   },
   "source": [
    "Run the following cell to train the network on the unstandardized *Concrete* data."
   ]
  },
  {
   "cell_type": "code",
   "execution_count": 8,
   "id": "293f13e8",
   "metadata": {
    "execution": {
     "iopub.execute_input": "2023-03-04T00:49:43.842273Z",
     "iopub.status.busy": "2023-03-04T00:49:43.842003Z",
     "iopub.status.idle": "2023-03-04T00:49:51.327373Z",
     "shell.execute_reply": "2023-03-04T00:49:51.326392Z"
    },
    "papermill": {
     "duration": 7.494413,
     "end_time": "2023-03-04T00:49:51.330175",
     "exception": false,
     "start_time": "2023-03-04T00:49:43.835762",
     "status": "completed"
    },
    "tags": []
   },
   "outputs": [
    {
     "name": "stdout",
     "output_type": "stream",
     "text": [
      "Minimum Validation Loss: nan\n"
     ]
    },
    {
     "data": {
      "image/png": "[encoded data removed]",
      "text/plain": [
       "<Figure size 640x480 with 1 Axes>"
      ]
     },
     "metadata": {},
     "output_type": "display_data"
    }
   ],
   "source": [
    "model = keras.Sequential([\n",
    "    layers.Dense(512, activation='relu', input_shape=input_shape),\n",
    "    layers.Dense(512, activation='relu'),    \n",
    "    layers.Dense(512, activation='relu'),\n",
    "    layers.Dense(1),\n",
    "])\n",
    "model.compile(\n",
    "    optimizer='sgd', # SGD is more sensitive to differences of scale\n",
    "    loss='mae',\n",
    "    metrics=['mae'],\n",
    ")\n",
    "history = model.fit(\n",
    "    X_train, y_train,\n",
    "    validation_data=(X_valid, y_valid),\n",
    "    batch_size=64,\n",
    "    epochs=100,\n",
    "    verbose=0,\n",
    ")\n",
    "\n",
    "history_df = pd.DataFrame(history.history)\n",
    "history_df.loc[0:, ['loss', 'val_loss']].plot()\n",
    "print((\"Minimum Validation Loss: {:0.4f}\").format(history_df['val_loss'].min()))"
   ]
  },
  {
   "cell_type": "markdown",
   "id": "1b8d01d0",
   "metadata": {
    "papermill": {
     "duration": 0.008064,
     "end_time": "2023-03-04T00:49:51.347271",
     "exception": false,
     "start_time": "2023-03-04T00:49:51.339207",
     "status": "completed"
    },
    "tags": []
   },
   "source": [
    "Did you end up with a blank graph? Trying to train this network on this dataset will usually fail. Even when it does converge (due to a lucky weight initialization), it tends to converge to a very large number.\n",
    "\n",
    "# 3) Add Batch Normalization Layers\n",
    "\n",
    "Batch normalization can help correct problems like this.\n",
    "\n",
    "Add four `BatchNormalization` layers, one before each of the dense layers. (Remember to move the `input_shape` argument to the new first layer.)"
   ]
  },
  {
   "cell_type": "code",
   "execution_count": 9,
   "id": "4b7029f9",
   "metadata": {
    "execution": {
     "iopub.execute_input": "2023-03-04T00:49:51.365172Z",
     "iopub.status.busy": "2023-03-04T00:49:51.364832Z",
     "iopub.status.idle": "2023-03-04T00:49:51.394681Z",
     "shell.execute_reply": "2023-03-04T00:49:51.393365Z"
    },
    "lines_to_next_cell": 0,
    "papermill": {
     "duration": 0.041718,
     "end_time": "2023-03-04T00:49:51.397275",
     "exception": false,
     "start_time": "2023-03-04T00:49:51.355557",
     "status": "completed"
    },
    "tags": []
   },
   "outputs": [
    {
     "data": {
      "application/javascript": [
       "parent.postMessage({\"jupyterEvent\": \"custom.exercise_interaction\", \"data\": {\"outcomeType\": 1, \"valueTowardsCompletion\": 0.25, \"interactionType\": 1, \"questionType\": 2, \"questionId\": \"3_Q3\", \"learnToolsVersion\": \"0.3.4\", \"failureMessage\": \"\", \"exceptionClass\": \"\", \"trace\": \"\"}}, \"*\")"
      ],
      "text/plain": [
       "<IPython.core.display.Javascript object>"
      ]
     },
     "metadata": {},
     "output_type": "display_data"
    },
    {
     "data": {
      "text/markdown": [
       "<span style=\"color:#33cc33\">Correct</span>"
      ],
      "text/plain": [
       "Correct"
      ]
     },
     "metadata": {},
     "output_type": "display_data"
    }
   ],
   "source": [
    "# YOUR CODE HERE: Add a BatchNormalization layer before each Dense layer\n",
    "model = keras.Sequential([\n",
    "    layers.BatchNormalization(),\n",
    "    layers.Dense(512, activation='relu', input_shape=input_shape),\n",
    "    layers.BatchNormalization(),\n",
    "    layers.Dense(512, activation='relu'),\n",
    "    layers.BatchNormalization(),\n",
    "    layers.Dense(512, activation='relu'),\n",
    "    layers.BatchNormalization(),\n",
    "    layers.Dense(1),\n",
    "])\n",
    "\n",
    "# Check your answer\n",
    "q_3.check()"
   ]
  },
  {
   "cell_type": "code",
   "execution_count": 10,
   "id": "b2ebd172",
   "metadata": {
    "execution": {
     "iopub.execute_input": "2023-03-04T00:49:51.416553Z",
     "iopub.status.busy": "2023-03-04T00:49:51.416094Z",
     "iopub.status.idle": "2023-03-04T00:49:51.420498Z",
     "shell.execute_reply": "2023-03-04T00:49:51.419603Z"
    },
    "papermill": {
     "duration": 0.017758,
     "end_time": "2023-03-04T00:49:51.424414",
     "exception": false,
     "start_time": "2023-03-04T00:49:51.406656",
     "status": "completed"
    },
    "tags": []
   },
   "outputs": [],
   "source": [
    "# Lines below will give you a hint or solution code\n",
    "#q_3.hint()\n",
    "#q_3.solution()"
   ]
  },
  {
   "cell_type": "markdown",
   "id": "4e665fd0",
   "metadata": {
    "papermill": {
     "duration": 0.008262,
     "end_time": "2023-03-04T00:49:51.441131",
     "exception": false,
     "start_time": "2023-03-04T00:49:51.432869",
     "status": "completed"
    },
    "tags": []
   },
   "source": [
    "Run the next cell to see if batch normalization will let us train the model."
   ]
  },
  {
   "cell_type": "code",
   "execution_count": 11,
   "id": "d4a001f4",
   "metadata": {
    "execution": {
     "iopub.execute_input": "2023-03-04T00:49:51.459612Z",
     "iopub.status.busy": "2023-03-04T00:49:51.459162Z",
     "iopub.status.idle": "2023-03-04T00:50:03.324436Z",
     "shell.execute_reply": "2023-03-04T00:50:03.323448Z"
    },
    "papermill": {
     "duration": 11.877069,
     "end_time": "2023-03-04T00:50:03.326764",
     "exception": false,
     "start_time": "2023-03-04T00:49:51.449695",
     "status": "completed"
    },
    "tags": []
   },
   "outputs": [
    {
     "name": "stdout",
     "output_type": "stream",
     "text": [
      "Minimum Validation Loss: 4.0107\n"
     ]
    },
    {
     "data": {
      "image/png": "[encoded data removed]",
      "text/plain": [
       "<Figure size 640x480 with 1 Axes>"
      ]
     },
     "metadata": {},
     "output_type": "display_data"
    }
   ],
   "source": [
    "model.compile(\n",
    "    optimizer='sgd',\n",
    "    loss='mae',\n",
    "    metrics=['mae'],\n",
    ")\n",
    "EPOCHS = 100\n",
    "history = model.fit(\n",
    "    X_train, y_train,\n",
    "    validation_data=(X_valid, y_valid),\n",
    "    batch_size=64,\n",
    "    epochs=EPOCHS,\n",
    "    verbose=0,\n",
    ")\n",
    "\n",
    "history_df = pd.DataFrame(history.history)\n",
    "history_df.loc[0:, ['loss', 'val_loss']].plot()\n",
    "print((\"Minimum Validation Loss: {:0.4f}\").format(history_df['val_loss'].min()))"
   ]
  },
  {
   "cell_type": "markdown",
   "id": "a4b9d8f2",
   "metadata": {
    "papermill": {
     "duration": 0.007511,
     "end_time": "2023-03-04T00:50:03.341176",
     "exception": false,
     "start_time": "2023-03-04T00:50:03.333665",
     "status": "completed"
    },
    "tags": []
   },
   "source": [
    "# 4) Evaluate Batch Normalization\n",
    "\n",
    "Did adding batch normalization help?"
   ]
  },
  {
   "cell_type": "code",
   "execution_count": 12,
   "id": "07cd0396",
   "metadata": {
    "execution": {
     "iopub.execute_input": "2023-03-04T00:50:03.363824Z",
     "iopub.status.busy": "2023-03-04T00:50:03.361676Z",
     "iopub.status.idle": "2023-03-04T00:50:03.376557Z",
     "shell.execute_reply": "2023-03-04T00:50:03.375164Z"
    },
    "lines_to_next_cell": 0,
    "papermill": {
     "duration": 0.030704,
     "end_time": "2023-03-04T00:50:03.379416",
     "exception": false,
     "start_time": "2023-03-04T00:50:03.348712",
     "status": "completed"
    },
    "tags": []
   },
   "outputs": [
    {
     "data": {
      "application/javascript": [
       "parent.postMessage({\"jupyterEvent\": \"custom.exercise_interaction\", \"data\": {\"outcomeType\": 1, \"valueTowardsCompletion\": 0.25, \"interactionType\": 1, \"questionType\": 4, \"questionId\": \"4_Q4\", \"learnToolsVersion\": \"0.3.4\", \"failureMessage\": \"\", \"exceptionClass\": \"\", \"trace\": \"\"}}, \"*\")"
      ],
      "text/plain": [
       "<IPython.core.display.Javascript object>"
      ]
     },
     "metadata": {},
     "output_type": "display_data"
    },
    {
     "data": {
      "text/markdown": [
       "<span style=\"color:#33cc33\">Correct:</span> \n",
       "\n",
       "\n",
       "You can see that adding batch normalization was a big improvement on the first attempt! By adaptively scaling the data as it passes through the network, batch normalization can let you train models on difficult datasets.\n"
      ],
      "text/plain": [
       "Correct: \n",
       "\n",
       "\n",
       "You can see that adding batch normalization was a big improvement on the first attempt! By adaptively scaling the data as it passes through the network, batch normalization can let you train models on difficult datasets."
      ]
     },
     "metadata": {},
     "output_type": "display_data"
    }
   ],
   "source": [
    "# View the solution (Run this cell to receive credit!)\n",
    "q_4.check()"
   ]
  },
  {
   "cell_type": "markdown",
   "id": "00406e3c",
   "metadata": {
    "papermill": {
     "duration": 0.007665,
     "end_time": "2023-03-04T00:50:03.395745",
     "exception": false,
     "start_time": "2023-03-04T00:50:03.388080",
     "status": "completed"
    },
    "tags": []
   },
   "source": [
    "# Keep Going #\n",
    "\n",
    "[**Create neural networks**](https://www.kaggle.com/ryanholbrook/binary-classification) for binary classification."
   ]
  },
  {
   "cell_type": "markdown",
   "id": "c36a91ac",
   "metadata": {
    "papermill": {
     "duration": 0.007566,
     "end_time": "2023-03-04T00:50:03.411370",
     "exception": false,
     "start_time": "2023-03-04T00:50:03.403804",
     "status": "completed"
    },
    "tags": []
   },
   "source": [
    "---\n",
    "\n",
    "\n",
    "\n",
    "\n",
    "*Have questions or comments? Visit the [course discussion forum](https://www.kaggle.com/learn/intro-to-deep-learning/discussion) to chat with other learners.*"
   ]
  }
 ],
 "metadata": {
  "kernelspec": {
   "display_name": "Python 3",
   "language": "python",
   "name": "python3"
  },
  "language_info": {
   "codemirror_mode": {
    "name": "ipython",
    "version": 3
   },
   "file_extension": ".py",
   "mimetype": "text/x-python",
   "name": "python",
   "nbconvert_exporter": "python",
   "pygments_lexer": "ipython3",
   "version": "3.7.12"
  },
  "papermill": {
   "default_parameters": {},
   "duration": 57.124574,
   "end_time": "2023-03-04T00:50:06.714277",
   "environment_variables": {},
   "exception": null,
   "input_path": "__notebook__.ipynb",
   "output_path": "__notebook__.ipynb",
   "parameters": {},
   "start_time": "2023-03-04T00:49:09.589703",
   "version": "2.4.0"
  }
 },
 "nbformat": 4,
 "nbformat_minor": 5
}
