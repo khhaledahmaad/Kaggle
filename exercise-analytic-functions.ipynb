{
 "cells": [
  {
   "cell_type": "markdown",
   "id": "73ab0ff0",
   "metadata": {
    "papermill": {
     "duration": 0.005432,
     "end_time": "2023-01-25T14:26:39.758473",
     "exception": false,
     "start_time": "2023-01-25T14:26:39.753041",
     "status": "completed"
    },
    "tags": []
   },
   "source": [
    "**This notebook is an exercise in the [Advanced SQL](https://www.kaggle.com/learn/advanced-sql) course.  You can reference the tutorial at [this link](https://www.kaggle.com/alexisbcook/analytic-functions).**\n",
    "\n",
    "---\n"
   ]
  },
  {
   "cell_type": "markdown",
   "id": "d97f6341",
   "metadata": {
    "papermill": {
     "duration": 0.004034,
     "end_time": "2023-01-25T14:26:39.766927",
     "exception": false,
     "start_time": "2023-01-25T14:26:39.762893",
     "status": "completed"
    },
    "tags": []
   },
   "source": [
    "# Introduction\n",
    "\n",
    "Here, you'll use window functions to answer questions about the [Chicago Taxi Trips](https://www.kaggle.com/chicago/chicago-taxi-trips-bq) dataset.\n",
    "\n",
    "Before you get started, run the code cell below to set everything up."
   ]
  },
  {
   "cell_type": "code",
   "execution_count": 1,
   "id": "c4999a21",
   "metadata": {
    "execution": {
     "iopub.execute_input": "2023-01-25T14:26:39.776993Z",
     "iopub.status.busy": "2023-01-25T14:26:39.776507Z",
     "iopub.status.idle": "2023-01-25T14:27:06.956959Z",
     "shell.execute_reply": "2023-01-25T14:27:06.955070Z"
    },
    "papermill": {
     "duration": 27.189717,
     "end_time": "2023-01-25T14:27:06.960820",
     "exception": false,
     "start_time": "2023-01-25T14:26:39.771103",
     "status": "completed"
    },
    "tags": []
   },
   "outputs": [
    {
     "name": "stdout",
     "output_type": "stream",
     "text": [
      "Collecting git+https://github.com/Kaggle/learntools.git\r\n",
      "  Cloning https://github.com/Kaggle/learntools.git to /tmp/pip-req-build-qhep2vkz\r\n",
      "  Running command git clone --filter=blob:none --quiet https://github.com/Kaggle/learntools.git /tmp/pip-req-build-qhep2vkz\r\n",
      "  Resolved https://github.com/Kaggle/learntools.git to commit 50dffce293eade886869ec092ab1287b62566170\r\n",
      "  Preparing metadata (setup.py) ... \u001b[?25l-\b \bdone\r\n",
      "\u001b[?25hBuilding wheels for collected packages: learntools\r\n",
      "  Building wheel for learntools (setup.py) ... \u001b[?25l-\b \b\\\b \b|\b \b/\b \bdone\r\n",
      "\u001b[?25h  Created wheel for learntools: filename=learntools-0.3.4-py3-none-any.whl size=267758 sha256=eaa52a513283137d5a8cdecdcf1bfb12aa720a6920ba2e442cdc55c6874d6a03\r\n",
      "  Stored in directory: /tmp/pip-ephem-wheel-cache-82a1u5q6/wheels/dd/d7/6b/0fc758f52767fd281d6dceded6757c6cb5bb90ccd2dbb1de9f\r\n",
      "Successfully built learntools\r\n",
      "Installing collected packages: learntools\r\n",
      "Successfully installed learntools-0.3.4\r\n",
      "\u001b[33mWARNING: Running pip as the 'root' user can result in broken permissions and conflicting behaviour with the system package manager. It is recommended to use a virtual environment instead: https://pip.pypa.io/warnings/venv\u001b[0m\u001b[33m\r\n",
      "\u001b[0mUsing Kaggle's public dataset BigQuery integration.\n"
     ]
    },
    {
     "name": "stderr",
     "output_type": "stream",
     "text": [
      "/opt/conda/lib/python3.7/site-packages/google/cloud/bigquery/client.py:440: UserWarning: Cannot create BigQuery Storage client, the dependency google-cloud-bigquery-storage is not installed.\n",
      "  \"Cannot create BigQuery Storage client, the dependency \"\n"
     ]
    },
    {
     "name": "stdout",
     "output_type": "stream",
     "text": [
      "Setup Complete\n"
     ]
    }
   ],
   "source": [
    "# Get most recent checking code\n",
    "!pip install -U -t /kaggle/working/ git+https://github.com/Kaggle/learntools.git\n",
    "# Set up feedback system\n",
    "from learntools.core import binder\n",
    "binder.bind(globals())\n",
    "from learntools.sql_advanced.ex2 import *\n",
    "print(\"Setup Complete\")"
   ]
  },
  {
   "cell_type": "markdown",
   "id": "26862922",
   "metadata": {
    "papermill": {
     "duration": 0.00472,
     "end_time": "2023-01-25T14:27:06.970832",
     "exception": false,
     "start_time": "2023-01-25T14:27:06.966112",
     "status": "completed"
    },
    "tags": []
   },
   "source": [
    "The following code cell fetches the `taxi_trips` table from the `chicago_taxi_trips` dataset. We also preview the first five rows of the table.  You'll use the table to answer the questions below."
   ]
  },
  {
   "cell_type": "code",
   "execution_count": 2,
   "id": "da665930",
   "metadata": {
    "execution": {
     "iopub.execute_input": "2023-01-25T14:27:06.982996Z",
     "iopub.status.busy": "2023-01-25T14:27:06.982146Z",
     "iopub.status.idle": "2023-01-25T14:27:08.308832Z",
     "shell.execute_reply": "2023-01-25T14:27:08.307770Z"
    },
    "papermill": {
     "duration": 1.335529,
     "end_time": "2023-01-25T14:27:08.311268",
     "exception": false,
     "start_time": "2023-01-25T14:27:06.975739",
     "status": "completed"
    },
    "tags": []
   },
   "outputs": [
    {
     "name": "stdout",
     "output_type": "stream",
     "text": [
      "Using Kaggle's public dataset BigQuery integration.\n"
     ]
    },
    {
     "name": "stderr",
     "output_type": "stream",
     "text": [
      "/opt/conda/lib/python3.7/site-packages/ipykernel_launcher.py:19: UserWarning: Cannot use bqstorage_client if max_results is set, reverting to fetching data with the tabledata.list endpoint.\n"
     ]
    },
    {
     "data": {
      "text/html": [
       "<div>\n",
       "<style scoped>\n",
       "    .dataframe tbody tr th:only-of-type {\n",
       "        vertical-align: middle;\n",
       "    }\n",
       "\n",
       "    .dataframe tbody tr th {\n",
       "        vertical-align: top;\n",
       "    }\n",
       "\n",
       "    .dataframe thead th {\n",
       "        text-align: right;\n",
       "    }\n",
       "</style>\n",
       "<table border=\"1\" class=\"dataframe\">\n",
       "  <thead>\n",
       "    <tr style=\"text-align: right;\">\n",
       "      <th></th>\n",
       "      <th>unique_key</th>\n",
       "      <th>taxi_id</th>\n",
       "      <th>trip_start_timestamp</th>\n",
       "      <th>trip_end_timestamp</th>\n",
       "      <th>trip_seconds</th>\n",
       "      <th>trip_miles</th>\n",
       "      <th>pickup_census_tract</th>\n",
       "      <th>dropoff_census_tract</th>\n",
       "      <th>pickup_community_area</th>\n",
       "      <th>dropoff_community_area</th>\n",
       "      <th>...</th>\n",
       "      <th>extras</th>\n",
       "      <th>trip_total</th>\n",
       "      <th>payment_type</th>\n",
       "      <th>company</th>\n",
       "      <th>pickup_latitude</th>\n",
       "      <th>pickup_longitude</th>\n",
       "      <th>pickup_location</th>\n",
       "      <th>dropoff_latitude</th>\n",
       "      <th>dropoff_longitude</th>\n",
       "      <th>dropoff_location</th>\n",
       "    </tr>\n",
       "  </thead>\n",
       "  <tbody>\n",
       "    <tr>\n",
       "      <th>0</th>\n",
       "      <td>ff0b96c0cada768361b1c9341e11905254644afb</td>\n",
       "      <td>c7fd753040e0170e38049465089bca99c750f5ed8b3f6c...</td>\n",
       "      <td>2016-09-20 07:15:00+00:00</td>\n",
       "      <td>2016-09-20 07:30:00+00:00</td>\n",
       "      <td>1265</td>\n",
       "      <td>7.2</td>\n",
       "      <td>NaN</td>\n",
       "      <td>NaN</td>\n",
       "      <td>NaN</td>\n",
       "      <td>NaN</td>\n",
       "      <td>...</td>\n",
       "      <td>0.0</td>\n",
       "      <td>0.01</td>\n",
       "      <td>Cash</td>\n",
       "      <td>303 Taxi</td>\n",
       "      <td>NaN</td>\n",
       "      <td>NaN</td>\n",
       "      <td>None</td>\n",
       "      <td>NaN</td>\n",
       "      <td>NaN</td>\n",
       "      <td>None</td>\n",
       "    </tr>\n",
       "    <tr>\n",
       "      <th>1</th>\n",
       "      <td>cf43e111e3b01ec10187626e6f9887e0cd764eeb</td>\n",
       "      <td>c7fd753040e0170e38049465089bca99c750f5ed8b3f6c...</td>\n",
       "      <td>2016-09-20 07:45:00+00:00</td>\n",
       "      <td>2016-09-20 07:45:00+00:00</td>\n",
       "      <td>470</td>\n",
       "      <td>3.6</td>\n",
       "      <td>NaN</td>\n",
       "      <td>NaN</td>\n",
       "      <td>NaN</td>\n",
       "      <td>NaN</td>\n",
       "      <td>...</td>\n",
       "      <td>0.0</td>\n",
       "      <td>0.01</td>\n",
       "      <td>Cash</td>\n",
       "      <td>303 Taxi</td>\n",
       "      <td>NaN</td>\n",
       "      <td>NaN</td>\n",
       "      <td>None</td>\n",
       "      <td>NaN</td>\n",
       "      <td>NaN</td>\n",
       "      <td>None</td>\n",
       "    </tr>\n",
       "    <tr>\n",
       "      <th>2</th>\n",
       "      <td>3b7d25f05d3ff9e6866a56ce442d5a8c51c1832f</td>\n",
       "      <td>c7fd753040e0170e38049465089bca99c750f5ed8b3f6c...</td>\n",
       "      <td>2016-09-20 08:15:00+00:00</td>\n",
       "      <td>2016-09-20 09:00:00+00:00</td>\n",
       "      <td>2675</td>\n",
       "      <td>18.4</td>\n",
       "      <td>NaN</td>\n",
       "      <td>NaN</td>\n",
       "      <td>NaN</td>\n",
       "      <td>NaN</td>\n",
       "      <td>...</td>\n",
       "      <td>0.0</td>\n",
       "      <td>0.01</td>\n",
       "      <td>Cash</td>\n",
       "      <td>303 Taxi</td>\n",
       "      <td>NaN</td>\n",
       "      <td>NaN</td>\n",
       "      <td>None</td>\n",
       "      <td>NaN</td>\n",
       "      <td>NaN</td>\n",
       "      <td>None</td>\n",
       "    </tr>\n",
       "    <tr>\n",
       "      <th>3</th>\n",
       "      <td>cefb2ed97d5992d4b0f299bb6a9b48232cbf22ef</td>\n",
       "      <td>c7fd753040e0170e38049465089bca99c750f5ed8b3f6c...</td>\n",
       "      <td>2016-09-20 09:15:00+00:00</td>\n",
       "      <td>2016-09-20 09:30:00+00:00</td>\n",
       "      <td>780</td>\n",
       "      <td>5.6</td>\n",
       "      <td>NaN</td>\n",
       "      <td>NaN</td>\n",
       "      <td>NaN</td>\n",
       "      <td>NaN</td>\n",
       "      <td>...</td>\n",
       "      <td>0.0</td>\n",
       "      <td>0.01</td>\n",
       "      <td>Cash</td>\n",
       "      <td>303 Taxi</td>\n",
       "      <td>NaN</td>\n",
       "      <td>NaN</td>\n",
       "      <td>None</td>\n",
       "      <td>NaN</td>\n",
       "      <td>NaN</td>\n",
       "      <td>None</td>\n",
       "    </tr>\n",
       "    <tr>\n",
       "      <th>4</th>\n",
       "      <td>298996c35d36114811a04d86e8c7c374f45ea37f</td>\n",
       "      <td>c7fd753040e0170e38049465089bca99c750f5ed8b3f6c...</td>\n",
       "      <td>2016-09-20 10:00:00+00:00</td>\n",
       "      <td>2016-09-20 10:00:00+00:00</td>\n",
       "      <td>452</td>\n",
       "      <td>1.2</td>\n",
       "      <td>NaN</td>\n",
       "      <td>NaN</td>\n",
       "      <td>NaN</td>\n",
       "      <td>NaN</td>\n",
       "      <td>...</td>\n",
       "      <td>0.0</td>\n",
       "      <td>6.40</td>\n",
       "      <td>Cash</td>\n",
       "      <td>303 Taxi</td>\n",
       "      <td>NaN</td>\n",
       "      <td>NaN</td>\n",
       "      <td>None</td>\n",
       "      <td>NaN</td>\n",
       "      <td>NaN</td>\n",
       "      <td>None</td>\n",
       "    </tr>\n",
       "  </tbody>\n",
       "</table>\n",
       "<p>5 rows × 23 columns</p>\n",
       "</div>"
      ],
      "text/plain": [
       "                                 unique_key  \\\n",
       "0  ff0b96c0cada768361b1c9341e11905254644afb   \n",
       "1  cf43e111e3b01ec10187626e6f9887e0cd764eeb   \n",
       "2  3b7d25f05d3ff9e6866a56ce442d5a8c51c1832f   \n",
       "3  cefb2ed97d5992d4b0f299bb6a9b48232cbf22ef   \n",
       "4  298996c35d36114811a04d86e8c7c374f45ea37f   \n",
       "\n",
       "                                             taxi_id  \\\n",
       "0  c7fd753040e0170e38049465089bca99c750f5ed8b3f6c...   \n",
       "1  c7fd753040e0170e38049465089bca99c750f5ed8b3f6c...   \n",
       "2  c7fd753040e0170e38049465089bca99c750f5ed8b3f6c...   \n",
       "3  c7fd753040e0170e38049465089bca99c750f5ed8b3f6c...   \n",
       "4  c7fd753040e0170e38049465089bca99c750f5ed8b3f6c...   \n",
       "\n",
       "       trip_start_timestamp        trip_end_timestamp  trip_seconds  \\\n",
       "0 2016-09-20 07:15:00+00:00 2016-09-20 07:30:00+00:00          1265   \n",
       "1 2016-09-20 07:45:00+00:00 2016-09-20 07:45:00+00:00           470   \n",
       "2 2016-09-20 08:15:00+00:00 2016-09-20 09:00:00+00:00          2675   \n",
       "3 2016-09-20 09:15:00+00:00 2016-09-20 09:30:00+00:00           780   \n",
       "4 2016-09-20 10:00:00+00:00 2016-09-20 10:00:00+00:00           452   \n",
       "\n",
       "   trip_miles  pickup_census_tract  dropoff_census_tract  \\\n",
       "0         7.2                  NaN                   NaN   \n",
       "1         3.6                  NaN                   NaN   \n",
       "2        18.4                  NaN                   NaN   \n",
       "3         5.6                  NaN                   NaN   \n",
       "4         1.2                  NaN                   NaN   \n",
       "\n",
       "   pickup_community_area  dropoff_community_area  ...  extras  trip_total  \\\n",
       "0                    NaN                     NaN  ...     0.0        0.01   \n",
       "1                    NaN                     NaN  ...     0.0        0.01   \n",
       "2                    NaN                     NaN  ...     0.0        0.01   \n",
       "3                    NaN                     NaN  ...     0.0        0.01   \n",
       "4                    NaN                     NaN  ...     0.0        6.40   \n",
       "\n",
       "   payment_type   company  pickup_latitude pickup_longitude pickup_location  \\\n",
       "0          Cash  303 Taxi              NaN              NaN            None   \n",
       "1          Cash  303 Taxi              NaN              NaN            None   \n",
       "2          Cash  303 Taxi              NaN              NaN            None   \n",
       "3          Cash  303 Taxi              NaN              NaN            None   \n",
       "4          Cash  303 Taxi              NaN              NaN            None   \n",
       "\n",
       "   dropoff_latitude  dropoff_longitude dropoff_location  \n",
       "0               NaN                NaN             None  \n",
       "1               NaN                NaN             None  \n",
       "2               NaN                NaN             None  \n",
       "3               NaN                NaN             None  \n",
       "4               NaN                NaN             None  \n",
       "\n",
       "[5 rows x 23 columns]"
      ]
     },
     "execution_count": 2,
     "metadata": {},
     "output_type": "execute_result"
    }
   ],
   "source": [
    "from google.cloud import bigquery\n",
    "\n",
    "# Create a \"Client\" object\n",
    "client = bigquery.Client()\n",
    "\n",
    "# Construct a reference to the \"chicago_taxi_trips\" dataset\n",
    "dataset_ref = client.dataset(\"chicago_taxi_trips\", project=\"bigquery-public-data\")\n",
    "\n",
    "# API request - fetch the dataset\n",
    "dataset = client.get_dataset(dataset_ref)\n",
    "\n",
    "# Construct a reference to the \"taxi_trips\" table\n",
    "table_ref = dataset_ref.table(\"taxi_trips\")\n",
    "\n",
    "# API request - fetch the table\n",
    "table = client.get_table(table_ref)\n",
    "\n",
    "# Preview the first five lines of the table\n",
    "client.list_rows(table, max_results=5).to_dataframe()"
   ]
  },
  {
   "cell_type": "markdown",
   "id": "709f58db",
   "metadata": {
    "papermill": {
     "duration": 0.005157,
     "end_time": "2023-01-25T14:27:08.322037",
     "exception": false,
     "start_time": "2023-01-25T14:27:08.316880",
     "status": "completed"
    },
    "tags": []
   },
   "source": [
    "# Exercises\n",
    "\n",
    "### 1) How can you predict the demand for taxis?\n",
    "\n",
    "Say you work for a taxi company, and you're interested in predicting the demand for taxis.  Towards this goal, you'd like to create a plot that shows a rolling average of the daily number of taxi trips.  Amend the (partial) query below to return a DataFrame with two columns:\n",
    "- `trip_date` - contains one entry for each date from January 1, 2016, to March 31, 2016.\n",
    "- `avg_num_trips` - shows the average number of daily trips, calculated over a window including the value for the current date, along with the values for the preceding 3 days and the following 3 days, as long as the days fit within the three-month time frame.  For instance, when calculating the value in this column for January 3, 2016, the window will include the number of trips for the preceding 2 days, the current date, and the following 3 days.\n",
    "\n",
    "This query is partially completed for you, and you need only write the part that calculates the `avg_num_trips` column.  Note that this query uses a common table expression (CTE); if you need to review how to use CTEs, you're encouraged to check out [this tutorial](https://www.kaggle.com/dansbecker/as-with) in the [Intro to SQL](https://www.kaggle.com/learn/intro-to-sql) course."
   ]
  },
  {
   "cell_type": "code",
   "execution_count": 3,
   "id": "5871d580",
   "metadata": {
    "execution": {
     "iopub.execute_input": "2023-01-25T14:27:08.334807Z",
     "iopub.status.busy": "2023-01-25T14:27:08.334059Z",
     "iopub.status.idle": "2023-01-25T14:27:09.597427Z",
     "shell.execute_reply": "2023-01-25T14:27:09.596254Z"
    },
    "papermill": {
     "duration": 1.272595,
     "end_time": "2023-01-25T14:27:09.599889",
     "exception": false,
     "start_time": "2023-01-25T14:27:08.327294",
     "status": "completed"
    },
    "tags": []
   },
   "outputs": [
    {
     "name": "stderr",
     "output_type": "stream",
     "text": [
      "/opt/conda/lib/python3.7/site-packages/google/cloud/bigquery/client.py:440: UserWarning: Cannot create BigQuery Storage client, the dependency google-cloud-bigquery-storage is not installed.\n",
      "  \"Cannot create BigQuery Storage client, the dependency \"\n"
     ]
    },
    {
     "data": {
      "text/html": [
       "<div>\n",
       "<style scoped>\n",
       "    .dataframe tbody tr th:only-of-type {\n",
       "        vertical-align: middle;\n",
       "    }\n",
       "\n",
       "    .dataframe tbody tr th {\n",
       "        vertical-align: top;\n",
       "    }\n",
       "\n",
       "    .dataframe thead th {\n",
       "        text-align: right;\n",
       "    }\n",
       "</style>\n",
       "<table border=\"1\" class=\"dataframe\">\n",
       "  <thead>\n",
       "    <tr style=\"text-align: right;\">\n",
       "      <th></th>\n",
       "      <th>trip_date</th>\n",
       "      <th>avg_num_trips</th>\n",
       "    </tr>\n",
       "  </thead>\n",
       "  <tbody>\n",
       "    <tr>\n",
       "      <th>0</th>\n",
       "      <td>2016-03-24</td>\n",
       "      <td>27.285714</td>\n",
       "    </tr>\n",
       "    <tr>\n",
       "      <th>1</th>\n",
       "      <td>2016-02-17</td>\n",
       "      <td>83.142857</td>\n",
       "    </tr>\n",
       "    <tr>\n",
       "      <th>2</th>\n",
       "      <td>2016-03-27</td>\n",
       "      <td>26.714286</td>\n",
       "    </tr>\n",
       "    <tr>\n",
       "      <th>3</th>\n",
       "      <td>2016-02-23</td>\n",
       "      <td>65.571429</td>\n",
       "    </tr>\n",
       "    <tr>\n",
       "      <th>4</th>\n",
       "      <td>2016-01-19</td>\n",
       "      <td>80.428571</td>\n",
       "    </tr>\n",
       "  </tbody>\n",
       "</table>\n",
       "</div>"
      ],
      "text/plain": [
       "    trip_date  avg_num_trips\n",
       "0  2016-03-24      27.285714\n",
       "1  2016-02-17      83.142857\n",
       "2  2016-03-27      26.714286\n",
       "3  2016-02-23      65.571429\n",
       "4  2016-01-19      80.428571"
      ]
     },
     "metadata": {},
     "output_type": "display_data"
    },
    {
     "data": {
      "application/javascript": [
       "parent.postMessage({\"jupyterEvent\": \"custom.exercise_interaction\", \"data\": {\"outcomeType\": 1, \"valueTowardsCompletion\": 0.3333333333333333, \"interactionType\": 1, \"questionType\": 2, \"questionId\": \"1_TaxiDemand\", \"learnToolsVersion\": \"0.3.4\", \"failureMessage\": \"\", \"exceptionClass\": \"\", \"trace\": \"\"}}, \"*\")"
      ],
      "text/plain": [
       "<IPython.core.display.Javascript object>"
      ]
     },
     "metadata": {},
     "output_type": "display_data"
    },
    {
     "data": {
      "text/markdown": [
       "<span style=\"color:#33cc33\">Correct</span>"
      ],
      "text/plain": [
       "Correct"
      ]
     },
     "metadata": {},
     "output_type": "display_data"
    }
   ],
   "source": [
    "# Fill in the blank below\n",
    "avg_num_trips_query = \"\"\"\n",
    "                      WITH trips_by_day AS\n",
    "                      (\n",
    "                      SELECT DATE(trip_start_timestamp) AS trip_date,\n",
    "                          COUNT(*) as num_trips\n",
    "                      FROM `bigquery-public-data.chicago_taxi_trips.taxi_trips`\n",
    "                      WHERE trip_start_timestamp > '2016-01-01' AND trip_start_timestamp < '2016-04-01'\n",
    "                      GROUP BY trip_date\n",
    "                      )\n",
    "                      SELECT trip_date,\n",
    "                          AVG(num_trips) \n",
    "                          OVER (\n",
    "                               ORDER BY trip_date\n",
    "                               ROWS BETWEEN 3 PRECEDING AND 3 FOLLOWING\n",
    "                               ) AS avg_num_trips\n",
    "                      FROM trips_by_day\n",
    "                      \"\"\"\n",
    "\n",
    "# Check your answer\n",
    "q_1.check()"
   ]
  },
  {
   "cell_type": "code",
   "execution_count": 4,
   "id": "da89cdb8",
   "metadata": {
    "execution": {
     "iopub.execute_input": "2023-01-25T14:27:09.614747Z",
     "iopub.status.busy": "2023-01-25T14:27:09.613727Z",
     "iopub.status.idle": "2023-01-25T14:27:09.618577Z",
     "shell.execute_reply": "2023-01-25T14:27:09.617498Z"
    },
    "papermill": {
     "duration": 0.014318,
     "end_time": "2023-01-25T14:27:09.620749",
     "exception": false,
     "start_time": "2023-01-25T14:27:09.606431",
     "status": "completed"
    },
    "tags": []
   },
   "outputs": [],
   "source": [
    "# Lines below will give you a hint or solution code\n",
    "#q_1.hint()\n",
    "# q_1.solution()"
   ]
  },
  {
   "cell_type": "markdown",
   "id": "4667dbac",
   "metadata": {
    "papermill": {
     "duration": 0.005748,
     "end_time": "2023-01-25T14:27:09.632621",
     "exception": false,
     "start_time": "2023-01-25T14:27:09.626873",
     "status": "completed"
    },
    "tags": []
   },
   "source": [
    "### 2) Can you separate and order trips by community area?\n",
    "\n",
    "The query below returns a DataFrame with three columns from the table: `pickup_community_area`, `trip_start_timestamp`, and `trip_end_timestamp`.  \n",
    "\n",
    "Amend the query to return an additional column called `trip_number` which shows the order in which the trips were taken from their respective community areas.  So, the first trip of the day originating from community area 1 should receive a value of 1; the second trip of the day from the same area should receive a value of 2.  Likewise, the first trip of the day from community area 2 should receive a value of 1, and so on.\n",
    "\n",
    "Note that there are many numbering functions that can be used to solve this problem (depending on how you want to deal with trips that started at the same time from the same community area); to answer this question, please use the **RANK()** function."
   ]
  },
  {
   "cell_type": "code",
   "execution_count": 5,
   "id": "42901aed",
   "metadata": {
    "execution": {
     "iopub.execute_input": "2023-01-25T14:27:09.646254Z",
     "iopub.status.busy": "2023-01-25T14:27:09.645840Z",
     "iopub.status.idle": "2023-01-25T14:27:11.077364Z",
     "shell.execute_reply": "2023-01-25T14:27:11.076098Z"
    },
    "papermill": {
     "duration": 1.440881,
     "end_time": "2023-01-25T14:27:11.079546",
     "exception": false,
     "start_time": "2023-01-25T14:27:09.638665",
     "status": "completed"
    },
    "tags": []
   },
   "outputs": [
    {
     "name": "stderr",
     "output_type": "stream",
     "text": [
      "/opt/conda/lib/python3.7/site-packages/google/cloud/bigquery/client.py:440: UserWarning: Cannot create BigQuery Storage client, the dependency google-cloud-bigquery-storage is not installed.\n",
      "  \"Cannot create BigQuery Storage client, the dependency \"\n"
     ]
    },
    {
     "data": {
      "text/html": [
       "<div>\n",
       "<style scoped>\n",
       "    .dataframe tbody tr th:only-of-type {\n",
       "        vertical-align: middle;\n",
       "    }\n",
       "\n",
       "    .dataframe tbody tr th {\n",
       "        vertical-align: top;\n",
       "    }\n",
       "\n",
       "    .dataframe thead th {\n",
       "        text-align: right;\n",
       "    }\n",
       "</style>\n",
       "<table border=\"1\" class=\"dataframe\">\n",
       "  <thead>\n",
       "    <tr style=\"text-align: right;\">\n",
       "      <th></th>\n",
       "      <th>pickup_community_area</th>\n",
       "      <th>trip_start_timestamp</th>\n",
       "      <th>trip_end_timestamp</th>\n",
       "      <th>trip_number</th>\n",
       "    </tr>\n",
       "  </thead>\n",
       "  <tbody>\n",
       "    <tr>\n",
       "      <th>0</th>\n",
       "      <td>11</td>\n",
       "      <td>2013-10-03 06:30:00+00:00</td>\n",
       "      <td>2013-10-03 06:30:00+00:00</td>\n",
       "      <td>1</td>\n",
       "    </tr>\n",
       "    <tr>\n",
       "      <th>1</th>\n",
       "      <td>11</td>\n",
       "      <td>2013-10-03 16:15:00+00:00</td>\n",
       "      <td>2013-10-03 16:30:00+00:00</td>\n",
       "      <td>2</td>\n",
       "    </tr>\n",
       "    <tr>\n",
       "      <th>2</th>\n",
       "      <td>11</td>\n",
       "      <td>2013-10-03 16:45:00+00:00</td>\n",
       "      <td>2013-10-03 17:00:00+00:00</td>\n",
       "      <td>3</td>\n",
       "    </tr>\n",
       "    <tr>\n",
       "      <th>3</th>\n",
       "      <td>11</td>\n",
       "      <td>2013-10-03 17:00:00+00:00</td>\n",
       "      <td>2013-10-03 17:15:00+00:00</td>\n",
       "      <td>4</td>\n",
       "    </tr>\n",
       "    <tr>\n",
       "      <th>4</th>\n",
       "      <td>11</td>\n",
       "      <td>2013-10-03 17:15:00+00:00</td>\n",
       "      <td>2013-10-03 17:30:00+00:00</td>\n",
       "      <td>5</td>\n",
       "    </tr>\n",
       "  </tbody>\n",
       "</table>\n",
       "</div>"
      ],
      "text/plain": [
       "   pickup_community_area      trip_start_timestamp        trip_end_timestamp  \\\n",
       "0                     11 2013-10-03 06:30:00+00:00 2013-10-03 06:30:00+00:00   \n",
       "1                     11 2013-10-03 16:15:00+00:00 2013-10-03 16:30:00+00:00   \n",
       "2                     11 2013-10-03 16:45:00+00:00 2013-10-03 17:00:00+00:00   \n",
       "3                     11 2013-10-03 17:00:00+00:00 2013-10-03 17:15:00+00:00   \n",
       "4                     11 2013-10-03 17:15:00+00:00 2013-10-03 17:30:00+00:00   \n",
       "\n",
       "   trip_number  \n",
       "0            1  \n",
       "1            2  \n",
       "2            3  \n",
       "3            4  \n",
       "4            5  "
      ]
     },
     "metadata": {},
     "output_type": "display_data"
    },
    {
     "data": {
      "application/javascript": [
       "parent.postMessage({\"jupyterEvent\": \"custom.exercise_interaction\", \"data\": {\"outcomeType\": 1, \"valueTowardsCompletion\": 0.3333333333333333, \"interactionType\": 1, \"questionType\": 2, \"questionId\": \"2_CommunityArea\", \"learnToolsVersion\": \"0.3.4\", \"failureMessage\": \"\", \"exceptionClass\": \"\", \"trace\": \"\"}}, \"*\")"
      ],
      "text/plain": [
       "<IPython.core.display.Javascript object>"
      ]
     },
     "metadata": {},
     "output_type": "display_data"
    },
    {
     "data": {
      "text/markdown": [
       "<span style=\"color:#33cc33\">Correct</span>"
      ],
      "text/plain": [
       "Correct"
      ]
     },
     "metadata": {},
     "output_type": "display_data"
    }
   ],
   "source": [
    "# Amend the query below\n",
    "trip_number_query = \"\"\"\n",
    "                    SELECT pickup_community_area,\n",
    "                        trip_start_timestamp,\n",
    "                        trip_end_timestamp,\n",
    "                        RANK()\n",
    "                        OVER(PARTITION BY pickup_community_area\n",
    "                            ORDER BY  trip_start_timestamp) AS trip_number\n",
    "                    FROM `bigquery-public-data.chicago_taxi_trips.taxi_trips`\n",
    "                    WHERE DATE(trip_start_timestamp) = '2013-10-03' \n",
    "                    \"\"\"\n",
    "\n",
    "# Check your answer\n",
    "q_2.check()"
   ]
  },
  {
   "cell_type": "code",
   "execution_count": 6,
   "id": "b4f2cc6a",
   "metadata": {
    "execution": {
     "iopub.execute_input": "2023-01-25T14:27:11.094590Z",
     "iopub.status.busy": "2023-01-25T14:27:11.094191Z",
     "iopub.status.idle": "2023-01-25T14:27:11.098574Z",
     "shell.execute_reply": "2023-01-25T14:27:11.097515Z"
    },
    "papermill": {
     "duration": 0.014549,
     "end_time": "2023-01-25T14:27:11.100759",
     "exception": false,
     "start_time": "2023-01-25T14:27:11.086210",
     "status": "completed"
    },
    "tags": []
   },
   "outputs": [],
   "source": [
    "# Lines below will give you a hint or solution code\n",
    "#q_2.hint()\n",
    "# q_2.solution()"
   ]
  },
  {
   "cell_type": "markdown",
   "id": "6c13432f",
   "metadata": {
    "papermill": {
     "duration": 0.006132,
     "end_time": "2023-01-25T14:27:11.113253",
     "exception": false,
     "start_time": "2023-01-25T14:27:11.107121",
     "status": "completed"
    },
    "tags": []
   },
   "source": [
    "### 3) How much time elapses between trips?\n",
    "\n",
    "The (partial) query in the code cell below shows, for each trip in the selected time frame, the corresponding `taxi_id`, `trip_start_timestamp`, and `trip_end_timestamp`. \n",
    "\n",
    "Your task in this exercise is to edit the query to include an additional `prev_break` column that shows the length of the break (in minutes) that the driver had before each trip started (this corresponds to the time between `trip_start_timestamp` of the current trip and `trip_end_timestamp` of the previous trip).  Partition the calculation by `taxi_id`, and order the results within each partition by `trip_start_timestamp`.\n",
    "\n",
    "Some sample results are shown below, where all rows correspond to the same driver (or `taxi_id`).  Take the time now to make sure that the values in the `prev_break` column make sense to you!\n",
    "\n",
    "![first_commands](https://i.imgur.com/zzHgmlx.png)\n",
    "\n",
    "Note that the first trip of the day for each driver should have a value of **NaN** (not a number) in the `prev_break` column."
   ]
  },
  {
   "cell_type": "code",
   "execution_count": 7,
   "id": "bda153c2",
   "metadata": {
    "execution": {
     "iopub.execute_input": "2023-01-25T14:27:11.128118Z",
     "iopub.status.busy": "2023-01-25T14:27:11.127497Z",
     "iopub.status.idle": "2023-01-25T14:27:13.104722Z",
     "shell.execute_reply": "2023-01-25T14:27:13.103815Z"
    },
    "papermill": {
     "duration": 1.988011,
     "end_time": "2023-01-25T14:27:13.107583",
     "exception": false,
     "start_time": "2023-01-25T14:27:11.119572",
     "status": "completed"
    },
    "tags": []
   },
   "outputs": [
    {
     "name": "stderr",
     "output_type": "stream",
     "text": [
      "/opt/conda/lib/python3.7/site-packages/google/cloud/bigquery/client.py:440: UserWarning: Cannot create BigQuery Storage client, the dependency google-cloud-bigquery-storage is not installed.\n",
      "  \"Cannot create BigQuery Storage client, the dependency \"\n"
     ]
    },
    {
     "data": {
      "text/html": [
       "<div>\n",
       "<style scoped>\n",
       "    .dataframe tbody tr th:only-of-type {\n",
       "        vertical-align: middle;\n",
       "    }\n",
       "\n",
       "    .dataframe tbody tr th {\n",
       "        vertical-align: top;\n",
       "    }\n",
       "\n",
       "    .dataframe thead th {\n",
       "        text-align: right;\n",
       "    }\n",
       "</style>\n",
       "<table border=\"1\" class=\"dataframe\">\n",
       "  <thead>\n",
       "    <tr style=\"text-align: right;\">\n",
       "      <th></th>\n",
       "      <th>taxi_id</th>\n",
       "      <th>trip_start_timestamp</th>\n",
       "      <th>trip_end_timestamp</th>\n",
       "      <th>prev_break</th>\n",
       "    </tr>\n",
       "  </thead>\n",
       "  <tbody>\n",
       "    <tr>\n",
       "      <th>0</th>\n",
       "      <td>1e3120e8b2c9af9f006e47d546cc8cee6564dd40b15abe...</td>\n",
       "      <td>2013-10-03 06:45:00+00:00</td>\n",
       "      <td>2013-10-03 06:45:00+00:00</td>\n",
       "      <td>-30.0</td>\n",
       "    </tr>\n",
       "    <tr>\n",
       "      <th>1</th>\n",
       "      <td>1e3120e8b2c9af9f006e47d546cc8cee6564dd40b15abe...</td>\n",
       "      <td>2013-10-03 16:30:00+00:00</td>\n",
       "      <td>2013-10-03 17:00:00+00:00</td>\n",
       "      <td>420.0</td>\n",
       "    </tr>\n",
       "    <tr>\n",
       "      <th>2</th>\n",
       "      <td>c0aa103d4801977abf28043387becdf2dc927120803c22...</td>\n",
       "      <td>2013-10-03 05:30:00+00:00</td>\n",
       "      <td>2013-10-03 06:00:00+00:00</td>\n",
       "      <td>255.0</td>\n",
       "    </tr>\n",
       "    <tr>\n",
       "      <th>3</th>\n",
       "      <td>c0aa103d4801977abf28043387becdf2dc927120803c22...</td>\n",
       "      <td>2013-10-03 13:15:00+00:00</td>\n",
       "      <td>2013-10-03 13:30:00+00:00</td>\n",
       "      <td>435.0</td>\n",
       "    </tr>\n",
       "    <tr>\n",
       "      <th>4</th>\n",
       "      <td>c0aa103d4801977abf28043387becdf2dc927120803c22...</td>\n",
       "      <td>2013-10-03 17:45:00+00:00</td>\n",
       "      <td>2013-10-03 18:00:00+00:00</td>\n",
       "      <td>165.0</td>\n",
       "    </tr>\n",
       "  </tbody>\n",
       "</table>\n",
       "</div>"
      ],
      "text/plain": [
       "                                             taxi_id  \\\n",
       "0  1e3120e8b2c9af9f006e47d546cc8cee6564dd40b15abe...   \n",
       "1  1e3120e8b2c9af9f006e47d546cc8cee6564dd40b15abe...   \n",
       "2  c0aa103d4801977abf28043387becdf2dc927120803c22...   \n",
       "3  c0aa103d4801977abf28043387becdf2dc927120803c22...   \n",
       "4  c0aa103d4801977abf28043387becdf2dc927120803c22...   \n",
       "\n",
       "       trip_start_timestamp        trip_end_timestamp  prev_break  \n",
       "0 2013-10-03 06:45:00+00:00 2013-10-03 06:45:00+00:00       -30.0  \n",
       "1 2013-10-03 16:30:00+00:00 2013-10-03 17:00:00+00:00       420.0  \n",
       "2 2013-10-03 05:30:00+00:00 2013-10-03 06:00:00+00:00       255.0  \n",
       "3 2013-10-03 13:15:00+00:00 2013-10-03 13:30:00+00:00       435.0  \n",
       "4 2013-10-03 17:45:00+00:00 2013-10-03 18:00:00+00:00       165.0  "
      ]
     },
     "metadata": {},
     "output_type": "display_data"
    },
    {
     "data": {
      "application/javascript": [
       "parent.postMessage({\"jupyterEvent\": \"custom.exercise_interaction\", \"data\": {\"outcomeType\": 1, \"valueTowardsCompletion\": 0.3333333333333333, \"interactionType\": 1, \"questionType\": 2, \"questionId\": \"3_BreakTime\", \"learnToolsVersion\": \"0.3.4\", \"failureMessage\": \"\", \"exceptionClass\": \"\", \"trace\": \"\"}}, \"*\")"
      ],
      "text/plain": [
       "<IPython.core.display.Javascript object>"
      ]
     },
     "metadata": {},
     "output_type": "display_data"
    },
    {
     "data": {
      "text/markdown": [
       "<span style=\"color:#33cc33\">Correct</span>"
      ],
      "text/plain": [
       "Correct"
      ]
     },
     "metadata": {},
     "output_type": "display_data"
    }
   ],
   "source": [
    "# Fill in the blanks below\n",
    "break_time_query = \"\"\"\n",
    "                   SELECT taxi_id,\n",
    "                       trip_start_timestamp,\n",
    "                       trip_end_timestamp,\n",
    "                       TIMESTAMP_DIFF(\n",
    "                           trip_start_timestamp, \n",
    "                           LAG(trip_end_timestamp, 1) OVER (PARTITION BY taxi_id ORDER BY trip_start_timestamp), \n",
    "                           MINUTE) as prev_break\n",
    "                   FROM `bigquery-public-data.chicago_taxi_trips.taxi_trips`\n",
    "                   WHERE DATE(trip_start_timestamp) = '2013-10-03' \n",
    "                   \"\"\"\n",
    "\n",
    "# Check your answer\n",
    "q_3.check()"
   ]
  },
  {
   "cell_type": "code",
   "execution_count": 8,
   "id": "2d9a37ae",
   "metadata": {
    "execution": {
     "iopub.execute_input": "2023-01-25T14:27:13.123006Z",
     "iopub.status.busy": "2023-01-25T14:27:13.122643Z",
     "iopub.status.idle": "2023-01-25T14:27:13.126721Z",
     "shell.execute_reply": "2023-01-25T14:27:13.125641Z"
    },
    "papermill": {
     "duration": 0.014345,
     "end_time": "2023-01-25T14:27:13.128885",
     "exception": false,
     "start_time": "2023-01-25T14:27:13.114540",
     "status": "completed"
    },
    "tags": []
   },
   "outputs": [],
   "source": [
    "# Lines below will give you a hint or solution code\n",
    "#q_3.hint()\n",
    "# q_3.solution()"
   ]
  },
  {
   "cell_type": "markdown",
   "id": "151702da",
   "metadata": {
    "papermill": {
     "duration": 0.006535,
     "end_time": "2023-01-25T14:27:13.142311",
     "exception": false,
     "start_time": "2023-01-25T14:27:13.135776",
     "status": "completed"
    },
    "tags": []
   },
   "source": [
    "# Keep going\n",
    "\n",
    "Move on to learn how to query **[nested and repeated data](https://www.kaggle.com/alexisbcook/nested-and-repeated-data)**."
   ]
  },
  {
   "cell_type": "markdown",
   "id": "361dbfc2",
   "metadata": {
    "papermill": {
     "duration": 0.006579,
     "end_time": "2023-01-25T14:27:13.155680",
     "exception": false,
     "start_time": "2023-01-25T14:27:13.149101",
     "status": "completed"
    },
    "tags": []
   },
   "source": [
    "---\n",
    "\n",
    "\n",
    "\n",
    "\n",
    "*Have questions or comments? Visit the [course discussion forum](https://www.kaggle.com/learn/advanced-sql/discussion) to chat with other learners.*"
   ]
  }
 ],
 "metadata": {
  "kernelspec": {
   "display_name": "Python 3",
   "language": "python",
   "name": "python3"
  },
  "language_info": {
   "codemirror_mode": {
    "name": "ipython",
    "version": 3
   },
   "file_extension": ".py",
   "mimetype": "text/x-python",
   "name": "python",
   "nbconvert_exporter": "python",
   "pygments_lexer": "ipython3",
   "version": "3.7.12"
  },
  "papermill": {
   "default_parameters": {},
   "duration": 42.301332,
   "end_time": "2023-01-25T14:27:13.784372",
   "environment_variables": {},
   "exception": null,
   "input_path": "__notebook__.ipynb",
   "output_path": "__notebook__.ipynb",
   "parameters": {},
   "start_time": "2023-01-25T14:26:31.483040",
   "version": "2.3.4"
  }
 },
 "nbformat": 4,
 "nbformat_minor": 5
}
