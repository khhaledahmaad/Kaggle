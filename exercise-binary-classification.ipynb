{
 "cells": [
  {
   "cell_type": "markdown",
   "id": "be4407df",
   "metadata": {
    "papermill": {
     "duration": 0.005949,
     "end_time": "2023-03-07T22:56:43.059470",
     "exception": false,
     "start_time": "2023-03-07T22:56:43.053521",
     "status": "completed"
    },
    "tags": []
   },
   "source": [
    "**This notebook is an exercise in the [Intro to Deep Learning](https://www.kaggle.com/learn/intro-to-deep-learning) course.  You can reference the tutorial at [this link](https://www.kaggle.com/ryanholbrook/binary-classification).**\n",
    "\n",
    "---\n"
   ]
  },
  {
   "cell_type": "markdown",
   "id": "a1d48a20",
   "metadata": {
    "papermill": {
     "duration": 0.004251,
     "end_time": "2023-03-07T22:56:43.068558",
     "exception": false,
     "start_time": "2023-03-07T22:56:43.064307",
     "status": "completed"
    },
    "tags": []
   },
   "source": [
    "# Introduction #\n",
    "\n",
    "In this exercise, you'll build a model to predict hotel cancellations with a binary classifier."
   ]
  },
  {
   "cell_type": "code",
   "execution_count": 1,
   "id": "ca1ef679",
   "metadata": {
    "execution": {
     "iopub.execute_input": "2023-03-07T22:56:43.079208Z",
     "iopub.status.busy": "2023-03-07T22:56:43.078722Z",
     "iopub.status.idle": "2023-03-07T22:56:43.120221Z",
     "shell.execute_reply": "2023-03-07T22:56:43.119221Z"
    },
    "lines_to_next_cell": 0,
    "papermill": {
     "duration": 0.049853,
     "end_time": "2023-03-07T22:56:43.122875",
     "exception": false,
     "start_time": "2023-03-07T22:56:43.073022",
     "status": "completed"
    },
    "tags": []
   },
   "outputs": [],
   "source": [
    "# Setup plotting\n",
    "import matplotlib.pyplot as plt\n",
    "plt.style.use('seaborn-whitegrid')\n",
    "# Set Matplotlib defaults\n",
    "plt.rc('figure', autolayout=True)\n",
    "plt.rc('axes', labelweight='bold', labelsize='large',\n",
    "       titleweight='bold', titlesize=18, titlepad=10)\n",
    "plt.rc('animation', html='html5')\n",
    "\n",
    "# Setup feedback system\n",
    "from learntools.core import binder\n",
    "binder.bind(globals())\n",
    "from learntools.deep_learning_intro.ex6 import *"
   ]
  },
  {
   "cell_type": "markdown",
   "id": "3d3dafe1",
   "metadata": {
    "papermill": {
     "duration": 0.004439,
     "end_time": "2023-03-07T22:56:43.132290",
     "exception": false,
     "start_time": "2023-03-07T22:56:43.127851",
     "status": "completed"
    },
    "tags": []
   },
   "source": [
    "First, load the *Hotel Cancellations* dataset."
   ]
  },
  {
   "cell_type": "code",
   "execution_count": 2,
   "id": "addc52a1",
   "metadata": {
    "execution": {
     "iopub.execute_input": "2023-03-07T22:56:43.142784Z",
     "iopub.status.busy": "2023-03-07T22:56:43.142365Z",
     "iopub.status.idle": "2023-03-07T22:56:45.400857Z",
     "shell.execute_reply": "2023-03-07T22:56:45.399780Z"
    },
    "lines_to_next_cell": 2,
    "papermill": {
     "duration": 2.266811,
     "end_time": "2023-03-07T22:56:45.403727",
     "exception": false,
     "start_time": "2023-03-07T22:56:43.136916",
     "status": "completed"
    },
    "tags": []
   },
   "outputs": [],
   "source": [
    "import pandas as pd\n",
    "\n",
    "from sklearn.model_selection import train_test_split\n",
    "from sklearn.preprocessing import StandardScaler, OneHotEncoder\n",
    "from sklearn.impute import SimpleImputer\n",
    "from sklearn.pipeline import make_pipeline\n",
    "from sklearn.compose import make_column_transformer\n",
    "\n",
    "hotel = pd.read_csv('../input/dl-course-data/hotel.csv')\n",
    "\n",
    "X = hotel.copy()\n",
    "y = X.pop('is_canceled')\n",
    "\n",
    "X['arrival_date_month'] = \\\n",
    "    X['arrival_date_month'].map(\n",
    "        {'January':1, 'February': 2, 'March':3,\n",
    "         'April':4, 'May':5, 'June':6, 'July':7,\n",
    "         'August':8, 'September':9, 'October':10,\n",
    "         'November':11, 'December':12}\n",
    "    )\n",
    "\n",
    "features_num = [\n",
    "    \"lead_time\", \"arrival_date_week_number\",\n",
    "    \"arrival_date_day_of_month\", \"stays_in_weekend_nights\",\n",
    "    \"stays_in_week_nights\", \"adults\", \"children\", \"babies\",\n",
    "    \"is_repeated_guest\", \"previous_cancellations\",\n",
    "    \"previous_bookings_not_canceled\", \"required_car_parking_spaces\",\n",
    "    \"total_of_special_requests\", \"adr\",\n",
    "]\n",
    "features_cat = [\n",
    "    \"hotel\", \"arrival_date_month\", \"meal\",\n",
    "    \"market_segment\", \"distribution_channel\",\n",
    "    \"reserved_room_type\", \"deposit_type\", \"customer_type\",\n",
    "]\n",
    "\n",
    "transformer_num = make_pipeline(\n",
    "    SimpleImputer(strategy=\"constant\"), # there are a few missing values\n",
    "    StandardScaler(),\n",
    ")\n",
    "transformer_cat = make_pipeline(\n",
    "    SimpleImputer(strategy=\"constant\", fill_value=\"NA\"),\n",
    "    OneHotEncoder(handle_unknown='ignore'),\n",
    ")\n",
    "\n",
    "preprocessor = make_column_transformer(\n",
    "    (transformer_num, features_num),\n",
    "    (transformer_cat, features_cat),\n",
    ")\n",
    "\n",
    "# stratify - make sure classes are evenlly represented across splits\n",
    "X_train, X_valid, y_train, y_valid = \\\n",
    "    train_test_split(X, y, stratify=y, train_size=0.75)\n",
    "\n",
    "X_train = preprocessor.fit_transform(X_train)\n",
    "X_valid = preprocessor.transform(X_valid)\n",
    "\n",
    "input_shape = [X_train.shape[1]]"
   ]
  },
  {
   "cell_type": "markdown",
   "id": "5be793c5",
   "metadata": {
    "papermill": {
     "duration": 0.003133,
     "end_time": "2023-03-07T22:56:45.410464",
     "exception": false,
     "start_time": "2023-03-07T22:56:45.407331",
     "status": "completed"
    },
    "tags": []
   },
   "source": [
    "# 1) Define Model #\n",
    "\n",
    "The model we'll use this time will have both batch normalization and dropout layers. To ease reading we've broken the diagram into blocks, but you can define it layer by layer as usual.\n",
    "\n",
    "Define a model with an architecture given by this diagram:\n",
    "\n",
    "<figure style=\"padding: 1em;\">\n",
    "<img src=\"https://i.imgur.com/V04o59Z.png\" width=\"400\" alt=\"Diagram of network architecture: BatchNorm, Dense, BatchNorm, Dropout, Dense, BatchNorm, Dropout, Dense.\">\n",
    "<figcaption style=\"textalign: center; font-style: italic\"><center>Diagram of a binary classifier.</center></figcaption>\n",
    "</figure>\n"
   ]
  },
  {
   "cell_type": "code",
   "execution_count": 3,
   "id": "22826036",
   "metadata": {
    "execution": {
     "iopub.execute_input": "2023-03-07T22:56:45.418489Z",
     "iopub.status.busy": "2023-03-07T22:56:45.417884Z",
     "iopub.status.idle": "2023-03-07T22:56:55.729591Z",
     "shell.execute_reply": "2023-03-07T22:56:55.728449Z"
    },
    "lines_to_next_cell": 2,
    "papermill": {
     "duration": 10.318566,
     "end_time": "2023-03-07T22:56:55.732200",
     "exception": false,
     "start_time": "2023-03-07T22:56:45.413634",
     "status": "completed"
    },
    "tags": []
   },
   "outputs": [
    {
     "data": {
      "application/javascript": [
       "parent.postMessage({\"jupyterEvent\": \"custom.exercise_interaction\", \"data\": {\"outcomeType\": 1, \"valueTowardsCompletion\": 0.3333333333333333, \"interactionType\": 1, \"questionType\": 2, \"questionId\": \"1_Q1\", \"learnToolsVersion\": \"0.3.4\", \"failureMessage\": \"\", \"exceptionClass\": \"\", \"trace\": \"\"}}, \"*\")"
      ],
      "text/plain": [
       "<IPython.core.display.Javascript object>"
      ]
     },
     "metadata": {},
     "output_type": "display_data"
    },
    {
     "data": {
      "text/markdown": [
       "<span style=\"color:#33cc33\">Correct</span>"
      ],
      "text/plain": [
       "Correct"
      ]
     },
     "metadata": {},
     "output_type": "display_data"
    }
   ],
   "source": [
    "from tensorflow import keras\n",
    "from tensorflow.keras import layers\n",
    "\n",
    "# YOUR CODE HERE: define the model given in the diagram\n",
    "model = keras.Sequential([\n",
    "    layers.BatchNormalization(input_shape=input_shape),\n",
    "    layers.Dense(256, activation='relu'),\n",
    "    layers.BatchNormalization(),\n",
    "    layers.Dropout(0.3),\n",
    "    layers.Dense(256, activation='relu'),\n",
    "    layers.BatchNormalization(),\n",
    "    layers.Dropout(0.3),\n",
    "    layers.Dense(1, activation='sigmoid')\n",
    "])\n",
    "\n",
    "# Check your answer\n",
    "q_1.check()"
   ]
  },
  {
   "cell_type": "markdown",
   "id": "0ed4daf5",
   "metadata": {
    "papermill": {
     "duration": 0.003301,
     "end_time": "2023-03-07T22:56:55.739167",
     "exception": false,
     "start_time": "2023-03-07T22:56:55.735866",
     "status": "completed"
    },
    "tags": []
   },
   "source": [
    "# 2) Add Optimizer, Loss, and Metric #\n",
    "\n",
    "Now compile the model with the Adam optimizer and binary versions of the cross-entropy loss and accuracy metric."
   ]
  },
  {
   "cell_type": "code",
   "execution_count": 4,
   "id": "422d1e10",
   "metadata": {
    "execution": {
     "iopub.execute_input": "2023-03-07T22:56:55.747983Z",
     "iopub.status.busy": "2023-03-07T22:56:55.747117Z",
     "iopub.status.idle": "2023-03-07T22:56:55.769060Z",
     "shell.execute_reply": "2023-03-07T22:56:55.768157Z"
    },
    "lines_to_next_cell": 0,
    "papermill": {
     "duration": 0.028436,
     "end_time": "2023-03-07T22:56:55.770964",
     "exception": false,
     "start_time": "2023-03-07T22:56:55.742528",
     "status": "completed"
    },
    "tags": []
   },
   "outputs": [
    {
     "data": {
      "application/javascript": [
       "parent.postMessage({\"jupyterEvent\": \"custom.exercise_interaction\", \"data\": {\"outcomeType\": 1, \"valueTowardsCompletion\": 0.3333333333333333, \"interactionType\": 1, \"questionType\": 2, \"questionId\": \"2_Q2\", \"learnToolsVersion\": \"0.3.4\", \"failureMessage\": \"\", \"exceptionClass\": \"\", \"trace\": \"\"}}, \"*\")"
      ],
      "text/plain": [
       "<IPython.core.display.Javascript object>"
      ]
     },
     "metadata": {},
     "output_type": "display_data"
    },
    {
     "data": {
      "text/markdown": [
       "<span style=\"color:#33cc33\">Correct</span>"
      ],
      "text/plain": [
       "Correct"
      ]
     },
     "metadata": {},
     "output_type": "display_data"
    }
   ],
   "source": [
    "# YOUR CODE HERE\n",
    "model.compile(\n",
    "    optimizer='adam',\n",
    "    loss='binary_crossentropy',\n",
    "    metrics=['binary_accuracy'],\n",
    ")\n",
    "\n",
    "# Check your answer\n",
    "q_2.check()"
   ]
  },
  {
   "cell_type": "code",
   "execution_count": 5,
   "id": "28e81fc4",
   "metadata": {
    "execution": {
     "iopub.execute_input": "2023-03-07T22:56:55.779629Z",
     "iopub.status.busy": "2023-03-07T22:56:55.779346Z",
     "iopub.status.idle": "2023-03-07T22:56:55.783317Z",
     "shell.execute_reply": "2023-03-07T22:56:55.782297Z"
    },
    "lines_to_next_cell": 0,
    "papermill": {
     "duration": 0.010995,
     "end_time": "2023-03-07T22:56:55.785706",
     "exception": false,
     "start_time": "2023-03-07T22:56:55.774711",
     "status": "completed"
    },
    "tags": []
   },
   "outputs": [],
   "source": [
    "# Lines below will give you a hint or solution code\n",
    "#q_2.hint()\n",
    "#q_2.solution()"
   ]
  },
  {
   "cell_type": "markdown",
   "id": "18cf7389",
   "metadata": {
    "papermill": {
     "duration": 0.003623,
     "end_time": "2023-03-07T22:56:55.793129",
     "exception": false,
     "start_time": "2023-03-07T22:56:55.789506",
     "status": "completed"
    },
    "tags": []
   },
   "source": [
    "Finally, run this cell to train the model and view the learning curves. It may run for around 60 to 70 epochs, which could take a minute or two."
   ]
  },
  {
   "cell_type": "code",
   "execution_count": 6,
   "id": "d8635eca",
   "metadata": {
    "execution": {
     "iopub.execute_input": "2023-03-07T22:56:55.801665Z",
     "iopub.status.busy": "2023-03-07T22:56:55.801397Z",
     "iopub.status.idle": "2023-03-07T22:57:44.984060Z",
     "shell.execute_reply": "2023-03-07T22:57:44.982984Z"
    },
    "papermill": {
     "duration": 49.189477,
     "end_time": "2023-03-07T22:57:44.986263",
     "exception": false,
     "start_time": "2023-03-07T22:56:55.796786",
     "status": "completed"
    },
    "tags": []
   },
   "outputs": [
    {
     "name": "stdout",
     "output_type": "stream",
     "text": [
      "Epoch 1/200\n",
      "175/175 [==============================] - 6s 7ms/step - loss: 0.4827 - binary_accuracy: 0.7700 - val_loss: 0.4305 - val_binary_accuracy: 0.7943\n",
      "Epoch 2/200\n",
      "175/175 [==============================] - 1s 5ms/step - loss: 0.4231 - binary_accuracy: 0.8017 - val_loss: 0.4022 - val_binary_accuracy: 0.8090\n",
      "Epoch 3/200\n",
      "175/175 [==============================] - 1s 6ms/step - loss: 0.4088 - binary_accuracy: 0.8090 - val_loss: 0.3926 - val_binary_accuracy: 0.8184\n",
      "Epoch 4/200\n",
      "175/175 [==============================] - 1s 7ms/step - loss: 0.4025 - binary_accuracy: 0.8109 - val_loss: 0.3931 - val_binary_accuracy: 0.8195\n",
      "Epoch 5/200\n",
      "175/175 [==============================] - 1s 6ms/step - loss: 0.3974 - binary_accuracy: 0.8145 - val_loss: 0.3858 - val_binary_accuracy: 0.8210\n",
      "Epoch 6/200\n",
      "175/175 [==============================] - 1s 5ms/step - loss: 0.3936 - binary_accuracy: 0.8171 - val_loss: 0.3841 - val_binary_accuracy: 0.8259\n",
      "Epoch 7/200\n",
      "175/175 [==============================] - 1s 5ms/step - loss: 0.3891 - binary_accuracy: 0.8198 - val_loss: 0.3803 - val_binary_accuracy: 0.8276\n",
      "Epoch 8/200\n",
      "175/175 [==============================] - 1s 6ms/step - loss: 0.3859 - binary_accuracy: 0.8197 - val_loss: 0.3790 - val_binary_accuracy: 0.8283\n",
      "Epoch 9/200\n",
      "175/175 [==============================] - 1s 5ms/step - loss: 0.3832 - binary_accuracy: 0.8216 - val_loss: 0.3747 - val_binary_accuracy: 0.8307\n",
      "Epoch 10/200\n",
      "175/175 [==============================] - 1s 6ms/step - loss: 0.3810 - binary_accuracy: 0.8225 - val_loss: 0.3767 - val_binary_accuracy: 0.8297\n",
      "Epoch 11/200\n",
      "175/175 [==============================] - 1s 6ms/step - loss: 0.3777 - binary_accuracy: 0.8252 - val_loss: 0.3685 - val_binary_accuracy: 0.8320\n",
      "Epoch 12/200\n",
      "175/175 [==============================] - 1s 5ms/step - loss: 0.3752 - binary_accuracy: 0.8258 - val_loss: 0.3694 - val_binary_accuracy: 0.8328\n",
      "Epoch 13/200\n",
      "175/175 [==============================] - 1s 6ms/step - loss: 0.3720 - binary_accuracy: 0.8274 - val_loss: 0.3764 - val_binary_accuracy: 0.8298\n",
      "Epoch 14/200\n",
      "175/175 [==============================] - 1s 6ms/step - loss: 0.3701 - binary_accuracy: 0.8278 - val_loss: 0.3688 - val_binary_accuracy: 0.8317\n",
      "Epoch 15/200\n",
      "175/175 [==============================] - 1s 7ms/step - loss: 0.3683 - binary_accuracy: 0.8300 - val_loss: 0.3650 - val_binary_accuracy: 0.8355\n",
      "Epoch 16/200\n",
      "175/175 [==============================] - 1s 5ms/step - loss: 0.3663 - binary_accuracy: 0.8314 - val_loss: 0.3675 - val_binary_accuracy: 0.8358\n",
      "Epoch 17/200\n",
      "175/175 [==============================] - 1s 6ms/step - loss: 0.3634 - binary_accuracy: 0.8325 - val_loss: 0.3633 - val_binary_accuracy: 0.8366\n",
      "Epoch 18/200\n",
      "175/175 [==============================] - 1s 5ms/step - loss: 0.3626 - binary_accuracy: 0.8331 - val_loss: 0.3647 - val_binary_accuracy: 0.8369\n",
      "Epoch 19/200\n",
      "175/175 [==============================] - 1s 5ms/step - loss: 0.3612 - binary_accuracy: 0.8327 - val_loss: 0.3605 - val_binary_accuracy: 0.8370\n",
      "Epoch 20/200\n",
      "175/175 [==============================] - 1s 6ms/step - loss: 0.3605 - binary_accuracy: 0.8333 - val_loss: 0.3609 - val_binary_accuracy: 0.8361\n",
      "Epoch 21/200\n",
      "175/175 [==============================] - 1s 6ms/step - loss: 0.3575 - binary_accuracy: 0.8346 - val_loss: 0.3602 - val_binary_accuracy: 0.8368\n",
      "Epoch 22/200\n",
      "175/175 [==============================] - 1s 5ms/step - loss: 0.3576 - binary_accuracy: 0.8348 - val_loss: 0.3593 - val_binary_accuracy: 0.8368\n",
      "Epoch 23/200\n",
      "175/175 [==============================] - 1s 6ms/step - loss: 0.3550 - binary_accuracy: 0.8358 - val_loss: 0.3562 - val_binary_accuracy: 0.8355\n",
      "Epoch 24/200\n",
      "175/175 [==============================] - 1s 7ms/step - loss: 0.3551 - binary_accuracy: 0.8348 - val_loss: 0.3596 - val_binary_accuracy: 0.8385\n",
      "Epoch 25/200\n",
      "175/175 [==============================] - 1s 5ms/step - loss: 0.3515 - binary_accuracy: 0.8379 - val_loss: 0.3570 - val_binary_accuracy: 0.8385\n",
      "Epoch 26/200\n",
      "175/175 [==============================] - 1s 7ms/step - loss: 0.3520 - binary_accuracy: 0.8369 - val_loss: 0.3567 - val_binary_accuracy: 0.8399\n",
      "Epoch 27/200\n",
      "175/175 [==============================] - 1s 5ms/step - loss: 0.3516 - binary_accuracy: 0.8372 - val_loss: 0.3555 - val_binary_accuracy: 0.8411\n",
      "Epoch 28/200\n",
      "175/175 [==============================] - 1s 6ms/step - loss: 0.3500 - binary_accuracy: 0.8379 - val_loss: 0.3541 - val_binary_accuracy: 0.8391\n",
      "Epoch 29/200\n",
      "175/175 [==============================] - 1s 5ms/step - loss: 0.3484 - binary_accuracy: 0.8391 - val_loss: 0.3569 - val_binary_accuracy: 0.8386\n",
      "Epoch 30/200\n",
      "175/175 [==============================] - 1s 6ms/step - loss: 0.3463 - binary_accuracy: 0.8400 - val_loss: 0.3578 - val_binary_accuracy: 0.8399\n",
      "Epoch 31/200\n",
      "175/175 [==============================] - 1s 6ms/step - loss: 0.3456 - binary_accuracy: 0.8406 - val_loss: 0.3547 - val_binary_accuracy: 0.8405\n",
      "Epoch 32/200\n",
      "175/175 [==============================] - 1s 6ms/step - loss: 0.3464 - binary_accuracy: 0.8399 - val_loss: 0.3531 - val_binary_accuracy: 0.8414\n",
      "Epoch 33/200\n",
      "175/175 [==============================] - 1s 5ms/step - loss: 0.3447 - binary_accuracy: 0.8403 - val_loss: 0.3531 - val_binary_accuracy: 0.8409\n",
      "Epoch 34/200\n",
      "175/175 [==============================] - 1s 5ms/step - loss: 0.3432 - binary_accuracy: 0.8418 - val_loss: 0.3520 - val_binary_accuracy: 0.8407\n",
      "Epoch 35/200\n",
      "175/175 [==============================] - 1s 6ms/step - loss: 0.3438 - binary_accuracy: 0.8404 - val_loss: 0.3534 - val_binary_accuracy: 0.8403\n",
      "Epoch 36/200\n",
      "175/175 [==============================] - 1s 6ms/step - loss: 0.3414 - binary_accuracy: 0.8413 - val_loss: 0.3531 - val_binary_accuracy: 0.8412\n",
      "Epoch 37/200\n",
      "175/175 [==============================] - 1s 7ms/step - loss: 0.3415 - binary_accuracy: 0.8420 - val_loss: 0.3514 - val_binary_accuracy: 0.8408\n",
      "Epoch 38/200\n",
      "175/175 [==============================] - 1s 5ms/step - loss: 0.3410 - binary_accuracy: 0.8424 - val_loss: 0.3506 - val_binary_accuracy: 0.8408\n",
      "Epoch 39/200\n",
      "175/175 [==============================] - 1s 5ms/step - loss: 0.3400 - binary_accuracy: 0.8422 - val_loss: 0.3550 - val_binary_accuracy: 0.8393\n",
      "Epoch 40/200\n",
      "175/175 [==============================] - 1s 6ms/step - loss: 0.3370 - binary_accuracy: 0.8440 - val_loss: 0.3547 - val_binary_accuracy: 0.8413\n",
      "Epoch 41/200\n",
      "175/175 [==============================] - 1s 6ms/step - loss: 0.3374 - binary_accuracy: 0.8426 - val_loss: 0.3552 - val_binary_accuracy: 0.8397\n",
      "Epoch 42/200\n",
      "175/175 [==============================] - 1s 5ms/step - loss: 0.3371 - binary_accuracy: 0.8438 - val_loss: 0.3514 - val_binary_accuracy: 0.8408\n",
      "Epoch 43/200\n",
      "175/175 [==============================] - 1s 6ms/step - loss: 0.3348 - binary_accuracy: 0.8460 - val_loss: 0.3498 - val_binary_accuracy: 0.8428\n"
     ]
    },
    {
     "data": {
      "text/plain": [
       "<AxesSubplot:title={'center':'Accuracy'}>"
      ]
     },
     "execution_count": 6,
     "metadata": {},
     "output_type": "execute_result"
    },
    {
     "data": {
      "image/png": "[encoded data removed]",
      "text/plain": [
       "<Figure size 640x480 with 1 Axes>"
      ]
     },
     "metadata": {},
     "output_type": "display_data"
    },
    {
     "data": {
      "image/png": "[encoded data removed]",
      "text/plain": [
       "<Figure size 640x480 with 1 Axes>"
      ]
     },
     "metadata": {},
     "output_type": "display_data"
    }
   ],
   "source": [
    "early_stopping = keras.callbacks.EarlyStopping(\n",
    "    patience=5,\n",
    "    min_delta=0.001,\n",
    "    restore_best_weights=True,\n",
    ")\n",
    "history = model.fit(\n",
    "    X_train, y_train,\n",
    "    validation_data=(X_valid, y_valid),\n",
    "    batch_size=512,\n",
    "    epochs=200,\n",
    "    callbacks=[early_stopping],\n",
    ")\n",
    "\n",
    "history_df = pd.DataFrame(history.history)\n",
    "history_df.loc[:, ['loss', 'val_loss']].plot(title=\"Cross-entropy\")\n",
    "history_df.loc[:, ['binary_accuracy', 'val_binary_accuracy']].plot(title=\"Accuracy\")"
   ]
  },
  {
   "cell_type": "markdown",
   "id": "2c695fbb",
   "metadata": {
    "papermill": {
     "duration": 0.044294,
     "end_time": "2023-03-07T22:57:45.076388",
     "exception": false,
     "start_time": "2023-03-07T22:57:45.032094",
     "status": "completed"
    },
    "tags": []
   },
   "source": [
    "# 3) Train and Evaluate #\n",
    "\n",
    "\n",
    "What do you think about the learning curves? Does it look like the model underfit or overfit? Was the cross-entropy loss a good stand-in for accuracy?"
   ]
  },
  {
   "cell_type": "code",
   "execution_count": 7,
   "id": "f7448bc9",
   "metadata": {
    "execution": {
     "iopub.execute_input": "2023-03-07T22:57:45.167128Z",
     "iopub.status.busy": "2023-03-07T22:57:45.166044Z",
     "iopub.status.idle": "2023-03-07T22:57:45.175911Z",
     "shell.execute_reply": "2023-03-07T22:57:45.175037Z"
    },
    "papermill": {
     "duration": 0.057352,
     "end_time": "2023-03-07T22:57:45.178134",
     "exception": false,
     "start_time": "2023-03-07T22:57:45.120782",
     "status": "completed"
    },
    "tags": []
   },
   "outputs": [
    {
     "data": {
      "application/javascript": [
       "parent.postMessage({\"jupyterEvent\": \"custom.exercise_interaction\", \"data\": {\"outcomeType\": 1, \"valueTowardsCompletion\": 0.3333333333333333, \"interactionType\": 1, \"questionType\": 4, \"questionId\": \"3_Q3\", \"learnToolsVersion\": \"0.3.4\", \"failureMessage\": \"\", \"exceptionClass\": \"\", \"trace\": \"\"}}, \"*\")"
      ],
      "text/plain": [
       "<IPython.core.display.Javascript object>"
      ]
     },
     "metadata": {},
     "output_type": "display_data"
    },
    {
     "data": {
      "text/markdown": [
       "<span style=\"color:#33cc33\">Correct:</span> \n",
       "\n",
       "Though we can see the training loss continuing to fall, the early stopping callback prevented any overfitting. Moreover, the accuracy rose at the same rate as the cross-entropy fell, so it appears that minimizing cross-entropy was a good stand-in. All in all, it looks like this training was a success!"
      ],
      "text/plain": [
       "Correct: \n",
       "\n",
       "Though we can see the training loss continuing to fall, the early stopping callback prevented any overfitting. Moreover, the accuracy rose at the same rate as the cross-entropy fell, so it appears that minimizing cross-entropy was a good stand-in. All in all, it looks like this training was a success!"
      ]
     },
     "metadata": {},
     "output_type": "display_data"
    }
   ],
   "source": [
    "# View the solution (Run this cell to receive credit!)\n",
    "q_3.check()"
   ]
  },
  {
   "cell_type": "markdown",
   "id": "de39d0d2",
   "metadata": {
    "papermill": {
     "duration": 0.044283,
     "end_time": "2023-03-07T22:57:45.266601",
     "exception": false,
     "start_time": "2023-03-07T22:57:45.222318",
     "status": "completed"
    },
    "tags": []
   },
   "source": [
    "# Conclusion #\n",
    "\n",
    "Congratulations! You've completed Kaggle's *Introduction to Deep Learning* course!\n",
    "\n",
    "With your new skills you're ready to take on more advanced applications like computer vision and sentiment classification. What would you like to do next?\n",
    "\n",
    "Why not try one of our *Getting Started* competitions?\n",
    "\n",
    "- Classify images with TPUs in [**Petals to the Metal**](https://www.kaggle.com/c/tpu-getting-started)\n",
    "- Create art with GANs in [**I'm Something of a Painter Myself**](https://www.kaggle.com/c/gan-getting-started)\n",
    "- Classify Tweets in [**Real or Not? NLP with Disaster Tweets**](https://www.kaggle.com/c/nlp-getting-started)\n",
    "- Detect contradiction and entailment in [**Contradictory, My Dear Watson**](https://www.kaggle.com/c/contradictory-my-dear-watson)\n",
    "\n",
    "Until next time, Kagglers!"
   ]
  },
  {
   "cell_type": "markdown",
   "id": "3c6d8364",
   "metadata": {
    "papermill": {
     "duration": 0.044417,
     "end_time": "2023-03-07T22:57:45.355416",
     "exception": false,
     "start_time": "2023-03-07T22:57:45.310999",
     "status": "completed"
    },
    "tags": []
   },
   "source": [
    "---\n",
    "\n",
    "\n",
    "\n",
    "\n",
    "*Have questions or comments? Visit the [course discussion forum](https://www.kaggle.com/learn/intro-to-deep-learning/discussion) to chat with other learners.*"
   ]
  }
 ],
 "metadata": {
  "kernelspec": {
   "display_name": "Python 3",
   "language": "python",
   "name": "python3"
  },
  "language_info": {
   "codemirror_mode": {
    "name": "ipython",
    "version": 3
   },
   "file_extension": ".py",
   "mimetype": "text/x-python",
   "name": "python",
   "nbconvert_exporter": "python",
   "pygments_lexer": "ipython3",
   "version": "3.7.12"
  },
  "papermill": {
   "default_parameters": {},
   "duration": 74.749641,
   "end_time": "2023-03-07T22:57:48.699920",
   "environment_variables": {},
   "exception": null,
   "input_path": "__notebook__.ipynb",
   "output_path": "__notebook__.ipynb",
   "parameters": {},
   "start_time": "2023-03-07T22:56:33.950279",
   "version": "2.4.0"
  }
 },
 "nbformat": 4,
 "nbformat_minor": 5
}
