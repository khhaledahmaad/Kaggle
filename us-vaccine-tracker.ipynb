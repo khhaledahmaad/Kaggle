{
 "cells": [
  {
   "cell_type": "markdown",
   "metadata": {
    "papermill": {
     "duration": 0.012723,
     "end_time": "2022-12-19T00:02:58.554276",
     "exception": false,
     "start_time": "2022-12-19T00:02:58.541553",
     "status": "completed"
    },
    "tags": []
   },
   "source": [
    "# Introduction\n",
    "\n",
    "It can be a troubling time, but we do have hope on the horizon, with the news we get daily about vaccines. Multiple companies are releasing and getting their vaccines approved; we may  soon see a path forward. \n",
    "\n",
    "Using the robust toolset provided by Kaggle, I'll show you how to create an interactive map to track, for each state, the percentage of inhabitants that have been vaccinated against COVID-19.  \n",
    "\n",
    "To get started, if you haven't already, make your own copy of this notebook by clicking on the **[Copy and Edit]** button in the top right corner. \n",
    "\n",
    "This notebook is an example of a project that you can create based on what you'd learn from taking Kaggle's [Geospatial Analysis course](https://www.kaggle.com/learn/geospatial-analysis).\n",
    "\n",
    "# US Vaccine Tracker\n",
    "\n",
    "We'll use two datasets.  \n",
    "\n",
    "- The first dataset has the total number of inhabitants of each state, along with latitude and longitude data for each state's capital city.  This dataset is pulled from the 2019 US Census, and I've uploaded it [here](https://www.kaggle.com/peretzcohen/2019-census-us-population-data-by-state).\n",
    "- The second dataset contains a recent estimate for the total number of people that have been vaccinated in each state.  This [vaccine dataset](https://github.com/owid/covid-19-data/blob/master/public/data/vaccinations/us_state_vaccinations.csv) is drawn from [Our World In Data](https://ourworldindata.org/), who update their vaccine datasets from the CDC quite regularly.  Every time you run this notebook, you'll use the most recent version of their data.\n",
    "\n",
    "In the next code cell, we load and preprocess the data.  As output, you'll see the total percent of the population that has been vaccinated in the US, along with a preview of the Pandas DataFrame that we'll use to make the tracker."
   ]
  },
  {
   "cell_type": "code",
   "execution_count": 1,
   "metadata": {
    "_cell_guid": "79c7e3d0-c299-4dcb-8224-4455121ee9b0",
    "_uuid": "d629ff2d2480ee46fbb7e2d37f6b5fab8052498a",
    "execution": {
     "iopub.execute_input": "2022-12-19T00:02:58.577474Z",
     "iopub.status.busy": "2022-12-19T00:02:58.576663Z",
     "iopub.status.idle": "2022-12-19T00:03:00.215206Z",
     "shell.execute_reply": "2022-12-19T00:03:00.214465Z",
     "shell.execute_reply.started": "2022-12-19T00:01:42.014457Z"
    },
    "papermill": {
     "duration": 1.651049,
     "end_time": "2022-12-19T00:03:00.215373",
     "exception": false,
     "start_time": "2022-12-19T00:02:58.564324",
     "status": "completed"
    },
    "tags": []
   },
   "outputs": [],
   "source": [
    "# Imports\n",
    "import pandas as pd\n",
    "import datetime\n",
    "from datetime import date, timedelta\n",
    "import folium\n",
    "from folium import Marker\n",
    "from folium.plugins import MarkerCluster\n",
    "import math\n",
    "import matplotlib.pyplot as plt\n",
    "import seaborn as sns"
   ]
  },
  {
   "cell_type": "code",
   "execution_count": 2,
   "metadata": {
    "_cell_guid": "79c7e3d0-c299-4dcb-8224-4455121ee9b0",
    "_uuid": "d629ff2d2480ee46fbb7e2d37f6b5fab8052498a",
    "execution": {
     "iopub.execute_input": "2022-12-19T00:03:00.251056Z",
     "iopub.status.busy": "2022-12-19T00:03:00.250172Z",
     "iopub.status.idle": "2022-12-19T00:03:00.288052Z",
     "shell.execute_reply": "2022-12-19T00:03:00.289161Z",
     "shell.execute_reply.started": "2022-12-19T00:01:42.032910Z"
    },
    "papermill": {
     "duration": 0.0648,
     "end_time": "2022-12-19T00:03:00.289501",
     "exception": false,
     "start_time": "2022-12-19T00:03:00.224701",
     "status": "completed"
    },
    "tags": []
   },
   "outputs": [
    {
     "name": "stdout",
     "output_type": "stream",
     "text": [
      "Rows: 51, Columns: 4\n"
     ]
    },
    {
     "data": {
      "text/html": [
       "<div>\n",
       "<style scoped>\n",
       "    .dataframe tbody tr th:only-of-type {\n",
       "        vertical-align: middle;\n",
       "    }\n",
       "\n",
       "    .dataframe tbody tr th {\n",
       "        vertical-align: top;\n",
       "    }\n",
       "\n",
       "    .dataframe thead th {\n",
       "        text-align: right;\n",
       "    }\n",
       "</style>\n",
       "<table border=\"1\" class=\"dataframe\">\n",
       "  <thead>\n",
       "    <tr style=\"text-align: right;\">\n",
       "      <th></th>\n",
       "      <th>STATE</th>\n",
       "      <th>POPESTIMATE2019</th>\n",
       "      <th>lat</th>\n",
       "      <th>long</th>\n",
       "    </tr>\n",
       "  </thead>\n",
       "  <tbody>\n",
       "    <tr>\n",
       "      <th>0</th>\n",
       "      <td>Alabama</td>\n",
       "      <td>4903185</td>\n",
       "      <td>32.377716</td>\n",
       "      <td>-86.300568</td>\n",
       "    </tr>\n",
       "    <tr>\n",
       "      <th>1</th>\n",
       "      <td>Alaska</td>\n",
       "      <td>731545</td>\n",
       "      <td>58.301598</td>\n",
       "      <td>-134.420212</td>\n",
       "    </tr>\n",
       "    <tr>\n",
       "      <th>2</th>\n",
       "      <td>Arizona</td>\n",
       "      <td>7278717</td>\n",
       "      <td>33.448143</td>\n",
       "      <td>-112.096962</td>\n",
       "    </tr>\n",
       "    <tr>\n",
       "      <th>3</th>\n",
       "      <td>Arkansas</td>\n",
       "      <td>3017804</td>\n",
       "      <td>34.746613</td>\n",
       "      <td>-92.288986</td>\n",
       "    </tr>\n",
       "    <tr>\n",
       "      <th>4</th>\n",
       "      <td>California</td>\n",
       "      <td>39512223</td>\n",
       "      <td>38.576668</td>\n",
       "      <td>-121.493629</td>\n",
       "    </tr>\n",
       "  </tbody>\n",
       "</table>\n",
       "</div>"
      ],
      "text/plain": [
       "        STATE  POPESTIMATE2019        lat        long\n",
       "0     Alabama          4903185  32.377716  -86.300568\n",
       "1      Alaska           731545  58.301598 -134.420212\n",
       "2     Arizona          7278717  33.448143 -112.096962\n",
       "3    Arkansas          3017804  34.746613  -92.288986\n",
       "4  California         39512223  38.576668 -121.493629"
      ]
     },
     "execution_count": 2,
     "metadata": {},
     "output_type": "execute_result"
    }
   ],
   "source": [
    "# Population Data\n",
    "populationData = pd.read_csv('/kaggle/input/2019-census-us-population-data-by-state/2019_Census_US_Population_Data_By_State_Lat_Long.csv')\n",
    "\n",
    "# Preview\n",
    "print(f'Rows: {populationData.shape[0]}, Columns: {populationData.shape[1]}')\n",
    "populationData.head()"
   ]
  },
  {
   "cell_type": "code",
   "execution_count": 3,
   "metadata": {
    "_cell_guid": "79c7e3d0-c299-4dcb-8224-4455121ee9b0",
    "_uuid": "d629ff2d2480ee46fbb7e2d37f6b5fab8052498a",
    "execution": {
     "iopub.execute_input": "2022-12-19T00:03:00.334447Z",
     "iopub.status.busy": "2022-12-19T00:03:00.333478Z",
     "iopub.status.idle": "2022-12-19T00:03:00.775128Z",
     "shell.execute_reply": "2022-12-19T00:03:00.775806Z",
     "shell.execute_reply.started": "2022-12-19T00:01:42.063920Z"
    },
    "papermill": {
     "duration": 0.475063,
     "end_time": "2022-12-19T00:03:00.776013",
     "exception": false,
     "start_time": "2022-12-19T00:03:00.300950",
     "status": "completed"
    },
    "tags": []
   },
   "outputs": [
    {
     "name": "stdout",
     "output_type": "stream",
     "text": [
      "Rows: 45220, Columns: 16\n"
     ]
    },
    {
     "data": {
      "text/html": [
       "<div>\n",
       "<style scoped>\n",
       "    .dataframe tbody tr th:only-of-type {\n",
       "        vertical-align: middle;\n",
       "    }\n",
       "\n",
       "    .dataframe tbody tr th {\n",
       "        vertical-align: top;\n",
       "    }\n",
       "\n",
       "    .dataframe thead th {\n",
       "        text-align: right;\n",
       "    }\n",
       "</style>\n",
       "<table border=\"1\" class=\"dataframe\">\n",
       "  <thead>\n",
       "    <tr style=\"text-align: right;\">\n",
       "      <th></th>\n",
       "      <th>date</th>\n",
       "      <th>location</th>\n",
       "      <th>total_vaccinations</th>\n",
       "      <th>total_distributed</th>\n",
       "      <th>people_vaccinated</th>\n",
       "      <th>people_fully_vaccinated_per_hundred</th>\n",
       "      <th>total_vaccinations_per_hundred</th>\n",
       "      <th>people_fully_vaccinated</th>\n",
       "      <th>people_vaccinated_per_hundred</th>\n",
       "      <th>distributed_per_hundred</th>\n",
       "      <th>daily_vaccinations_raw</th>\n",
       "      <th>daily_vaccinations</th>\n",
       "      <th>daily_vaccinations_per_million</th>\n",
       "      <th>share_doses_used</th>\n",
       "      <th>total_boosters</th>\n",
       "      <th>total_boosters_per_hundred</th>\n",
       "    </tr>\n",
       "  </thead>\n",
       "  <tbody>\n",
       "    <tr>\n",
       "      <th>0</th>\n",
       "      <td>2021-01-12</td>\n",
       "      <td>Alabama</td>\n",
       "      <td>78134.0</td>\n",
       "      <td>377025.0</td>\n",
       "      <td>70861.0</td>\n",
       "      <td>0.15</td>\n",
       "      <td>1.59</td>\n",
       "      <td>7270.0</td>\n",
       "      <td>1.45</td>\n",
       "      <td>7.69</td>\n",
       "      <td>NaN</td>\n",
       "      <td>NaN</td>\n",
       "      <td>NaN</td>\n",
       "      <td>0.207</td>\n",
       "      <td>NaN</td>\n",
       "      <td>NaN</td>\n",
       "    </tr>\n",
       "    <tr>\n",
       "      <th>1</th>\n",
       "      <td>2021-01-13</td>\n",
       "      <td>Alabama</td>\n",
       "      <td>84040.0</td>\n",
       "      <td>378975.0</td>\n",
       "      <td>74792.0</td>\n",
       "      <td>0.19</td>\n",
       "      <td>1.71</td>\n",
       "      <td>9245.0</td>\n",
       "      <td>1.53</td>\n",
       "      <td>7.73</td>\n",
       "      <td>5906.0</td>\n",
       "      <td>5906.0</td>\n",
       "      <td>1205.0</td>\n",
       "      <td>0.222</td>\n",
       "      <td>NaN</td>\n",
       "      <td>NaN</td>\n",
       "    </tr>\n",
       "    <tr>\n",
       "      <th>2</th>\n",
       "      <td>2021-01-14</td>\n",
       "      <td>Alabama</td>\n",
       "      <td>92300.0</td>\n",
       "      <td>435350.0</td>\n",
       "      <td>80480.0</td>\n",
       "      <td>NaN</td>\n",
       "      <td>1.88</td>\n",
       "      <td>NaN</td>\n",
       "      <td>1.64</td>\n",
       "      <td>8.88</td>\n",
       "      <td>8260.0</td>\n",
       "      <td>7083.0</td>\n",
       "      <td>1445.0</td>\n",
       "      <td>0.212</td>\n",
       "      <td>NaN</td>\n",
       "      <td>NaN</td>\n",
       "    </tr>\n",
       "    <tr>\n",
       "      <th>3</th>\n",
       "      <td>2021-01-15</td>\n",
       "      <td>Alabama</td>\n",
       "      <td>100567.0</td>\n",
       "      <td>444650.0</td>\n",
       "      <td>86956.0</td>\n",
       "      <td>0.28</td>\n",
       "      <td>2.05</td>\n",
       "      <td>13488.0</td>\n",
       "      <td>1.77</td>\n",
       "      <td>9.07</td>\n",
       "      <td>8267.0</td>\n",
       "      <td>7478.0</td>\n",
       "      <td>1525.0</td>\n",
       "      <td>0.226</td>\n",
       "      <td>NaN</td>\n",
       "      <td>NaN</td>\n",
       "    </tr>\n",
       "    <tr>\n",
       "      <th>4</th>\n",
       "      <td>2021-01-16</td>\n",
       "      <td>Alabama</td>\n",
       "      <td>NaN</td>\n",
       "      <td>NaN</td>\n",
       "      <td>NaN</td>\n",
       "      <td>NaN</td>\n",
       "      <td>NaN</td>\n",
       "      <td>NaN</td>\n",
       "      <td>NaN</td>\n",
       "      <td>NaN</td>\n",
       "      <td>NaN</td>\n",
       "      <td>7498.0</td>\n",
       "      <td>1529.0</td>\n",
       "      <td>NaN</td>\n",
       "      <td>NaN</td>\n",
       "      <td>NaN</td>\n",
       "    </tr>\n",
       "  </tbody>\n",
       "</table>\n",
       "</div>"
      ],
      "text/plain": [
       "         date location  total_vaccinations  total_distributed  \\\n",
       "0  2021-01-12  Alabama             78134.0           377025.0   \n",
       "1  2021-01-13  Alabama             84040.0           378975.0   \n",
       "2  2021-01-14  Alabama             92300.0           435350.0   \n",
       "3  2021-01-15  Alabama            100567.0           444650.0   \n",
       "4  2021-01-16  Alabama                 NaN                NaN   \n",
       "\n",
       "   people_vaccinated  people_fully_vaccinated_per_hundred  \\\n",
       "0            70861.0                                 0.15   \n",
       "1            74792.0                                 0.19   \n",
       "2            80480.0                                  NaN   \n",
       "3            86956.0                                 0.28   \n",
       "4                NaN                                  NaN   \n",
       "\n",
       "   total_vaccinations_per_hundred  people_fully_vaccinated  \\\n",
       "0                            1.59                   7270.0   \n",
       "1                            1.71                   9245.0   \n",
       "2                            1.88                      NaN   \n",
       "3                            2.05                  13488.0   \n",
       "4                             NaN                      NaN   \n",
       "\n",
       "   people_vaccinated_per_hundred  distributed_per_hundred  \\\n",
       "0                           1.45                     7.69   \n",
       "1                           1.53                     7.73   \n",
       "2                           1.64                     8.88   \n",
       "3                           1.77                     9.07   \n",
       "4                            NaN                      NaN   \n",
       "\n",
       "   daily_vaccinations_raw  daily_vaccinations  daily_vaccinations_per_million  \\\n",
       "0                     NaN                 NaN                             NaN   \n",
       "1                  5906.0              5906.0                          1205.0   \n",
       "2                  8260.0              7083.0                          1445.0   \n",
       "3                  8267.0              7478.0                          1525.0   \n",
       "4                     NaN              7498.0                          1529.0   \n",
       "\n",
       "   share_doses_used  total_boosters  total_boosters_per_hundred  \n",
       "0             0.207             NaN                         NaN  \n",
       "1             0.222             NaN                         NaN  \n",
       "2             0.212             NaN                         NaN  \n",
       "3             0.226             NaN                         NaN  \n",
       "4               NaN             NaN                         NaN  "
      ]
     },
     "execution_count": 3,
     "metadata": {},
     "output_type": "execute_result"
    }
   ],
   "source": [
    "# Vaccination data, for most recent date\n",
    "vaccinationData = pd.read_csv('https://raw.githubusercontent.com/owid/covid-19-data/master/public/data/vaccinations/us_state_vaccinations.csv',)\n",
    "\n",
    "# Preview\n",
    "print(f'Rows: {vaccinationData.shape[0]}, Columns: {vaccinationData.shape[1]}')\n",
    "vaccinationData.head()"
   ]
  },
  {
   "cell_type": "code",
   "execution_count": 4,
   "metadata": {
    "execution": {
     "iopub.execute_input": "2022-12-19T00:03:00.804586Z",
     "iopub.status.busy": "2022-12-19T00:03:00.803789Z",
     "iopub.status.idle": "2022-12-19T00:03:00.827520Z",
     "shell.execute_reply": "2022-12-19T00:03:00.826543Z",
     "shell.execute_reply.started": "2022-12-19T00:01:42.853238Z"
    },
    "papermill": {
     "duration": 0.040064,
     "end_time": "2022-12-19T00:03:00.827698",
     "exception": false,
     "start_time": "2022-12-19T00:03:00.787634",
     "status": "completed"
    },
    "tags": []
   },
   "outputs": [
    {
     "name": "stdout",
     "output_type": "stream",
     "text": [
      "<class 'pandas.core.frame.DataFrame'>\n",
      "RangeIndex: 45220 entries, 0 to 45219\n",
      "Data columns (total 16 columns):\n",
      " #   Column                               Non-Null Count  Dtype  \n",
      "---  ------                               --------------  -----  \n",
      " 0   date                                 45220 non-null  object \n",
      " 1   location                             45220 non-null  object \n",
      " 2   total_vaccinations                   31349 non-null  float64\n",
      " 3   total_distributed                    31089 non-null  float64\n",
      " 4   people_vaccinated                    31085 non-null  float64\n",
      " 5   people_fully_vaccinated_per_hundred  29531 non-null  float64\n",
      " 6   total_vaccinations_per_hundred       29630 non-null  float64\n",
      " 7   people_fully_vaccinated              31005 non-null  float64\n",
      " 8   people_vaccinated_per_hundred        29606 non-null  float64\n",
      " 9   distributed_per_hundred              29610 non-null  float64\n",
      " 10  daily_vaccinations_raw               28441 non-null  float64\n",
      " 11  daily_vaccinations                   45155 non-null  float64\n",
      " 12  daily_vaccinations_per_million       42749 non-null  float64\n",
      " 13  share_doses_used                     31089 non-null  float64\n",
      " 14  total_boosters                       16933 non-null  float64\n",
      " 15  total_boosters_per_hundred           16134 non-null  float64\n",
      "dtypes: float64(14), object(2)\n",
      "memory usage: 5.5+ MB\n"
     ]
    }
   ],
   "source": [
    "# Info\n",
    "vaccinationData.info()"
   ]
  },
  {
   "cell_type": "code",
   "execution_count": 5,
   "metadata": {
    "_cell_guid": "79c7e3d0-c299-4dcb-8224-4455121ee9b0",
    "_uuid": "d629ff2d2480ee46fbb7e2d37f6b5fab8052498a",
    "execution": {
     "iopub.execute_input": "2022-12-19T00:03:00.856239Z",
     "iopub.status.busy": "2022-12-19T00:03:00.855487Z",
     "iopub.status.idle": "2022-12-19T00:03:00.867544Z",
     "shell.execute_reply": "2022-12-19T00:03:00.866940Z",
     "shell.execute_reply.started": "2022-12-19T00:01:42.878685Z"
    },
    "papermill": {
     "duration": 0.027954,
     "end_time": "2022-12-19T00:03:00.867703",
     "exception": false,
     "start_time": "2022-12-19T00:03:00.839749",
     "status": "completed"
    },
    "tags": []
   },
   "outputs": [
    {
     "data": {
      "text/plain": [
       "'2022-12-14'"
      ]
     },
     "execution_count": 5,
     "metadata": {},
     "output_type": "execute_result"
    }
   ],
   "source": [
    "# Get the most recent date for filtering\n",
    "freshDate = vaccinationData.date.max()\n",
    "freshDate"
   ]
  },
  {
   "cell_type": "code",
   "execution_count": 6,
   "metadata": {
    "_cell_guid": "79c7e3d0-c299-4dcb-8224-4455121ee9b0",
    "_uuid": "d629ff2d2480ee46fbb7e2d37f6b5fab8052498a",
    "execution": {
     "iopub.execute_input": "2022-12-19T00:03:00.913576Z",
     "iopub.status.busy": "2022-12-19T00:03:00.900534Z",
     "iopub.status.idle": "2022-12-19T00:03:00.920519Z",
     "shell.execute_reply": "2022-12-19T00:03:00.921348Z",
     "shell.execute_reply.started": "2022-12-19T00:01:42.893424Z"
    },
    "papermill": {
     "duration": 0.041846,
     "end_time": "2022-12-19T00:03:00.921620",
     "exception": false,
     "start_time": "2022-12-19T00:03:00.879774",
     "status": "completed"
    },
    "tags": []
   },
   "outputs": [
    {
     "data": {
      "text/html": [
       "<div>\n",
       "<style scoped>\n",
       "    .dataframe tbody tr th:only-of-type {\n",
       "        vertical-align: middle;\n",
       "    }\n",
       "\n",
       "    .dataframe tbody tr th {\n",
       "        vertical-align: top;\n",
       "    }\n",
       "\n",
       "    .dataframe thead th {\n",
       "        text-align: right;\n",
       "    }\n",
       "</style>\n",
       "<table border=\"1\" class=\"dataframe\">\n",
       "  <thead>\n",
       "    <tr style=\"text-align: right;\">\n",
       "      <th></th>\n",
       "      <th>location</th>\n",
       "      <th>people_vaccinated</th>\n",
       "    </tr>\n",
       "  </thead>\n",
       "  <tbody>\n",
       "    <tr>\n",
       "      <th>701</th>\n",
       "      <td>Alabama</td>\n",
       "      <td>3175322.0</td>\n",
       "    </tr>\n",
       "    <tr>\n",
       "      <th>1403</th>\n",
       "      <td>Alaska</td>\n",
       "      <td>531514.0</td>\n",
       "    </tr>\n",
       "    <tr>\n",
       "      <th>2105</th>\n",
       "      <td>American Samoa</td>\n",
       "      <td>46120.0</td>\n",
       "    </tr>\n",
       "    <tr>\n",
       "      <th>2807</th>\n",
       "      <td>Arizona</td>\n",
       "      <td>5594106.0</td>\n",
       "    </tr>\n",
       "    <tr>\n",
       "      <th>3509</th>\n",
       "      <td>Arkansas</td>\n",
       "      <td>2097958.0</td>\n",
       "    </tr>\n",
       "    <tr>\n",
       "      <th>...</th>\n",
       "      <td>...</td>\n",
       "      <td>...</td>\n",
       "    </tr>\n",
       "    <tr>\n",
       "      <th>42411</th>\n",
       "      <td>Virginia</td>\n",
       "      <td>7711567.0</td>\n",
       "    </tr>\n",
       "    <tr>\n",
       "      <th>43113</th>\n",
       "      <td>Washington</td>\n",
       "      <td>6452206.0</td>\n",
       "    </tr>\n",
       "    <tr>\n",
       "      <th>43815</th>\n",
       "      <td>West Virginia</td>\n",
       "      <td>1204857.0</td>\n",
       "    </tr>\n",
       "    <tr>\n",
       "      <th>44517</th>\n",
       "      <td>Wisconsin</td>\n",
       "      <td>4353385.0</td>\n",
       "    </tr>\n",
       "    <tr>\n",
       "      <th>45219</th>\n",
       "      <td>Wyoming</td>\n",
       "      <td>350512.0</td>\n",
       "    </tr>\n",
       "  </tbody>\n",
       "</table>\n",
       "<p>64 rows × 2 columns</p>\n",
       "</div>"
      ],
      "text/plain": [
       "             location  people_vaccinated\n",
       "701           Alabama          3175322.0\n",
       "1403           Alaska           531514.0\n",
       "2105   American Samoa            46120.0\n",
       "2807          Arizona          5594106.0\n",
       "3509         Arkansas          2097958.0\n",
       "...               ...                ...\n",
       "42411        Virginia          7711567.0\n",
       "43113      Washington          6452206.0\n",
       "43815   West Virginia          1204857.0\n",
       "44517       Wisconsin          4353385.0\n",
       "45219         Wyoming           350512.0\n",
       "\n",
       "[64 rows x 2 columns]"
      ]
     },
     "execution_count": 6,
     "metadata": {},
     "output_type": "execute_result"
    }
   ],
   "source": [
    "# Filter by the most recent date\n",
    "vaccinationByLocation = vaccinationData.loc[(vaccinationData.date == freshDate)][[\"location\", \"people_vaccinated\"]]\n",
    "vaccinationByLocation"
   ]
  },
  {
   "cell_type": "code",
   "execution_count": 7,
   "metadata": {
    "execution": {
     "iopub.execute_input": "2022-12-19T00:03:00.949973Z",
     "iopub.status.busy": "2022-12-19T00:03:00.948934Z",
     "iopub.status.idle": "2022-12-19T00:03:00.998380Z",
     "shell.execute_reply": "2022-12-19T00:03:00.999053Z",
     "shell.execute_reply.started": "2022-12-19T00:01:42.918814Z"
    },
    "papermill": {
     "duration": 0.06565,
     "end_time": "2022-12-19T00:03:00.999236",
     "exception": false,
     "start_time": "2022-12-19T00:03:00.933586",
     "status": "completed"
    },
    "tags": []
   },
   "outputs": [
    {
     "data": {
      "text/html": [
       "<div>\n",
       "<style scoped>\n",
       "    .dataframe tbody tr th:only-of-type {\n",
       "        vertical-align: middle;\n",
       "    }\n",
       "\n",
       "    .dataframe tbody tr th {\n",
       "        vertical-align: top;\n",
       "    }\n",
       "\n",
       "    .dataframe thead th {\n",
       "        text-align: right;\n",
       "    }\n",
       "</style>\n",
       "<table border=\"1\" class=\"dataframe\">\n",
       "  <thead>\n",
       "    <tr style=\"text-align: right;\">\n",
       "      <th></th>\n",
       "      <th>STATE</th>\n",
       "      <th>POPESTIMATE2019</th>\n",
       "      <th>lat</th>\n",
       "      <th>long</th>\n",
       "      <th>people_vaccinated</th>\n",
       "      <th>percent_vaccinated</th>\n",
       "    </tr>\n",
       "  </thead>\n",
       "  <tbody>\n",
       "    <tr>\n",
       "      <th>13</th>\n",
       "      <td>Illinois</td>\n",
       "      <td>12671821</td>\n",
       "      <td>39.798363</td>\n",
       "      <td>-89.654961</td>\n",
       "      <td>9991032.0</td>\n",
       "      <td>0.788445</td>\n",
       "    </tr>\n",
       "    <tr>\n",
       "      <th>39</th>\n",
       "      <td>South Carolina</td>\n",
       "      <td>5148714</td>\n",
       "      <td>34.000343</td>\n",
       "      <td>-81.033211</td>\n",
       "      <td>3637370.0</td>\n",
       "      <td>0.706462</td>\n",
       "    </tr>\n",
       "    <tr>\n",
       "      <th>30</th>\n",
       "      <td>New Jersey</td>\n",
       "      <td>8882190</td>\n",
       "      <td>40.220596</td>\n",
       "      <td>-74.769913</td>\n",
       "      <td>8358862.0</td>\n",
       "      <td>0.941081</td>\n",
       "    </tr>\n",
       "    <tr>\n",
       "      <th>45</th>\n",
       "      <td>Virginia</td>\n",
       "      <td>8535519</td>\n",
       "      <td>37.538857</td>\n",
       "      <td>-77.433640</td>\n",
       "      <td>7711567.0</td>\n",
       "      <td>0.903468</td>\n",
       "    </tr>\n",
       "    <tr>\n",
       "      <th>17</th>\n",
       "      <td>Kentucky</td>\n",
       "      <td>4467673</td>\n",
       "      <td>38.186722</td>\n",
       "      <td>-84.875374</td>\n",
       "      <td>3061282.0</td>\n",
       "      <td>0.685207</td>\n",
       "    </tr>\n",
       "  </tbody>\n",
       "</table>\n",
       "</div>"
      ],
      "text/plain": [
       "             STATE  POPESTIMATE2019        lat       long  people_vaccinated  \\\n",
       "13        Illinois         12671821  39.798363 -89.654961          9991032.0   \n",
       "39  South Carolina          5148714  34.000343 -81.033211          3637370.0   \n",
       "30      New Jersey          8882190  40.220596 -74.769913          8358862.0   \n",
       "45        Virginia          8535519  37.538857 -77.433640          7711567.0   \n",
       "17        Kentucky          4467673  38.186722 -84.875374          3061282.0   \n",
       "\n",
       "    percent_vaccinated  \n",
       "13            0.788445  \n",
       "39            0.706462  \n",
       "30            0.941081  \n",
       "45            0.903468  \n",
       "17            0.685207  "
      ]
     },
     "execution_count": 7,
     "metadata": {},
     "output_type": "execute_result"
    }
   ],
   "source": [
    "# Vaccination and population data\n",
    "vaccinationAndPopulationByLocation = pd.merge(populationData, vaccinationByLocation, left_on='STATE',right_on='location').drop(columns=\"location\")\n",
    "\n",
    "# Calculate percentage vaccinated by state\n",
    "vaccinationAndPopulationByLocation[\"percent_vaccinated\"] = vaccinationAndPopulationByLocation[\"people_vaccinated\"] / vaccinationAndPopulationByLocation[\"POPESTIMATE2019\"]\n",
    "\n",
    "# Preview\n",
    "vaccinationAndPopulationByLocation.sample(5, random_state=42)"
   ]
  },
  {
   "cell_type": "code",
   "execution_count": 8,
   "metadata": {
    "execution": {
     "iopub.execute_input": "2022-12-19T00:03:01.028130Z",
     "iopub.status.busy": "2022-12-19T00:03:01.027097Z",
     "iopub.status.idle": "2022-12-19T00:03:01.037453Z",
     "shell.execute_reply": "2022-12-19T00:03:01.038403Z",
     "shell.execute_reply.started": "2022-12-19T00:01:42.953159Z"
    },
    "papermill": {
     "duration": 0.027156,
     "end_time": "2022-12-19T00:03:01.038682",
     "exception": false,
     "start_time": "2022-12-19T00:03:01.011526",
     "status": "completed"
    },
    "tags": []
   },
   "outputs": [
    {
     "name": "stdout",
     "output_type": "stream",
     "text": [
      "Date ran: 2022-12-19\n",
      "Percentage Vaccinated in the US: 79.28% for 2022-12-14\n"
     ]
    }
   ],
   "source": [
    "print(\"Date ran:\", date.today())\n",
    "\n",
    "# Calculate the total percent vaccinated in the US\n",
    "percentageTotal = vaccinationAndPopulationByLocation[\"people_vaccinated\"].sum() / vaccinationAndPopulationByLocation[\"POPESTIMATE2019\"].sum()\n",
    "print('Percentage Vaccinated in the US: {}% for {}'.format(round(percentageTotal*100, 2), freshDate)) "
   ]
  },
  {
   "cell_type": "markdown",
   "metadata": {
    "papermill": {
     "duration": 0.012948,
     "end_time": "2022-12-19T00:03:01.064483",
     "exception": false,
     "start_time": "2022-12-19T00:03:01.051535",
     "status": "completed"
    },
    "tags": []
   },
   "source": [
    "The next code cell uses the data to create a tracker, with one marker for each state.  You can click on the markers to see the percentage of the population that has been vaccinated."
   ]
  },
  {
   "cell_type": "code",
   "execution_count": 9,
   "metadata": {
    "execution": {
     "iopub.execute_input": "2022-12-19T00:03:01.095086Z",
     "iopub.status.busy": "2022-12-19T00:03:01.094017Z",
     "iopub.status.idle": "2022-12-19T00:03:01.194064Z",
     "shell.execute_reply": "2022-12-19T00:03:01.193388Z",
     "shell.execute_reply.started": "2022-12-19T00:01:42.966034Z"
    },
    "papermill": {
     "duration": 0.116463,
     "end_time": "2022-12-19T00:03:01.194204",
     "exception": false,
     "start_time": "2022-12-19T00:03:01.077741",
     "status": "completed"
    },
    "tags": []
   },
   "outputs": [
    {
     "data": {
      "text/html": [
       "<div style=\"width:100%;\"><div style=\"position:relative;width:100%;height:0;padding-bottom:60%;\"><span style=\"color:#565656\">Make this Notebook Trusted to load map: File -> Trust Notebook</span><iframe src=\"about:blank\" style=\"position:absolute;width:100%;height:100%;left:0;top:0;border:none !important;\" data-html=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 onload=\"this.contentDocument.open();this.contentDocument.write(atob(this.getAttribute('data-html')));this.contentDocument.close();\" allowfullscreen webkitallowfullscreen mozallowfullscreen></iframe></div></div>"
      ],
      "text/plain": [
       "<folium.folium.Map at 0x7fdf98530a50>"
      ]
     },
     "execution_count": 9,
     "metadata": {},
     "output_type": "execute_result"
    }
   ],
   "source": [
    "# Create the map\n",
    "v_map = folium.Map(location=[42.32,-71.0589], tiles='cartodbpositron', zoom_start=4) \n",
    "\n",
    "# Add points to the map\n",
    "mc = MarkerCluster()\n",
    "for idx, row in vaccinationAndPopulationByLocation.iterrows(): \n",
    "    if not math.isnan(row['long']) and not math.isnan(row['lat']):\n",
    "        mc.add_child(Marker(location=[row['lat'], row['long']],\n",
    "                            tooltip=str(round(row['percent_vaccinated']*100, 2))+\"%\"))\n",
    "v_map.add_child(mc)\n",
    "\n",
    "# Display the map\n",
    "v_map"
   ]
  },
  {
   "cell_type": "markdown",
   "metadata": {
    "papermill": {
     "duration": 0.012772,
     "end_time": "2022-12-19T00:03:01.220856",
     "exception": false,
     "start_time": "2022-12-19T00:03:01.208084",
     "status": "completed"
    },
    "tags": []
   },
   "source": [
    "# Your turn\n",
    "\n",
    "Here are some ideas for how you might improve on the work here:\n",
    "- In Kaggle's [Geospatial Analysis course](https://www.kaggle.com/learn/geospatial-analysis), you learn how to use folium to create many different types of interactive maps.  How might you use this data to instead create a choropleth map?\n",
    "- In case you would like to work with more data sources,\n",
    "  - The Centers for Disease Control and Prevention (CDC) in the US releases daily vaccine data and has a vaccination progress tracker on its [COVID Data Tracker site](https://covid.cdc.gov/covid-data-tracker/#vaccinations).\n",
    "  - NBC News has a [vaccine tracker](https://www.nbcnews.com/health/health-news/map-covid-19-vaccination-tracker-across-u-s-n1252085) as well which is quite well done.\n",
    "  \n",
    "Once you have created your own extension of this work, let us know about it in the comments!"
   ]
  }
 ],
 "metadata": {
  "kernelspec": {
   "display_name": "Python 3",
   "language": "python",
   "name": "python3"
  },
  "language_info": {
   "codemirror_mode": {
    "name": "ipython",
    "version": 3
   },
   "file_extension": ".py",
   "mimetype": "text/x-python",
   "name": "python",
   "nbconvert_exporter": "python",
   "pygments_lexer": "ipython3",
   "version": "3.7.6"
  },
  "papermill": {
   "duration": 9.138567,
   "end_time": "2022-12-19T00:03:02.274210",
   "environment_variables": {},
   "exception": null,
   "input_path": "__notebook__.ipynb",
   "output_path": "__notebook__.ipynb",
   "parameters": {},
   "start_time": "2022-12-19T00:02:53.135643",
   "version": "2.1.0"
  }
 },
 "nbformat": 4,
 "nbformat_minor": 4
}
