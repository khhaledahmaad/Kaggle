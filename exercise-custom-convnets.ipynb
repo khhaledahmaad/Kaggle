{
 "cells": [
  {
   "cell_type": "markdown",
   "id": "f2d157c5",
   "metadata": {
    "papermill": {
     "duration": 0.004651,
     "end_time": "2023-03-17T00:52:51.653575",
     "exception": false,
     "start_time": "2023-03-17T00:52:51.648924",
     "status": "completed"
    },
    "tags": []
   },
   "source": [
    "**This notebook is an exercise in the [Computer Vision](https://www.kaggle.com/learn/computer-vision) course.  You can reference the tutorial at [this link](https://www.kaggle.com/ryanholbrook/custom-convnets).**\n",
    "\n",
    "---\n"
   ]
  },
  {
   "cell_type": "markdown",
   "id": "addfaceb",
   "metadata": {
    "papermill": {
     "duration": 0.0034,
     "end_time": "2023-03-17T00:52:51.660525",
     "exception": false,
     "start_time": "2023-03-17T00:52:51.657125",
     "status": "completed"
    },
    "tags": []
   },
   "source": [
    "# Introduction #\n",
    "\n",
    "In these exercises, you'll build a custom convnet with performance competitive to the VGG16 model from Lesson 1.\n",
    "\n",
    "Get started by running the code cell below."
   ]
  },
  {
   "cell_type": "code",
   "execution_count": 1,
   "id": "ab3a5a5c",
   "metadata": {
    "execution": {
     "iopub.execute_input": "2023-03-17T00:52:51.670798Z",
     "iopub.status.busy": "2023-03-17T00:52:51.669925Z",
     "iopub.status.idle": "2023-03-17T00:53:07.369736Z",
     "shell.execute_reply": "2023-03-17T00:53:07.367303Z"
    },
    "papermill": {
     "duration": 15.709291,
     "end_time": "2023-03-17T00:53:07.373500",
     "exception": false,
     "start_time": "2023-03-17T00:52:51.664209",
     "status": "completed"
    },
    "tags": []
   },
   "outputs": [
    {
     "name": "stdout",
     "output_type": "stream",
     "text": [
      "Found 5117 files belonging to 2 classes.\n",
      "Found 5051 files belonging to 2 classes.\n"
     ]
    }
   ],
   "source": [
    "# Setup feedback system\n",
    "from learntools.core import binder\n",
    "binder.bind(globals())\n",
    "from learntools.computer_vision.ex5 import *\n",
    "\n",
    "# Imports\n",
    "import os, warnings\n",
    "import matplotlib.pyplot as plt\n",
    "from matplotlib import gridspec\n",
    "\n",
    "import numpy as np\n",
    "import tensorflow as tf\n",
    "from tensorflow.keras.preprocessing import image_dataset_from_directory\n",
    "\n",
    "# Reproducability\n",
    "def set_seed(seed=31415):\n",
    "    np.random.seed(seed)\n",
    "    tf.random.set_seed(seed)\n",
    "    os.environ['PYTHONHASHSEED'] = str(seed)\n",
    "    os.environ['TF_DETERMINISTIC_OPS'] = '1'\n",
    "set_seed()\n",
    "\n",
    "# Set Matplotlib defaults\n",
    "plt.rc('figure', autolayout=True)\n",
    "plt.rc('axes', labelweight='bold', labelsize='large',\n",
    "       titleweight='bold', titlesize=18, titlepad=10)\n",
    "plt.rc('image', cmap='magma')\n",
    "warnings.filterwarnings(\"ignore\") # to clean up output cells\n",
    "\n",
    "\n",
    "# Load training and validation sets\n",
    "ds_train_ = image_dataset_from_directory(\n",
    "    '../input/car-or-truck/train',\n",
    "    labels='inferred',\n",
    "    label_mode='binary',\n",
    "    image_size=[128, 128],\n",
    "    interpolation='nearest',\n",
    "    batch_size=64,\n",
    "    shuffle=True,\n",
    ")\n",
    "ds_valid_ = image_dataset_from_directory(\n",
    "    '../input/car-or-truck/valid',\n",
    "    labels='inferred',\n",
    "    label_mode='binary',\n",
    "    image_size=[128, 128],\n",
    "    interpolation='nearest',\n",
    "    batch_size=64,\n",
    "    shuffle=False,\n",
    ")\n",
    "\n",
    "# Data Pipeline\n",
    "def convert_to_float(image, label):\n",
    "    image = tf.image.convert_image_dtype(image, dtype=tf.float32)\n",
    "    return image, label\n",
    "\n",
    "AUTOTUNE = tf.data.experimental.AUTOTUNE\n",
    "ds_train = (\n",
    "    ds_train_\n",
    "    .map(convert_to_float)\n",
    "    .cache()\n",
    "    .prefetch(buffer_size=AUTOTUNE)\n",
    ")\n",
    "ds_valid = (\n",
    "    ds_valid_\n",
    "    .map(convert_to_float)\n",
    "    .cache()\n",
    "    .prefetch(buffer_size=AUTOTUNE)\n",
    ")\n"
   ]
  },
  {
   "cell_type": "markdown",
   "id": "a071990f",
   "metadata": {
    "papermill": {
     "duration": 0.00395,
     "end_time": "2023-03-17T00:53:07.382026",
     "exception": false,
     "start_time": "2023-03-17T00:53:07.378076",
     "status": "completed"
    },
    "tags": []
   },
   "source": [
    "## Design a Convnet #\n",
    "\n",
    "Let's design a convolutional network with a block architecture like we saw in the tutorial. The model from the example had three blocks, each with a single convolutional layer. Its performance on the \"Car or Truck\" problem was okay, but far from what the pretrained VGG16 could achieve. It might be that our simple network lacks the ability to extract sufficiently complex features. We could try improving the model either by adding more blocks or by adding convolutions to the blocks we have.\n",
    "\n",
    "Let's go with the second approach. We'll keep the three block structure, but increase the number of `Conv2D` layer in the second block to two, and in the third block to three.\n",
    "\n",
    "<figure>\n",
    "<!-- <img src=\"./images/2-convmodel-2.png\" width=\"250\" alt=\"Diagram of a convolutional model.\"> -->\n",
    "<img src=\"https://i.imgur.com/Vko6nCK.png\" width=\"250\" alt=\"Diagram of a convolutional model.\">\n",
    "</figure>\n",
    "\n",
    "# 1) Define Model #\n",
    "\n",
    "Given the diagram above, complete the model by defining the layers of the third block."
   ]
  },
  {
   "cell_type": "code",
   "execution_count": 2,
   "id": "43c6b619",
   "metadata": {
    "execution": {
     "iopub.execute_input": "2023-03-17T00:53:07.391900Z",
     "iopub.status.busy": "2023-03-17T00:53:07.391541Z",
     "iopub.status.idle": "2023-03-17T00:53:07.560442Z",
     "shell.execute_reply": "2023-03-17T00:53:07.559430Z"
    },
    "lines_to_next_cell": 0,
    "papermill": {
     "duration": 0.176436,
     "end_time": "2023-03-17T00:53:07.562713",
     "exception": false,
     "start_time": "2023-03-17T00:53:07.386277",
     "status": "completed"
    },
    "tags": []
   },
   "outputs": [
    {
     "data": {
      "application/javascript": [
       "parent.postMessage({\"jupyterEvent\": \"custom.exercise_interaction\", \"data\": {\"outcomeType\": 1, \"valueTowardsCompletion\": 0.3333333333333333, \"interactionType\": 1, \"questionType\": 2, \"questionId\": \"1_Q1\", \"learnToolsVersion\": \"0.3.4\", \"failureMessage\": \"\", \"exceptionClass\": \"\", \"trace\": \"\"}}, \"*\")"
      ],
      "text/plain": [
       "<IPython.core.display.Javascript object>"
      ]
     },
     "metadata": {},
     "output_type": "display_data"
    },
    {
     "data": {
      "text/markdown": [
       "<span style=\"color:#33cc33\">Correct</span>"
      ],
      "text/plain": [
       "Correct"
      ]
     },
     "metadata": {},
     "output_type": "display_data"
    }
   ],
   "source": [
    "from tensorflow import keras\n",
    "from tensorflow.keras import layers\n",
    "\n",
    "model = keras.Sequential([\n",
    "    # Block One\n",
    "    layers.Conv2D(filters=32, kernel_size=3, activation='relu', padding='same',\n",
    "                  input_shape=[128, 128, 3]),\n",
    "    layers.MaxPool2D(),\n",
    "\n",
    "    # Block Two\n",
    "    layers.Conv2D(filters=64, kernel_size=3, activation='relu', padding='same'),\n",
    "    layers.MaxPool2D(),\n",
    "\n",
    "    # Block Three\n",
    "    layers.Conv2D(filters=128, kernel_size=3, activation='relu', padding='same'),\n",
    "     layers.Conv2D(filters=128, kernel_size=3, activation='relu', padding='same'),\n",
    "    layers.MaxPool2D(),\n",
    "\n",
    "    # Head\n",
    "    layers.Flatten(),\n",
    "    layers.Dense(6, activation='relu'),\n",
    "    layers.Dropout(0.2),\n",
    "    layers.Dense(1, activation='sigmoid'),\n",
    "])\n",
    "\n",
    "# Check your answer\n",
    "q_1.check()"
   ]
  },
  {
   "cell_type": "code",
   "execution_count": 3,
   "id": "8695de46",
   "metadata": {
    "execution": {
     "iopub.execute_input": "2023-03-17T00:53:07.572116Z",
     "iopub.status.busy": "2023-03-17T00:53:07.571792Z",
     "iopub.status.idle": "2023-03-17T00:53:07.576205Z",
     "shell.execute_reply": "2023-03-17T00:53:07.575036Z"
    },
    "papermill": {
     "duration": 0.011602,
     "end_time": "2023-03-17T00:53:07.578485",
     "exception": false,
     "start_time": "2023-03-17T00:53:07.566883",
     "status": "completed"
    },
    "tags": []
   },
   "outputs": [],
   "source": [
    "# Lines below will give you a hint or solution code\n",
    "#q_1.hint()\n",
    "#q_1.solution()"
   ]
  },
  {
   "cell_type": "markdown",
   "id": "4f837671",
   "metadata": {
    "papermill": {
     "duration": 0.003936,
     "end_time": "2023-03-17T00:53:07.586414",
     "exception": false,
     "start_time": "2023-03-17T00:53:07.582478",
     "status": "completed"
    },
    "tags": []
   },
   "source": [
    "# 2) Compile #\n",
    "\n",
    "To prepare for training, compile the model with an appropriate loss and accuracy metric for the \"Car or Truck\" dataset."
   ]
  },
  {
   "cell_type": "code",
   "execution_count": 4,
   "id": "ba771283",
   "metadata": {
    "execution": {
     "iopub.execute_input": "2023-03-17T00:53:07.595597Z",
     "iopub.status.busy": "2023-03-17T00:53:07.595302Z",
     "iopub.status.idle": "2023-03-17T00:53:07.616691Z",
     "shell.execute_reply": "2023-03-17T00:53:07.615679Z"
    },
    "lines_to_next_cell": 0,
    "papermill": {
     "duration": 0.028799,
     "end_time": "2023-03-17T00:53:07.619050",
     "exception": false,
     "start_time": "2023-03-17T00:53:07.590251",
     "status": "completed"
    },
    "tags": []
   },
   "outputs": [
    {
     "data": {
      "application/javascript": [
       "parent.postMessage({\"jupyterEvent\": \"custom.exercise_interaction\", \"data\": {\"outcomeType\": 1, \"valueTowardsCompletion\": 0.3333333333333333, \"interactionType\": 1, \"questionType\": 2, \"questionId\": \"2_Q2\", \"learnToolsVersion\": \"0.3.4\", \"failureMessage\": \"\", \"exceptionClass\": \"\", \"trace\": \"\"}}, \"*\")"
      ],
      "text/plain": [
       "<IPython.core.display.Javascript object>"
      ]
     },
     "metadata": {},
     "output_type": "display_data"
    },
    {
     "data": {
      "text/markdown": [
       "<span style=\"color:#33cc33\">Correct</span>"
      ],
      "text/plain": [
       "Correct"
      ]
     },
     "metadata": {},
     "output_type": "display_data"
    }
   ],
   "source": [
    "model.compile(\n",
    "    optimizer=tf.keras.optimizers.Adam(epsilon=0.01),\n",
    "    # YOUR CODE HERE: Add loss and metric\n",
    "    loss='binary_crossentropy',\n",
    "    metrics=['binary_accuracy']\n",
    ")\n",
    "\n",
    "# Check your answer\n",
    "q_2.check()"
   ]
  },
  {
   "cell_type": "code",
   "execution_count": 5,
   "id": "662ee2fa",
   "metadata": {
    "execution": {
     "iopub.execute_input": "2023-03-17T00:53:07.628753Z",
     "iopub.status.busy": "2023-03-17T00:53:07.628467Z",
     "iopub.status.idle": "2023-03-17T00:53:07.633829Z",
     "shell.execute_reply": "2023-03-17T00:53:07.632740Z"
    },
    "lines_to_next_cell": 0,
    "papermill": {
     "duration": 0.013038,
     "end_time": "2023-03-17T00:53:07.636218",
     "exception": false,
     "start_time": "2023-03-17T00:53:07.623180",
     "status": "completed"
    },
    "tags": []
   },
   "outputs": [],
   "source": [
    "# Lines below will give you a hint or solution code\n",
    "#q_2.hint()\n",
    "#q_2.solution()"
   ]
  },
  {
   "cell_type": "markdown",
   "id": "a09be5df",
   "metadata": {
    "papermill": {
     "duration": 0.004168,
     "end_time": "2023-03-17T00:53:07.644619",
     "exception": false,
     "start_time": "2023-03-17T00:53:07.640451",
     "status": "completed"
    },
    "tags": []
   },
   "source": [
    "Finally, let's test the performance of this new model. First run this cell to fit the model to the training set."
   ]
  },
  {
   "cell_type": "code",
   "execution_count": 6,
   "id": "bc773954",
   "metadata": {
    "execution": {
     "iopub.execute_input": "2023-03-17T00:53:07.654677Z",
     "iopub.status.busy": "2023-03-17T00:53:07.654347Z",
     "iopub.status.idle": "2023-03-17T00:57:35.337614Z",
     "shell.execute_reply": "2023-03-17T00:57:35.336460Z"
    },
    "papermill": {
     "duration": 267.69129,
     "end_time": "2023-03-17T00:57:35.340331",
     "exception": false,
     "start_time": "2023-03-17T00:53:07.649041",
     "status": "completed"
    },
    "tags": []
   },
   "outputs": [
    {
     "name": "stdout",
     "output_type": "stream",
     "text": [
      "Epoch 1/50\n",
      "80/80 [==============================] - 40s 369ms/step - loss: 0.6847 - binary_accuracy: 0.5685 - val_loss: 0.6782 - val_binary_accuracy: 0.5785\n",
      "Epoch 2/50\n",
      "80/80 [==============================] - 4s 56ms/step - loss: 0.6731 - binary_accuracy: 0.5837 - val_loss: 0.6662 - val_binary_accuracy: 0.5785\n",
      "Epoch 3/50\n",
      "80/80 [==============================] - 4s 55ms/step - loss: 0.6660 - binary_accuracy: 0.5962 - val_loss: 0.6586 - val_binary_accuracy: 0.6167\n",
      "Epoch 4/50\n",
      "80/80 [==============================] - 4s 55ms/step - loss: 0.6616 - binary_accuracy: 0.6090 - val_loss: 0.6519 - val_binary_accuracy: 0.6189\n",
      "Epoch 5/50\n",
      "80/80 [==============================] - 4s 56ms/step - loss: 0.6589 - binary_accuracy: 0.6103 - val_loss: 0.6493 - val_binary_accuracy: 0.6266\n",
      "Epoch 6/50\n",
      "80/80 [==============================] - 4s 55ms/step - loss: 0.6568 - binary_accuracy: 0.6142 - val_loss: 0.6446 - val_binary_accuracy: 0.6316\n",
      "Epoch 7/50\n",
      "80/80 [==============================] - 4s 56ms/step - loss: 0.6461 - binary_accuracy: 0.6267 - val_loss: 0.6382 - val_binary_accuracy: 0.6280\n",
      "Epoch 8/50\n",
      "80/80 [==============================] - 5s 60ms/step - loss: 0.6420 - binary_accuracy: 0.6269 - val_loss: 0.6317 - val_binary_accuracy: 0.6322\n",
      "Epoch 9/50\n",
      "80/80 [==============================] - 4s 56ms/step - loss: 0.6366 - binary_accuracy: 0.6353 - val_loss: 0.6282 - val_binary_accuracy: 0.6385\n",
      "Epoch 10/50\n",
      "80/80 [==============================] - 4s 56ms/step - loss: 0.6294 - binary_accuracy: 0.6410 - val_loss: 0.6300 - val_binary_accuracy: 0.6405\n",
      "Epoch 11/50\n",
      "80/80 [==============================] - 4s 55ms/step - loss: 0.6289 - binary_accuracy: 0.6510 - val_loss: 0.6185 - val_binary_accuracy: 0.6490\n",
      "Epoch 12/50\n",
      "80/80 [==============================] - 5s 59ms/step - loss: 0.6187 - binary_accuracy: 0.6600 - val_loss: 0.6200 - val_binary_accuracy: 0.6539\n",
      "Epoch 13/50\n",
      "80/80 [==============================] - 4s 56ms/step - loss: 0.6085 - binary_accuracy: 0.6658 - val_loss: 0.6131 - val_binary_accuracy: 0.6456\n",
      "Epoch 14/50\n",
      "80/80 [==============================] - 5s 59ms/step - loss: 0.5958 - binary_accuracy: 0.6848 - val_loss: 0.5900 - val_binary_accuracy: 0.6775\n",
      "Epoch 15/50\n",
      "80/80 [==============================] - 5s 57ms/step - loss: 0.5817 - binary_accuracy: 0.6969 - val_loss: 0.5752 - val_binary_accuracy: 0.6935\n",
      "Epoch 16/50\n",
      "80/80 [==============================] - 4s 56ms/step - loss: 0.5666 - binary_accuracy: 0.7112 - val_loss: 0.5615 - val_binary_accuracy: 0.7096\n",
      "Epoch 17/50\n",
      "80/80 [==============================] - 5s 56ms/step - loss: 0.5519 - binary_accuracy: 0.7221 - val_loss: 0.5467 - val_binary_accuracy: 0.7252\n",
      "Epoch 18/50\n",
      "80/80 [==============================] - 4s 55ms/step - loss: 0.5366 - binary_accuracy: 0.7395 - val_loss: 0.5242 - val_binary_accuracy: 0.7426\n",
      "Epoch 19/50\n",
      "80/80 [==============================] - 4s 55ms/step - loss: 0.5082 - binary_accuracy: 0.7551 - val_loss: 0.5224 - val_binary_accuracy: 0.7402\n",
      "Epoch 20/50\n",
      "80/80 [==============================] - 4s 56ms/step - loss: 0.4785 - binary_accuracy: 0.7698 - val_loss: 0.4824 - val_binary_accuracy: 0.7729\n",
      "Epoch 21/50\n",
      "80/80 [==============================] - 5s 57ms/step - loss: 0.4517 - binary_accuracy: 0.7921 - val_loss: 0.4710 - val_binary_accuracy: 0.7761\n",
      "Epoch 22/50\n",
      "80/80 [==============================] - 5s 57ms/step - loss: 0.4278 - binary_accuracy: 0.8001 - val_loss: 0.4794 - val_binary_accuracy: 0.7836\n",
      "Epoch 23/50\n",
      "80/80 [==============================] - 4s 56ms/step - loss: 0.4052 - binary_accuracy: 0.8161 - val_loss: 0.4568 - val_binary_accuracy: 0.7842\n",
      "Epoch 24/50\n",
      "80/80 [==============================] - 4s 55ms/step - loss: 0.3709 - binary_accuracy: 0.8302 - val_loss: 0.4274 - val_binary_accuracy: 0.8050\n",
      "Epoch 25/50\n",
      "80/80 [==============================] - 4s 56ms/step - loss: 0.3495 - binary_accuracy: 0.8358 - val_loss: 0.4358 - val_binary_accuracy: 0.8066\n",
      "Epoch 26/50\n",
      "80/80 [==============================] - 4s 56ms/step - loss: 0.3346 - binary_accuracy: 0.8442 - val_loss: 0.4233 - val_binary_accuracy: 0.8137\n",
      "Epoch 27/50\n",
      "80/80 [==============================] - 4s 56ms/step - loss: 0.3180 - binary_accuracy: 0.8534 - val_loss: 0.4796 - val_binary_accuracy: 0.7870\n",
      "Epoch 28/50\n",
      "80/80 [==============================] - 5s 57ms/step - loss: 0.3066 - binary_accuracy: 0.8532 - val_loss: 0.4615 - val_binary_accuracy: 0.8038\n",
      "Epoch 29/50\n",
      "80/80 [==============================] - 5s 57ms/step - loss: 0.2714 - binary_accuracy: 0.8730 - val_loss: 0.5091 - val_binary_accuracy: 0.7957\n",
      "Epoch 30/50\n",
      "80/80 [==============================] - 4s 56ms/step - loss: 0.2847 - binary_accuracy: 0.8687 - val_loss: 0.4424 - val_binary_accuracy: 0.8258\n",
      "Epoch 31/50\n",
      "80/80 [==============================] - 5s 57ms/step - loss: 0.2744 - binary_accuracy: 0.8708 - val_loss: 0.4067 - val_binary_accuracy: 0.8220\n",
      "Epoch 32/50\n",
      "80/80 [==============================] - 4s 56ms/step - loss: 0.2282 - binary_accuracy: 0.8931 - val_loss: 0.4445 - val_binary_accuracy: 0.8202\n",
      "Epoch 33/50\n",
      "80/80 [==============================] - 4s 56ms/step - loss: 0.2097 - binary_accuracy: 0.8925 - val_loss: 0.4577 - val_binary_accuracy: 0.8167\n",
      "Epoch 34/50\n",
      "80/80 [==============================] - 4s 56ms/step - loss: 0.1940 - binary_accuracy: 0.9017 - val_loss: 0.4892 - val_binary_accuracy: 0.8198\n",
      "Epoch 35/50\n",
      "80/80 [==============================] - 5s 57ms/step - loss: 0.1905 - binary_accuracy: 0.9013 - val_loss: 0.5138 - val_binary_accuracy: 0.8337\n",
      "Epoch 36/50\n",
      "80/80 [==============================] - 5s 59ms/step - loss: 0.1704 - binary_accuracy: 0.9117 - val_loss: 0.5184 - val_binary_accuracy: 0.8256\n",
      "Epoch 37/50\n",
      "80/80 [==============================] - 4s 56ms/step - loss: 0.1881 - binary_accuracy: 0.9060 - val_loss: 0.7465 - val_binary_accuracy: 0.7810\n",
      "Epoch 38/50\n",
      "80/80 [==============================] - 4s 56ms/step - loss: 0.1829 - binary_accuracy: 0.9099 - val_loss: 0.6558 - val_binary_accuracy: 0.8095\n",
      "Epoch 39/50\n",
      "80/80 [==============================] - 5s 57ms/step - loss: 0.1637 - binary_accuracy: 0.9148 - val_loss: 0.6895 - val_binary_accuracy: 0.8175\n",
      "Epoch 40/50\n",
      "80/80 [==============================] - 5s 57ms/step - loss: 0.1422 - binary_accuracy: 0.9242 - val_loss: 0.7063 - val_binary_accuracy: 0.8072\n",
      "Epoch 41/50\n",
      "80/80 [==============================] - 5s 57ms/step - loss: 0.1644 - binary_accuracy: 0.9150 - val_loss: 0.8028 - val_binary_accuracy: 0.8218\n",
      "Epoch 42/50\n",
      "80/80 [==============================] - 5s 57ms/step - loss: 0.1332 - binary_accuracy: 0.9341 - val_loss: 0.6727 - val_binary_accuracy: 0.8333\n",
      "Epoch 43/50\n",
      "80/80 [==============================] - 4s 56ms/step - loss: 0.1412 - binary_accuracy: 0.9271 - val_loss: 0.6606 - val_binary_accuracy: 0.8248\n",
      "Epoch 44/50\n",
      "80/80 [==============================] - 5s 57ms/step - loss: 0.1647 - binary_accuracy: 0.9166 - val_loss: 0.5925 - val_binary_accuracy: 0.8325\n",
      "Epoch 45/50\n",
      "80/80 [==============================] - 5s 57ms/step - loss: 0.1467 - binary_accuracy: 0.9207 - val_loss: 0.5593 - val_binary_accuracy: 0.8323\n",
      "Epoch 46/50\n",
      "80/80 [==============================] - 5s 57ms/step - loss: 0.1467 - binary_accuracy: 0.9240 - val_loss: 0.5700 - val_binary_accuracy: 0.8323\n",
      "Epoch 47/50\n",
      "80/80 [==============================] - 4s 56ms/step - loss: 0.1298 - binary_accuracy: 0.9336 - val_loss: 0.6649 - val_binary_accuracy: 0.8091\n",
      "Epoch 48/50\n",
      "80/80 [==============================] - 4s 56ms/step - loss: 0.1215 - binary_accuracy: 0.9320 - val_loss: 0.5612 - val_binary_accuracy: 0.8095\n",
      "Epoch 49/50\n",
      "80/80 [==============================] - 5s 57ms/step - loss: 0.1126 - binary_accuracy: 0.9418 - val_loss: 0.6236 - val_binary_accuracy: 0.8175\n",
      "Epoch 50/50\n",
      "80/80 [==============================] - 4s 56ms/step - loss: 0.0975 - binary_accuracy: 0.9466 - val_loss: 0.6390 - val_binary_accuracy: 0.8426\n"
     ]
    }
   ],
   "source": [
    "history = model.fit(\n",
    "    ds_train,\n",
    "    validation_data=ds_valid,\n",
    "    epochs=50\n",
    ")"
   ]
  },
  {
   "cell_type": "markdown",
   "id": "b493a6bf",
   "metadata": {
    "papermill": {
     "duration": 0.12756,
     "end_time": "2023-03-17T00:57:35.590657",
     "exception": false,
     "start_time": "2023-03-17T00:57:35.463097",
     "status": "completed"
    },
    "tags": []
   },
   "source": [
    "And now run the cell below to plot the loss and metric curves for this training run."
   ]
  },
  {
   "cell_type": "code",
   "execution_count": 7,
   "id": "272bbeae",
   "metadata": {
    "execution": {
     "iopub.execute_input": "2023-03-17T00:57:35.932043Z",
     "iopub.status.busy": "2023-03-17T00:57:35.931321Z",
     "iopub.status.idle": "2023-03-17T00:57:36.927035Z",
     "shell.execute_reply": "2023-03-17T00:57:36.925935Z"
    },
    "papermill": {
     "duration": 1.210154,
     "end_time": "2023-03-17T00:57:36.929718",
     "exception": false,
     "start_time": "2023-03-17T00:57:35.719564",
     "status": "completed"
    },
    "tags": []
   },
   "outputs": [
    {
     "data": {
      "image/png": "[encoded data removed]",
      "text/plain": [
       "<Figure size 640x480 with 1 Axes>"
      ]
     },
     "metadata": {},
     "output_type": "display_data"
    },
    {
     "data": {
      "image/png": "[encoded data removed]",
      "text/plain": [
       "<Figure size 640x480 with 1 Axes>"
      ]
     },
     "metadata": {},
     "output_type": "display_data"
    }
   ],
   "source": [
    "import pandas as pd\n",
    "history_frame = pd.DataFrame(history.history)\n",
    "history_frame.loc[:, ['loss', 'val_loss']].plot()\n",
    "history_frame.loc[:, ['binary_accuracy', 'val_binary_accuracy']].plot();"
   ]
  },
  {
   "cell_type": "markdown",
   "id": "eecde14b",
   "metadata": {
    "papermill": {
     "duration": 0.124189,
     "end_time": "2023-03-17T00:57:37.184903",
     "exception": false,
     "start_time": "2023-03-17T00:57:37.060714",
     "status": "completed"
    },
    "tags": []
   },
   "source": [
    "# 3) Train the Model #\n",
    "\n",
    "How would you interpret these training curves? Did this model improve upon the model from the tutorial?"
   ]
  },
  {
   "cell_type": "code",
   "execution_count": 8,
   "id": "68d109f3",
   "metadata": {
    "execution": {
     "iopub.execute_input": "2023-03-17T00:57:37.442043Z",
     "iopub.status.busy": "2023-03-17T00:57:37.441622Z",
     "iopub.status.idle": "2023-03-17T00:57:37.451169Z",
     "shell.execute_reply": "2023-03-17T00:57:37.449996Z"
    },
    "lines_to_next_cell": 0,
    "papermill": {
     "duration": 0.143521,
     "end_time": "2023-03-17T00:57:37.455651",
     "exception": false,
     "start_time": "2023-03-17T00:57:37.312130",
     "status": "completed"
    },
    "tags": []
   },
   "outputs": [
    {
     "data": {
      "application/javascript": [
       "parent.postMessage({\"jupyterEvent\": \"custom.exercise_interaction\", \"data\": {\"outcomeType\": 1, \"valueTowardsCompletion\": 0.3333333333333333, \"interactionType\": 1, \"questionType\": 4, \"questionId\": \"3_Q3\", \"learnToolsVersion\": \"0.3.4\", \"failureMessage\": \"\", \"exceptionClass\": \"\", \"trace\": \"\"}}, \"*\")"
      ],
      "text/plain": [
       "<IPython.core.display.Javascript object>"
      ]
     },
     "metadata": {},
     "output_type": "display_data"
    },
    {
     "data": {
      "text/markdown": [
       "<span style=\"color:#33cc33\">Correct:</span> \n",
       "\n",
       "\n",
       "The learning curves for the model from the tutorial diverged fairly rapidly. This would indicate that it was prone to overfitting and in need of some regularization. The additional layer in our new model would make it even more prone to overfitting. However, adding some regularization with the `Dropout` layer helped prevent this. These changes improved the validation accuracy of the model by several points.\n"
      ],
      "text/plain": [
       "Correct: \n",
       "\n",
       "\n",
       "The learning curves for the model from the tutorial diverged fairly rapidly. This would indicate that it was prone to overfitting and in need of some regularization. The additional layer in our new model would make it even more prone to overfitting. However, adding some regularization with the `Dropout` layer helped prevent this. These changes improved the validation accuracy of the model by several points."
      ]
     },
     "metadata": {},
     "output_type": "display_data"
    }
   ],
   "source": [
    "# View the solution (Run this code cell to receive credit!)\n",
    "q_3.check()"
   ]
  },
  {
   "cell_type": "markdown",
   "id": "6b25d2b6",
   "metadata": {
    "papermill": {
     "duration": 0.13446,
     "end_time": "2023-03-17T00:57:37.726164",
     "exception": false,
     "start_time": "2023-03-17T00:57:37.591704",
     "status": "completed"
    },
    "tags": []
   },
   "source": [
    "# Conclusion #\n",
    "\n",
    "These exercises showed you how to design a custom convolutional network to solve a specific classification problem. Though most models these days will be built on top of a pretrained base, it certain circumstances a smaller custom convnet might still be preferable -- such as with a smaller or unusual dataset or when computing resources are very limited. As you saw here, for certain problems they can perform just as well as a pretrained model.\n",
    "\n",
    "# Keep Going #\n",
    "\n",
    "Continue on to [**Lesson 6**](https://www.kaggle.com/ryanholbrook/data-augmentation), where you'll learn a widely-used technique that can give a boost to your training data: **data augmentation**."
   ]
  },
  {
   "cell_type": "markdown",
   "id": "4f0d6f9e",
   "metadata": {
    "papermill": {
     "duration": 0.161065,
     "end_time": "2023-03-17T00:57:38.020606",
     "exception": false,
     "start_time": "2023-03-17T00:57:37.859541",
     "status": "completed"
    },
    "tags": []
   },
   "source": [
    "---\n",
    "\n",
    "\n",
    "\n",
    "\n",
    "*Have questions or comments? Visit the [course discussion forum](https://www.kaggle.com/learn/computer-vision/discussion) to chat with other learners.*"
   ]
  }
 ],
 "metadata": {
  "kernelspec": {
   "display_name": "Python 3",
   "language": "python",
   "name": "python3"
  },
  "language_info": {
   "codemirror_mode": {
    "name": "ipython",
    "version": 3
   },
   "file_extension": ".py",
   "mimetype": "text/x-python",
   "name": "python",
   "nbconvert_exporter": "python",
   "pygments_lexer": "ipython3",
   "version": "3.7.12"
  },
  "papermill": {
   "default_parameters": {},
   "duration": 300.253088,
   "end_time": "2023-03-17T00:57:41.804307",
   "environment_variables": {},
   "exception": null,
   "input_path": "__notebook__.ipynb",
   "output_path": "__notebook__.ipynb",
   "parameters": {},
   "start_time": "2023-03-17T00:52:41.551219",
   "version": "2.4.0"
  }
 },
 "nbformat": 4,
 "nbformat_minor": 5
}
