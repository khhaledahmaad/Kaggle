{
 "cells": [
  {
   "cell_type": "markdown",
   "id": "a1d8faf2",
   "metadata": {
    "papermill": {
     "duration": 0.005729,
     "end_time": "2023-05-07T00:32:46.770044",
     "exception": false,
     "start_time": "2023-05-07T00:32:46.764315",
     "status": "completed"
    },
    "tags": []
   },
   "source": [
    "**This notebook is an exercise in the [Intro to Game AI and Reinforcement Learning](https://www.kaggle.com/learn/intro-to-game-ai-and-reinforcement-learning) course.  You can reference the tutorial at [this link](https://www.kaggle.com/alexisbcook/n-step-lookahead).**\n",
    "\n",
    "---\n"
   ]
  },
  {
   "cell_type": "markdown",
   "id": "86a2a8c0",
   "metadata": {
    "papermill": {
     "duration": 0.004945,
     "end_time": "2023-05-07T00:32:46.780470",
     "exception": false,
     "start_time": "2023-05-07T00:32:46.775525",
     "status": "completed"
    },
    "tags": []
   },
   "source": [
    "# Introduction\n",
    "\n",
    "In the tutorial, you learned how to build a reasonably intelligent agent with the minimax algorithm.  In this exercise, you will check your understanding and submit your own agent to the competition."
   ]
  },
  {
   "cell_type": "code",
   "execution_count": 1,
   "id": "17df6f19",
   "metadata": {
    "execution": {
     "iopub.execute_input": "2023-05-07T00:32:46.793156Z",
     "iopub.status.busy": "2023-05-07T00:32:46.792444Z",
     "iopub.status.idle": "2023-05-07T00:32:46.837226Z",
     "shell.execute_reply": "2023-05-07T00:32:46.836421Z"
    },
    "papermill": {
     "duration": 0.054163,
     "end_time": "2023-05-07T00:32:46.839966",
     "exception": false,
     "start_time": "2023-05-07T00:32:46.785803",
     "status": "completed"
    },
    "tags": []
   },
   "outputs": [],
   "source": [
    "from learntools.core import binder\n",
    "binder.bind(globals())\n",
    "from learntools.game_ai.ex3 import *"
   ]
  },
  {
   "cell_type": "markdown",
   "id": "5b5691ca",
   "metadata": {
    "papermill": {
     "duration": 0.005057,
     "end_time": "2023-05-07T00:32:46.850497",
     "exception": false,
     "start_time": "2023-05-07T00:32:46.845440",
     "status": "completed"
    },
    "tags": []
   },
   "source": [
    "### 1) A closer look\n",
    "\n",
    "The heuristic from the tutorial looks at all groups of four adjacent grid locations on the same row, column, or diagonal and assigns points for each occurrence of the following patterns:\n",
    "\n",
    "<center>\n",
    "<img src=\"https://storage.googleapis.com/kaggle-media/learn/images/3NvBEGL.png\" width=70%><br/>\n",
    "</center>\n",
    "\n",
    "Is it really necessary to use so many numbers to define the heuristic?  Consider simplifying it, as in the image below.\n",
    "\n",
    "<center>\n",
    "<img src=\"https://storage.googleapis.com/kaggle-media/learn/images/grViegG.png\" width=70%><br/>\n",
    "</center>\n",
    "\n",
    "How would each heuristic score the potential moves in the example below (where, in this case, the agent looks only one step ahead)?  Which heuristic would lead to the agent selecting the better move?\n",
    "\n",
    "<center>\n",
    "<img src=\"https://storage.googleapis.com/kaggle-media/learn/images/LWPLy7N.png\" width=100%><br/>\n",
    "</center>"
   ]
  },
  {
   "cell_type": "code",
   "execution_count": 2,
   "id": "48e4c49c",
   "metadata": {
    "execution": {
     "iopub.execute_input": "2023-05-07T00:32:46.862787Z",
     "iopub.status.busy": "2023-05-07T00:32:46.862372Z",
     "iopub.status.idle": "2023-05-07T00:32:46.866792Z",
     "shell.execute_reply": "2023-05-07T00:32:46.865762Z"
    },
    "papermill": {
     "duration": 0.013245,
     "end_time": "2023-05-07T00:32:46.869011",
     "exception": false,
     "start_time": "2023-05-07T00:32:46.855766",
     "status": "completed"
    },
    "tags": []
   },
   "outputs": [],
   "source": [
    "#q_1.hint()"
   ]
  },
  {
   "cell_type": "code",
   "execution_count": 3,
   "id": "35c5dd33",
   "metadata": {
    "execution": {
     "iopub.execute_input": "2023-05-07T00:32:46.881334Z",
     "iopub.status.busy": "2023-05-07T00:32:46.880985Z",
     "iopub.status.idle": "2023-05-07T00:32:46.890644Z",
     "shell.execute_reply": "2023-05-07T00:32:46.889473Z"
    },
    "papermill": {
     "duration": 0.018229,
     "end_time": "2023-05-07T00:32:46.892759",
     "exception": false,
     "start_time": "2023-05-07T00:32:46.874530",
     "status": "completed"
    },
    "tags": []
   },
   "outputs": [
    {
     "data": {
      "application/javascript": [
       "parent.postMessage({\"jupyterEvent\": \"custom.exercise_interaction\", \"data\": {\"interactionType\": 3, \"questionType\": 4, \"questionId\": \"1_WorseHeuristic\", \"learnToolsVersion\": \"0.3.4\", \"valueTowardsCompletion\": 0.0, \"failureMessage\": \"\", \"exceptionClass\": \"\", \"trace\": \"\", \"outcomeType\": 4}}, \"*\")"
      ],
      "text/plain": [
       "<IPython.core.display.Javascript object>"
      ]
     },
     "metadata": {},
     "output_type": "display_data"
    },
    {
     "data": {
      "text/markdown": [
       "<span style=\"color:#33cc99\">Solution:</span> The first heuristic is guaranteed to select column 2 to block the opponent from winning.  The second heuristic selects either column 2 or column 3 (where it selects each with 50% probability). Thus, for this game board, the first heuristic is better. In general, we can expect that the first heuristic is a better heuristic, since we cannot trust the second heuristic to block the opponent from winning."
      ],
      "text/plain": [
       "Solution: The first heuristic is guaranteed to select column 2 to block the opponent from winning.  The second heuristic selects either column 2 or column 3 (where it selects each with 50% probability). Thus, for this game board, the first heuristic is better. In general, we can expect that the first heuristic is a better heuristic, since we cannot trust the second heuristic to block the opponent from winning."
      ]
     },
     "metadata": {},
     "output_type": "display_data"
    }
   ],
   "source": [
    "# Check your answer (Run this code cell to receive credit!)\n",
    "q_1.solution()"
   ]
  },
  {
   "cell_type": "markdown",
   "id": "18d731fb",
   "metadata": {
    "papermill": {
     "duration": 0.005884,
     "end_time": "2023-05-07T00:32:46.904190",
     "exception": false,
     "start_time": "2023-05-07T00:32:46.898306",
     "status": "completed"
    },
    "tags": []
   },
   "source": [
    "### 2) Count the leaves\n",
    "\n",
    "In the tutorial, we worked with a small game tree.\n",
    "\n",
    "<center>\n",
    "<img src=\"https://storage.googleapis.com/kaggle-media/learn/images/BrRe7Bu.png\" width=90%><br/>\n",
    "</center>\n",
    "\n",
    "The game tree above has 8 leaf nodes that appear at the bottom of the tree.  By definition, \"leaf nodes\" in a game tree are nodes that don't have nodes below them.\n",
    "\n",
    "In the ConnectX competition, the game trees will be much larger!  \n",
    "\n",
    "To see this, consider a minimax agent that is trying to plan its first move, where all columns in the game board are  empty.  Say the agent builds a game tree of depth 3.  How many leaf nodes are in the game tree?  \n",
    "\n",
    "Use your answer to fill in the blank below."
   ]
  },
  {
   "cell_type": "code",
   "execution_count": 4,
   "id": "3c3c758d",
   "metadata": {
    "execution": {
     "iopub.execute_input": "2023-05-07T00:32:46.917353Z",
     "iopub.status.busy": "2023-05-07T00:32:46.916985Z",
     "iopub.status.idle": "2023-05-07T00:32:46.926833Z",
     "shell.execute_reply": "2023-05-07T00:32:46.925850Z"
    },
    "papermill": {
     "duration": 0.018931,
     "end_time": "2023-05-07T00:32:46.928899",
     "exception": false,
     "start_time": "2023-05-07T00:32:46.909968",
     "status": "completed"
    },
    "tags": []
   },
   "outputs": [
    {
     "data": {
      "application/javascript": [
       "parent.postMessage({\"jupyterEvent\": \"custom.exercise_interaction\", \"data\": {\"outcomeType\": 1, \"valueTowardsCompletion\": 0.2, \"interactionType\": 1, \"questionType\": 1, \"questionId\": \"2_NumLeaves\", \"learnToolsVersion\": \"0.3.4\", \"failureMessage\": \"\", \"exceptionClass\": \"\", \"trace\": \"\"}}, \"*\")"
      ],
      "text/plain": [
       "<IPython.core.display.Javascript object>"
      ]
     },
     "metadata": {},
     "output_type": "display_data"
    },
    {
     "data": {
      "text/markdown": [
       "<span style=\"color:#33cc33\">Correct</span>"
      ],
      "text/plain": [
       "Correct"
      ]
     },
     "metadata": {},
     "output_type": "display_data"
    }
   ],
   "source": [
    "# Fill in the blank\n",
    "num_leaves = 7*7*7\n",
    "\n",
    "# Check your answer\n",
    "q_2.check()"
   ]
  },
  {
   "cell_type": "code",
   "execution_count": 5,
   "id": "97da5de0",
   "metadata": {
    "execution": {
     "iopub.execute_input": "2023-05-07T00:32:46.943096Z",
     "iopub.status.busy": "2023-05-07T00:32:46.942741Z",
     "iopub.status.idle": "2023-05-07T00:32:46.946742Z",
     "shell.execute_reply": "2023-05-07T00:32:46.945615Z"
    },
    "papermill": {
     "duration": 0.014064,
     "end_time": "2023-05-07T00:32:46.948918",
     "exception": false,
     "start_time": "2023-05-07T00:32:46.934854",
     "status": "completed"
    },
    "tags": []
   },
   "outputs": [],
   "source": [
    "# Lines below will give you a hint or solution code\n",
    "#q_2.hint()\n",
    "# q_2.solution()"
   ]
  },
  {
   "cell_type": "markdown",
   "id": "5129e8ef",
   "metadata": {
    "papermill": {
     "duration": 0.005689,
     "end_time": "2023-05-07T00:32:46.960857",
     "exception": false,
     "start_time": "2023-05-07T00:32:46.955168",
     "status": "completed"
    },
    "tags": []
   },
   "source": [
    "### 3) Which move will the agent select?\n",
    "\n",
    "In this question, you'll check your understanding of the minimax algorithm.  Remember that with this algorithm, \n",
    "> The agent chooses moves to get a score that is as high as possible, and it assumes the opponent will counteract this by choosing moves to force the score to be as low as possible.\n",
    "\n",
    "Consider the toy example below of a game tree that the agent will use to select its next move.  \n",
    "<center>\n",
    "<img src=\"https://storage.googleapis.com/kaggle-media/learn/images/QlfWGM9.png\" width=80%><br/>\n",
    "</center>\n",
    "\n",
    "Which move will the agent select?  Use your answer to set the value of the `selected_move` variable below.  Your answer should be one of `1`, `2`, or `3`."
   ]
  },
  {
   "cell_type": "code",
   "execution_count": 6,
   "id": "087729e6",
   "metadata": {
    "execution": {
     "iopub.execute_input": "2023-05-07T00:32:46.975280Z",
     "iopub.status.busy": "2023-05-07T00:32:46.974691Z",
     "iopub.status.idle": "2023-05-07T00:32:46.983308Z",
     "shell.execute_reply": "2023-05-07T00:32:46.982459Z"
    },
    "papermill": {
     "duration": 0.018196,
     "end_time": "2023-05-07T00:32:46.985547",
     "exception": false,
     "start_time": "2023-05-07T00:32:46.967351",
     "status": "completed"
    },
    "tags": []
   },
   "outputs": [
    {
     "data": {
      "application/javascript": [
       "parent.postMessage({\"jupyterEvent\": \"custom.exercise_interaction\", \"data\": {\"outcomeType\": 1, \"valueTowardsCompletion\": 0.2, \"interactionType\": 1, \"questionType\": 2, \"questionId\": \"3_WhichMove\", \"learnToolsVersion\": \"0.3.4\", \"failureMessage\": \"\", \"exceptionClass\": \"\", \"trace\": \"\"}}, \"*\")"
      ],
      "text/plain": [
       "<IPython.core.display.Javascript object>"
      ]
     },
     "metadata": {},
     "output_type": "display_data"
    },
    {
     "data": {
      "text/markdown": [
       "<span style=\"color:#33cc33\">Correct</span>"
      ],
      "text/plain": [
       "Correct"
      ]
     },
     "metadata": {},
     "output_type": "display_data"
    }
   ],
   "source": [
    "# Fill in the blank\n",
    "selected_move = 3\n",
    "\n",
    "# Check your answer\n",
    "q_3.check()"
   ]
  },
  {
   "cell_type": "code",
   "execution_count": 7,
   "id": "e4d19890",
   "metadata": {
    "execution": {
     "iopub.execute_input": "2023-05-07T00:32:46.999849Z",
     "iopub.status.busy": "2023-05-07T00:32:46.998971Z",
     "iopub.status.idle": "2023-05-07T00:32:47.003513Z",
     "shell.execute_reply": "2023-05-07T00:32:47.002674Z"
    },
    "papermill": {
     "duration": 0.014102,
     "end_time": "2023-05-07T00:32:47.005723",
     "exception": false,
     "start_time": "2023-05-07T00:32:46.991621",
     "status": "completed"
    },
    "tags": []
   },
   "outputs": [],
   "source": [
    "# Lines below will give you a hint or solution code\n",
    "#q_3.hint()\n",
    "#q_3.solution()"
   ]
  },
  {
   "cell_type": "markdown",
   "id": "de9049d1",
   "metadata": {
    "papermill": {
     "duration": 0.006473,
     "end_time": "2023-05-07T00:32:47.018316",
     "exception": false,
     "start_time": "2023-05-07T00:32:47.011843",
     "status": "completed"
    },
    "tags": []
   },
   "source": [
    "### 4) Examine the assumptions\n",
    "\n",
    "The minimax agent assumes that its opponent plays optimally (with respect to the heuristic, and using a game tree of limited depth).  But this is almost never the case, in practice: it's far more likely for the agent to encounter a suboptimal (that is: worse than optimal) opponent.  \n",
    "\n",
    "Say the minimax agent encounters a suboptimal opponent. Should we expect the minimax agent to still play the game well, despite the contradiction with its assumptions?  If so, why?"
   ]
  },
  {
   "cell_type": "code",
   "execution_count": 8,
   "id": "1cf63c03",
   "metadata": {
    "execution": {
     "iopub.execute_input": "2023-05-07T00:32:47.032421Z",
     "iopub.status.busy": "2023-05-07T00:32:47.032011Z",
     "iopub.status.idle": "2023-05-07T00:32:47.036512Z",
     "shell.execute_reply": "2023-05-07T00:32:47.035489Z"
    },
    "papermill": {
     "duration": 0.014243,
     "end_time": "2023-05-07T00:32:47.038641",
     "exception": false,
     "start_time": "2023-05-07T00:32:47.024398",
     "status": "completed"
    },
    "tags": []
   },
   "outputs": [],
   "source": [
    "#q_4.hint()"
   ]
  },
  {
   "cell_type": "code",
   "execution_count": 9,
   "id": "77feef07",
   "metadata": {
    "execution": {
     "iopub.execute_input": "2023-05-07T00:32:47.053449Z",
     "iopub.status.busy": "2023-05-07T00:32:47.053051Z",
     "iopub.status.idle": "2023-05-07T00:32:47.061536Z",
     "shell.execute_reply": "2023-05-07T00:32:47.060494Z"
    },
    "papermill": {
     "duration": 0.018988,
     "end_time": "2023-05-07T00:32:47.063783",
     "exception": false,
     "start_time": "2023-05-07T00:32:47.044795",
     "status": "completed"
    },
    "tags": []
   },
   "outputs": [
    {
     "data": {
      "application/javascript": [
       "parent.postMessage({\"jupyterEvent\": \"custom.exercise_interaction\", \"data\": {\"interactionType\": 3, \"questionType\": 4, \"questionId\": \"4_Assumptions\", \"learnToolsVersion\": \"0.3.4\", \"valueTowardsCompletion\": 0.0, \"failureMessage\": \"\", \"exceptionClass\": \"\", \"trace\": \"\", \"outcomeType\": 4}}, \"*\")"
      ],
      "text/plain": [
       "<IPython.core.display.Javascript object>"
      ]
     },
     "metadata": {},
     "output_type": "display_data"
    },
    {
     "data": {
      "text/markdown": [
       "<span style=\"color:#33cc99\">Solution:</span> We can still expect the minimax agent to perform well. On a high level, assuming an optimal opponent simply overestimates the opponent, but does not break the algorithm.  The effect of overestimating the opponent is merely that the minimax agent will take longer to win, than if it had a more accurate understanding of its opponent.  For instance, the minimax agent is highly unlikely to select the same column three times in its first three moves (since it assumes an optimal opponent that will certainly block the winning play in the next move), but this is not a bad initial strategy for playing against an agent that selects columns completely at random."
      ],
      "text/plain": [
       "Solution: We can still expect the minimax agent to perform well. On a high level, assuming an optimal opponent simply overestimates the opponent, but does not break the algorithm.  The effect of overestimating the opponent is merely that the minimax agent will take longer to win, than if it had a more accurate understanding of its opponent.  For instance, the minimax agent is highly unlikely to select the same column three times in its first three moves (since it assumes an optimal opponent that will certainly block the winning play in the next move), but this is not a bad initial strategy for playing against an agent that selects columns completely at random."
      ]
     },
     "metadata": {},
     "output_type": "display_data"
    }
   ],
   "source": [
    "# Check your answer (Run this code cell to receive credit!)\n",
    "q_4.solution()"
   ]
  },
  {
   "cell_type": "markdown",
   "id": "02b7f966",
   "metadata": {
    "papermill": {
     "duration": 0.0066,
     "end_time": "2023-05-07T00:32:47.076812",
     "exception": false,
     "start_time": "2023-05-07T00:32:47.070212",
     "status": "completed"
    },
    "tags": []
   },
   "source": [
    "### 5) Submit to the competition\n",
    "\n",
    "Now, it's time to submit an agent to the competition!  Use the next code cell to define an agent.  (You can see an example of how to write a valid agent in **[this notebook](https://www.kaggle.com/alexisbcook/create-a-connectx-agent)**.)\n",
    "\n",
    "If you decide to use the minimax code from the tutorial, you might like to add [**alpha-beta pruning**](https://en.wikipedia.org/wiki/Alpha%E2%80%93beta_pruning) to decrease the computation time (i.e., get the minimax algorithm to run much faster!).  In this case, \"alpha\" and \"beta\" to refer to two values that are maintained while the algorithm is running, that help to identify early stopping conditions.  \n",
    "\n",
    "Without alpha-beta pruning, minimax evaluates each leaf node.  With alpha-beta pruning, minimax only evaluates nodes that could provide information that affects the agent's choice of action.  Put another way, it identifies nodes that could not possibly affect the final result and avoids evaluating them."
   ]
  },
  {
   "cell_type": "code",
   "execution_count": 10,
   "id": "8ac27ab0",
   "metadata": {
    "execution": {
     "iopub.execute_input": "2023-05-07T00:32:47.091481Z",
     "iopub.status.busy": "2023-05-07T00:32:47.091070Z",
     "iopub.status.idle": "2023-05-07T00:32:47.096949Z",
     "shell.execute_reply": "2023-05-07T00:32:47.095859Z"
    },
    "papermill": {
     "duration": 0.016052,
     "end_time": "2023-05-07T00:32:47.099428",
     "exception": false,
     "start_time": "2023-05-07T00:32:47.083376",
     "status": "completed"
    },
    "tags": []
   },
   "outputs": [],
   "source": [
    "# Helper function for minimax: calculates value of heuristic for grid\n",
    "def get_heuristic(grid, mark, config):\n",
    "    num_threes = count_windows(grid, 3, mark, config)\n",
    "    num_fours = count_windows(grid, 4, mark, config)\n",
    "    num_threes_opp = count_windows(grid, 3, mark%2+1, config)\n",
    "    num_fours_opp = count_windows(grid, 4, mark%2+1, config)\n",
    "    score = num_threes - 1e2*num_threes_opp - 1e4*num_fours_opp + 1e6*num_fours\n",
    "    return score"
   ]
  },
  {
   "cell_type": "code",
   "execution_count": 11,
   "id": "00848071",
   "metadata": {
    "execution": {
     "iopub.execute_input": "2023-05-07T00:32:47.114288Z",
     "iopub.status.busy": "2023-05-07T00:32:47.113902Z",
     "iopub.status.idle": "2023-05-07T00:32:47.129287Z",
     "shell.execute_reply": "2023-05-07T00:32:47.128144Z"
    },
    "papermill": {
     "duration": 0.026832,
     "end_time": "2023-05-07T00:32:47.132700",
     "exception": false,
     "start_time": "2023-05-07T00:32:47.105868",
     "status": "completed"
    },
    "tags": []
   },
   "outputs": [],
   "source": [
    "# Uses minimax to calculate value of dropping piece in selected column\n",
    "def score_move(grid, col, mark, config, nsteps):\n",
    "    next_grid = drop_piece(grid, col, mark, config)\n",
    "    score = minimax(next_grid, nsteps-1, False, mark, config)\n",
    "    return score\n",
    "\n",
    "# Helper function for minimax: checks if agent or opponent has four in a row in the window\n",
    "def is_terminal_window(window, config):\n",
    "    return window.count(1) == config.inarow or window.count(2) == config.inarow\n",
    "\n",
    "# Helper function for minimax: checks if game has ended\n",
    "def is_terminal_node(grid, config):\n",
    "    # Check for draw \n",
    "    if list(grid[0, :]).count(0) == 0:\n",
    "        return True\n",
    "    # Check for win: horizontal, vertical, or diagonal\n",
    "    # horizontal \n",
    "    for row in range(config.rows):\n",
    "        for col in range(config.columns-(config.inarow-1)):\n",
    "            window = list(grid[row, col:col+config.inarow])\n",
    "            if is_terminal_window(window, config):\n",
    "                return True\n",
    "    # vertical\n",
    "    for row in range(config.rows-(config.inarow-1)):\n",
    "        for col in range(config.columns):\n",
    "            window = list(grid[row:row+config.inarow, col])\n",
    "            if is_terminal_window(window, config):\n",
    "                return True\n",
    "    # positive diagonal\n",
    "    for row in range(config.rows-(config.inarow-1)):\n",
    "        for col in range(config.columns-(config.inarow-1)):\n",
    "            window = list(grid[range(row, row+config.inarow), range(col, col+config.inarow)])\n",
    "            if is_terminal_window(window, config):\n",
    "                return True\n",
    "    # negative diagonal\n",
    "    for row in range(config.inarow-1, config.rows):\n",
    "        for col in range(config.columns-(config.inarow-1)):\n",
    "            window = list(grid[range(row, row-config.inarow, -1), range(col, col+config.inarow)])\n",
    "            if is_terminal_window(window, config):\n",
    "                return True\n",
    "    return False\n",
    "\n",
    "# Minimax implementation\n",
    "def minimax(node, depth, maximizingPlayer, mark, config):\n",
    "    is_terminal = is_terminal_node(node, config)\n",
    "    valid_moves = [c for c in range(config.columns) if node[0][c] == 0]\n",
    "    if depth == 0 or is_terminal:\n",
    "        return get_heuristic(node, mark, config)\n",
    "    if maximizingPlayer:\n",
    "        value = -np.Inf\n",
    "        for col in valid_moves:\n",
    "            child = drop_piece(node, col, mark, config)\n",
    "            value = max(value, minimax(child, depth-1, False, mark, config))\n",
    "        return value\n",
    "    else:\n",
    "        value = np.Inf\n",
    "        for col in valid_moves:\n",
    "            child = drop_piece(node, col, mark%2+1, config)\n",
    "            value = min(value, minimax(child, depth-1, True, mark, config))\n",
    "        return value"
   ]
  },
  {
   "cell_type": "code",
   "execution_count": 12,
   "id": "d8940583",
   "metadata": {
    "execution": {
     "iopub.execute_input": "2023-05-07T00:32:47.147699Z",
     "iopub.status.busy": "2023-05-07T00:32:47.147294Z",
     "iopub.status.idle": "2023-05-07T00:32:47.169019Z",
     "shell.execute_reply": "2023-05-07T00:32:47.167835Z"
    },
    "papermill": {
     "duration": 0.032445,
     "end_time": "2023-05-07T00:32:47.171726",
     "exception": false,
     "start_time": "2023-05-07T00:32:47.139281",
     "status": "completed"
    },
    "tags": []
   },
   "outputs": [],
   "source": [
    "# How deep to make the game tree: higher values take longer to run!\n",
    "N_STEPS = 3\n",
    "def my_agent(obs, config):\n",
    "    # Helper function for minimax: calculates value of heuristic for grid\n",
    "    def get_heuristic(grid, mark, config):\n",
    "        num_threes = count_windows(grid, 3, mark, config)\n",
    "        num_fours = count_windows(grid, 4, mark, config)\n",
    "        num_threes_opp = count_windows(grid, 3, mark%2+1, config)\n",
    "        num_fours_opp = count_windows(grid, 4, mark%2+1, config)\n",
    "        score = num_threes - 1e2*num_threes_opp - 1e4*num_fours_opp + 1e6*num_fours\n",
    "        return score\n",
    "    # Uses minimax to calculate value of dropping piece in selected column\n",
    "    def score_move(grid, col, mark, config, nsteps):\n",
    "        next_grid = drop_piece(grid, col, mark, config)\n",
    "        score = minimax(next_grid, nsteps-1, False, mark, config)\n",
    "        return score\n",
    "\n",
    "    # Helper function for minimax: checks if agent or opponent has four in a row in the window\n",
    "    def is_terminal_window(window, config):\n",
    "        return window.count(1) == config.inarow or window.count(2) == config.inarow\n",
    "\n",
    "    # Helper function for minimax: checks if game has ended\n",
    "    def is_terminal_node(grid, config):\n",
    "        # Check for draw \n",
    "        if list(grid[0, :]).count(0) == 0:\n",
    "            return True\n",
    "        # Check for win: horizontal, vertical, or diagonal\n",
    "        # horizontal \n",
    "        for row in range(config.rows):\n",
    "            for col in range(config.columns-(config.inarow-1)):\n",
    "                window = list(grid[row, col:col+config.inarow])\n",
    "                if is_terminal_window(window, config):\n",
    "                    return True\n",
    "        # vertical\n",
    "        for row in range(config.rows-(config.inarow-1)):\n",
    "            for col in range(config.columns):\n",
    "                window = list(grid[row:row+config.inarow, col])\n",
    "                if is_terminal_window(window, config):\n",
    "                    return True\n",
    "        # positive diagonal\n",
    "        for row in range(config.rows-(config.inarow-1)):\n",
    "            for col in range(config.columns-(config.inarow-1)):\n",
    "                window = list(grid[range(row, row+config.inarow), range(col, col+config.inarow)])\n",
    "                if is_terminal_window(window, config):\n",
    "                    return True\n",
    "        # negative diagonal\n",
    "        for row in range(config.inarow-1, config.rows):\n",
    "            for col in range(config.columns-(config.inarow-1)):\n",
    "                window = list(grid[range(row, row-config.inarow, -1), range(col, col+config.inarow)])\n",
    "                if is_terminal_window(window, config):\n",
    "                    return True\n",
    "        return False\n",
    "\n",
    "    # Minimax implementation\n",
    "    def minimax(node, depth, maximizingPlayer, mark, config):\n",
    "        is_terminal = is_terminal_node(node, config)\n",
    "        valid_moves = [c for c in range(config.columns) if node[0][c] == 0]\n",
    "        if depth == 0 or is_terminal:\n",
    "            return get_heuristic(node, mark, config)\n",
    "        if maximizingPlayer:\n",
    "            value = -np.Inf\n",
    "            for col in valid_moves:\n",
    "                child = drop_piece(node, col, mark, config)\n",
    "                value = max(value, minimax(child, depth-1, False, mark, config))\n",
    "            return value\n",
    "        else:\n",
    "            value = np.Inf\n",
    "            for col in valid_moves:\n",
    "                child = drop_piece(node, col, mark%2+1, config)\n",
    "                value = min(value, minimax(child, depth-1, True, mark, config))\n",
    "            return value\n",
    "        \n",
    "    # Get list of valid moves\n",
    "    valid_moves = [c for c in range(config.columns) if obs.board[c] == 0]\n",
    "    # Convert the board to a 2D grid\n",
    "    grid = np.asarray(obs.board).reshape(config.rows, config.columns)\n",
    "    # Use the heuristic to assign a score to each possible board in the next step\n",
    "    scores = dict(zip(valid_moves, [score_move(grid, col, obs.mark, config, N_STEPS) for col in valid_moves]))\n",
    "    # Get a list of columns (moves) that maximize the heuristic\n",
    "    max_cols = [key for key in scores.keys() if scores[key] == max(scores.values())]\n",
    "    # Select at random from the maximizing columns\n",
    "    return random.choice(max_cols)"
   ]
  },
  {
   "cell_type": "code",
   "execution_count": 13,
   "id": "91242366",
   "metadata": {
    "execution": {
     "iopub.execute_input": "2023-05-07T00:32:47.186345Z",
     "iopub.status.busy": "2023-05-07T00:32:47.185956Z",
     "iopub.status.idle": "2023-05-07T00:32:47.195958Z",
     "shell.execute_reply": "2023-05-07T00:32:47.194742Z"
    },
    "papermill": {
     "duration": 0.020185,
     "end_time": "2023-05-07T00:32:47.198277",
     "exception": false,
     "start_time": "2023-05-07T00:32:47.178092",
     "status": "completed"
    },
    "tags": []
   },
   "outputs": [
    {
     "data": {
      "application/javascript": [
       "parent.postMessage({\"jupyterEvent\": \"custom.exercise_interaction\", \"data\": {\"outcomeType\": 1, \"valueTowardsCompletion\": 0.2, \"interactionType\": 1, \"questionType\": 2, \"questionId\": \"5_JustSubmitEx3\", \"learnToolsVersion\": \"0.3.4\", \"failureMessage\": \"\", \"exceptionClass\": \"\", \"trace\": \"\"}}, \"*\")"
      ],
      "text/plain": [
       "<IPython.core.display.Javascript object>"
      ]
     },
     "metadata": {},
     "output_type": "display_data"
    },
    {
     "data": {
      "text/markdown": [
       "<span style=\"color:#33cc33\">Thank you for creating an agent!</span>"
      ],
      "text/plain": [
       "Thank you for creating an agent!"
      ]
     },
     "metadata": {},
     "output_type": "display_data"
    }
   ],
   "source": [
    "# Run this code cell to get credit for creating an agent\n",
    "q_5.check()"
   ]
  },
  {
   "cell_type": "code",
   "execution_count": 14,
   "id": "3ffd48c7",
   "metadata": {
    "execution": {
     "iopub.execute_input": "2023-05-07T00:32:47.213966Z",
     "iopub.status.busy": "2023-05-07T00:32:47.213593Z",
     "iopub.status.idle": "2023-05-07T00:32:47.224675Z",
     "shell.execute_reply": "2023-05-07T00:32:47.223472Z"
    },
    "papermill": {
     "duration": 0.021684,
     "end_time": "2023-05-07T00:32:47.226896",
     "exception": false,
     "start_time": "2023-05-07T00:32:47.205212",
     "status": "completed"
    },
    "tags": []
   },
   "outputs": [
    {
     "name": "stdout",
     "output_type": "stream",
     "text": [
      "<function my_agent at 0x760972508700> written to submission.py\n"
     ]
    }
   ],
   "source": [
    "import inspect\n",
    "import os\n",
    "\n",
    "def write_agent_to_file(function, file):\n",
    "    with open(file, \"a\" if os.path.exists(file) else \"w\") as f:\n",
    "        f.write(inspect.getsource(function))\n",
    "        print(function, \"written to\", file)\n",
    "\n",
    "write_agent_to_file(my_agent, \"submission.py\")"
   ]
  },
  {
   "cell_type": "markdown",
   "id": "a04745cf",
   "metadata": {
    "papermill": {
     "duration": 0.006345,
     "end_time": "2023-05-07T00:32:47.240222",
     "exception": false,
     "start_time": "2023-05-07T00:32:47.233877",
     "status": "completed"
    },
    "tags": []
   },
   "source": [
    "Then, follow these steps to submit your agent to the competition:\n",
    "1. Begin by clicking on the **Save Version** button in the top right corner of the window.  This will generate a pop-up window.  \n",
    "2. Ensure that the **Save and Run All** option is selected, and then click on the **Save** button.\n",
    "3. This generates a window in the bottom left corner of the notebook.  After it has finished running, click on the number to the right of the **Save Version** button.  This pulls up a list of versions on the right of the screen.  Click on the ellipsis **(...)** to the right of the most recent version, and select **Open in Viewer**.  This brings you into view mode of the same page. You will need to scroll down to get back to these instructions.\n",
    "4. Click on the **Data** tab near the top of the screen.  Then, click on the file you would like to submit, and click on the **Submit** button to submit your results to the leaderboard.\n",
    "\n",
    "You have now successfully submitted to the competition!\n",
    "\n",
    "If you want to keep working to improve your performance, select the **Edit** button in the top right of the screen. Then you can change your code and repeat the process. There's a lot of room to improve, and you will climb up the leaderboard as you work.\n",
    "\n",
    "\n",
    "Go to **\"My Submissions\"** to view your score and episodes being played.\n",
    "\n",
    "# Keep going\n",
    "\n",
    "Move on to learn how to **[use deep reinforcement learning](https://www.kaggle.com/alexisbcook/deep-reinforcement-learning)** to develop an agent without a heuristic!"
   ]
  },
  {
   "cell_type": "markdown",
   "id": "f609a5ff",
   "metadata": {
    "papermill": {
     "duration": 0.006375,
     "end_time": "2023-05-07T00:32:47.253341",
     "exception": false,
     "start_time": "2023-05-07T00:32:47.246966",
     "status": "completed"
    },
    "tags": []
   },
   "source": [
    "---\n",
    "\n",
    "\n",
    "\n",
    "\n",
    "*Have questions or comments? Visit the [course discussion forum](https://www.kaggle.com/learn/intro-to-game-ai-and-reinforcement-learning/discussion) to chat with other learners.*"
   ]
  }
 ],
 "metadata": {
  "kernelspec": {
   "display_name": "Python 3",
   "language": "python",
   "name": "python3"
  },
  "language_info": {
   "codemirror_mode": {
    "name": "ipython",
    "version": 3
   },
   "file_extension": ".py",
   "mimetype": "text/x-python",
   "name": "python",
   "nbconvert_exporter": "python",
   "pygments_lexer": "ipython3",
   "version": "3.10.10"
  },
  "papermill": {
   "default_parameters": {},
   "duration": 13.522491,
   "end_time": "2023-05-07T00:32:48.182756",
   "environment_variables": {},
   "exception": null,
   "input_path": "__notebook__.ipynb",
   "output_path": "__notebook__.ipynb",
   "parameters": {},
   "start_time": "2023-05-07T00:32:34.660265",
   "version": "2.4.0"
  }
 },
 "nbformat": 4,
 "nbformat_minor": 5
}
