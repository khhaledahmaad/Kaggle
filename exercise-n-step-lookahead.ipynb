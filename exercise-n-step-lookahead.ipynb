{
 "cells": [
  {
   "cell_type": "markdown",
   "id": "83f97f08",
   "metadata": {
    "papermill": {
     "duration": 0.005668,
     "end_time": "2023-05-07T00:12:12.992511",
     "exception": false,
     "start_time": "2023-05-07T00:12:12.986843",
     "status": "completed"
    },
    "tags": []
   },
   "source": [
    "**This notebook is an exercise in the [Intro to Game AI and Reinforcement Learning](https://www.kaggle.com/learn/intro-to-game-ai-and-reinforcement-learning) course.  You can reference the tutorial at [this link](https://www.kaggle.com/alexisbcook/n-step-lookahead).**\n",
    "\n",
    "---\n"
   ]
  },
  {
   "cell_type": "markdown",
   "id": "ddf88bc1",
   "metadata": {
    "papermill": {
     "duration": 0.004729,
     "end_time": "2023-05-07T00:12:13.002476",
     "exception": false,
     "start_time": "2023-05-07T00:12:12.997747",
     "status": "completed"
    },
    "tags": []
   },
   "source": [
    "# Introduction\n",
    "\n",
    "In the tutorial, you learned how to build a reasonably intelligent agent with the minimax algorithm.  In this exercise, you will check your understanding and submit your own agent to the competition."
   ]
  },
  {
   "cell_type": "code",
   "execution_count": 1,
   "id": "5a6ca1aa",
   "metadata": {
    "execution": {
     "iopub.execute_input": "2023-05-07T00:12:13.015066Z",
     "iopub.status.busy": "2023-05-07T00:12:13.014189Z",
     "iopub.status.idle": "2023-05-07T00:12:13.069837Z",
     "shell.execute_reply": "2023-05-07T00:12:13.068780Z"
    },
    "papermill": {
     "duration": 0.065216,
     "end_time": "2023-05-07T00:12:13.072697",
     "exception": false,
     "start_time": "2023-05-07T00:12:13.007481",
     "status": "completed"
    },
    "tags": []
   },
   "outputs": [],
   "source": [
    "from learntools.core import binder\n",
    "binder.bind(globals())\n",
    "from learntools.game_ai.ex3 import *"
   ]
  },
  {
   "cell_type": "markdown",
   "id": "4417c51e",
   "metadata": {
    "papermill": {
     "duration": 0.004917,
     "end_time": "2023-05-07T00:12:13.082888",
     "exception": false,
     "start_time": "2023-05-07T00:12:13.077971",
     "status": "completed"
    },
    "tags": []
   },
   "source": [
    "### 1) A closer look\n",
    "\n",
    "The heuristic from the tutorial looks at all groups of four adjacent grid locations on the same row, column, or diagonal and assigns points for each occurrence of the following patterns:\n",
    "\n",
    "<center>\n",
    "<img src=\"https://storage.googleapis.com/kaggle-media/learn/images/3NvBEGL.png\" width=70%><br/>\n",
    "</center>\n",
    "\n",
    "Is it really necessary to use so many numbers to define the heuristic?  Consider simplifying it, as in the image below.\n",
    "\n",
    "<center>\n",
    "<img src=\"https://storage.googleapis.com/kaggle-media/learn/images/grViegG.png\" width=70%><br/>\n",
    "</center>\n",
    "\n",
    "How would each heuristic score the potential moves in the example below (where, in this case, the agent looks only one step ahead)?  Which heuristic would lead to the agent selecting the better move?\n",
    "\n",
    "<center>\n",
    "<img src=\"https://storage.googleapis.com/kaggle-media/learn/images/LWPLy7N.png\" width=100%><br/>\n",
    "</center>"
   ]
  },
  {
   "cell_type": "code",
   "execution_count": 2,
   "id": "26e45171",
   "metadata": {
    "execution": {
     "iopub.execute_input": "2023-05-07T00:12:13.095245Z",
     "iopub.status.busy": "2023-05-07T00:12:13.094520Z",
     "iopub.status.idle": "2023-05-07T00:12:13.098465Z",
     "shell.execute_reply": "2023-05-07T00:12:13.097784Z"
    },
    "papermill": {
     "duration": 0.012422,
     "end_time": "2023-05-07T00:12:13.100412",
     "exception": false,
     "start_time": "2023-05-07T00:12:13.087990",
     "status": "completed"
    },
    "tags": []
   },
   "outputs": [],
   "source": [
    "#q_1.hint()"
   ]
  },
  {
   "cell_type": "code",
   "execution_count": 3,
   "id": "a4a19a50",
   "metadata": {
    "execution": {
     "iopub.execute_input": "2023-05-07T00:12:13.112789Z",
     "iopub.status.busy": "2023-05-07T00:12:13.112058Z",
     "iopub.status.idle": "2023-05-07T00:12:13.122621Z",
     "shell.execute_reply": "2023-05-07T00:12:13.121460Z"
    },
    "papermill": {
     "duration": 0.018975,
     "end_time": "2023-05-07T00:12:13.124617",
     "exception": false,
     "start_time": "2023-05-07T00:12:13.105642",
     "status": "completed"
    },
    "tags": []
   },
   "outputs": [
    {
     "data": {
      "application/javascript": [
       "parent.postMessage({\"jupyterEvent\": \"custom.exercise_interaction\", \"data\": {\"interactionType\": 3, \"questionType\": 4, \"questionId\": \"1_WorseHeuristic\", \"learnToolsVersion\": \"0.3.4\", \"valueTowardsCompletion\": 0.0, \"failureMessage\": \"\", \"exceptionClass\": \"\", \"trace\": \"\", \"outcomeType\": 4}}, \"*\")"
      ],
      "text/plain": [
       "<IPython.core.display.Javascript object>"
      ]
     },
     "metadata": {},
     "output_type": "display_data"
    },
    {
     "data": {
      "text/markdown": [
       "<span style=\"color:#33cc99\">Solution:</span> The first heuristic is guaranteed to select column 2 to block the opponent from winning.  The second heuristic selects either column 2 or column 3 (where it selects each with 50% probability). Thus, for this game board, the first heuristic is better. In general, we can expect that the first heuristic is a better heuristic, since we cannot trust the second heuristic to block the opponent from winning."
      ],
      "text/plain": [
       "Solution: The first heuristic is guaranteed to select column 2 to block the opponent from winning.  The second heuristic selects either column 2 or column 3 (where it selects each with 50% probability). Thus, for this game board, the first heuristic is better. In general, we can expect that the first heuristic is a better heuristic, since we cannot trust the second heuristic to block the opponent from winning."
      ]
     },
     "metadata": {},
     "output_type": "display_data"
    }
   ],
   "source": [
    "# Check your answer (Run this code cell to receive credit!)\n",
    "q_1.solution()"
   ]
  },
  {
   "cell_type": "markdown",
   "id": "84af1df4",
   "metadata": {
    "papermill": {
     "duration": 0.005086,
     "end_time": "2023-05-07T00:12:13.135107",
     "exception": false,
     "start_time": "2023-05-07T00:12:13.130021",
     "status": "completed"
    },
    "tags": []
   },
   "source": [
    "### 2) Count the leaves\n",
    "\n",
    "In the tutorial, we worked with a small game tree.\n",
    "\n",
    "<center>\n",
    "<img src=\"https://storage.googleapis.com/kaggle-media/learn/images/BrRe7Bu.png\" width=90%><br/>\n",
    "</center>\n",
    "\n",
    "The game tree above has 8 leaf nodes that appear at the bottom of the tree.  By definition, \"leaf nodes\" in a game tree are nodes that don't have nodes below them.\n",
    "\n",
    "In the ConnectX competition, the game trees will be much larger!  \n",
    "\n",
    "To see this, consider a minimax agent that is trying to plan its first move, where all columns in the game board are  empty.  Say the agent builds a game tree of depth 3.  How many leaf nodes are in the game tree?  \n",
    "\n",
    "Use your answer to fill in the blank below."
   ]
  },
  {
   "cell_type": "code",
   "execution_count": 4,
   "id": "babbe877",
   "metadata": {
    "execution": {
     "iopub.execute_input": "2023-05-07T00:12:13.148610Z",
     "iopub.status.busy": "2023-05-07T00:12:13.147303Z",
     "iopub.status.idle": "2023-05-07T00:12:13.155701Z",
     "shell.execute_reply": "2023-05-07T00:12:13.154836Z"
    },
    "papermill": {
     "duration": 0.017112,
     "end_time": "2023-05-07T00:12:13.157900",
     "exception": false,
     "start_time": "2023-05-07T00:12:13.140788",
     "status": "completed"
    },
    "tags": []
   },
   "outputs": [
    {
     "data": {
      "application/javascript": [
       "parent.postMessage({\"jupyterEvent\": \"custom.exercise_interaction\", \"data\": {\"outcomeType\": 1, \"valueTowardsCompletion\": 0.2, \"interactionType\": 1, \"questionType\": 1, \"questionId\": \"2_NumLeaves\", \"learnToolsVersion\": \"0.3.4\", \"failureMessage\": \"\", \"exceptionClass\": \"\", \"trace\": \"\"}}, \"*\")"
      ],
      "text/plain": [
       "<IPython.core.display.Javascript object>"
      ]
     },
     "metadata": {},
     "output_type": "display_data"
    },
    {
     "data": {
      "text/markdown": [
       "<span style=\"color:#33cc33\">Correct</span>"
      ],
      "text/plain": [
       "Correct"
      ]
     },
     "metadata": {},
     "output_type": "display_data"
    }
   ],
   "source": [
    "# Fill in the blank\n",
    "num_leaves = 7*7*7\n",
    "\n",
    "# Check your answer\n",
    "q_2.check()"
   ]
  },
  {
   "cell_type": "code",
   "execution_count": 5,
   "id": "8a3d799b",
   "metadata": {
    "execution": {
     "iopub.execute_input": "2023-05-07T00:12:13.171818Z",
     "iopub.status.busy": "2023-05-07T00:12:13.170635Z",
     "iopub.status.idle": "2023-05-07T00:12:13.175625Z",
     "shell.execute_reply": "2023-05-07T00:12:13.174475Z"
    },
    "papermill": {
     "duration": 0.01445,
     "end_time": "2023-05-07T00:12:13.177989",
     "exception": false,
     "start_time": "2023-05-07T00:12:13.163539",
     "status": "completed"
    },
    "tags": []
   },
   "outputs": [],
   "source": [
    "# Lines below will give you a hint or solution code\n",
    "#q_2.hint()\n",
    "# q_2.solution()"
   ]
  },
  {
   "cell_type": "markdown",
   "id": "e6648979",
   "metadata": {
    "papermill": {
     "duration": 0.005532,
     "end_time": "2023-05-07T00:12:13.189150",
     "exception": false,
     "start_time": "2023-05-07T00:12:13.183618",
     "status": "completed"
    },
    "tags": []
   },
   "source": [
    "### 3) Which move will the agent select?\n",
    "\n",
    "In this question, you'll check your understanding of the minimax algorithm.  Remember that with this algorithm, \n",
    "> The agent chooses moves to get a score that is as high as possible, and it assumes the opponent will counteract this by choosing moves to force the score to be as low as possible.\n",
    "\n",
    "Consider the toy example below of a game tree that the agent will use to select its next move.  \n",
    "<center>\n",
    "<img src=\"https://storage.googleapis.com/kaggle-media/learn/images/QlfWGM9.png\" width=80%><br/>\n",
    "</center>\n",
    "\n",
    "Which move will the agent select?  Use your answer to set the value of the `selected_move` variable below.  Your answer should be one of `1`, `2`, or `3`."
   ]
  },
  {
   "cell_type": "code",
   "execution_count": 6,
   "id": "90940d47",
   "metadata": {
    "execution": {
     "iopub.execute_input": "2023-05-07T00:12:13.202794Z",
     "iopub.status.busy": "2023-05-07T00:12:13.202354Z",
     "iopub.status.idle": "2023-05-07T00:12:13.211495Z",
     "shell.execute_reply": "2023-05-07T00:12:13.210546Z"
    },
    "papermill": {
     "duration": 0.018903,
     "end_time": "2023-05-07T00:12:13.213689",
     "exception": false,
     "start_time": "2023-05-07T00:12:13.194786",
     "status": "completed"
    },
    "tags": []
   },
   "outputs": [
    {
     "data": {
      "application/javascript": [
       "parent.postMessage({\"jupyterEvent\": \"custom.exercise_interaction\", \"data\": {\"outcomeType\": 1, \"valueTowardsCompletion\": 0.2, \"interactionType\": 1, \"questionType\": 2, \"questionId\": \"3_WhichMove\", \"learnToolsVersion\": \"0.3.4\", \"failureMessage\": \"\", \"exceptionClass\": \"\", \"trace\": \"\"}}, \"*\")"
      ],
      "text/plain": [
       "<IPython.core.display.Javascript object>"
      ]
     },
     "metadata": {},
     "output_type": "display_data"
    },
    {
     "data": {
      "text/markdown": [
       "<span style=\"color:#33cc33\">Correct</span>"
      ],
      "text/plain": [
       "Correct"
      ]
     },
     "metadata": {},
     "output_type": "display_data"
    }
   ],
   "source": [
    "# Fill in the blank\n",
    "selected_move = 3\n",
    "\n",
    "# Check your answer\n",
    "q_3.check()"
   ]
  },
  {
   "cell_type": "code",
   "execution_count": 7,
   "id": "ef2dfc6b",
   "metadata": {
    "execution": {
     "iopub.execute_input": "2023-05-07T00:12:13.227968Z",
     "iopub.status.busy": "2023-05-07T00:12:13.227283Z",
     "iopub.status.idle": "2023-05-07T00:12:13.231262Z",
     "shell.execute_reply": "2023-05-07T00:12:13.230486Z"
    },
    "papermill": {
     "duration": 0.013408,
     "end_time": "2023-05-07T00:12:13.233363",
     "exception": false,
     "start_time": "2023-05-07T00:12:13.219955",
     "status": "completed"
    },
    "tags": []
   },
   "outputs": [],
   "source": [
    "# Lines below will give you a hint or solution code\n",
    "#q_3.hint()\n",
    "#q_3.solution()"
   ]
  },
  {
   "cell_type": "markdown",
   "id": "64d3ec59",
   "metadata": {
    "papermill": {
     "duration": 0.005608,
     "end_time": "2023-05-07T00:12:13.244882",
     "exception": false,
     "start_time": "2023-05-07T00:12:13.239274",
     "status": "completed"
    },
    "tags": []
   },
   "source": [
    "### 4) Examine the assumptions\n",
    "\n",
    "The minimax agent assumes that its opponent plays optimally (with respect to the heuristic, and using a game tree of limited depth).  But this is almost never the case, in practice: it's far more likely for the agent to encounter a suboptimal (that is: worse than optimal) opponent.  \n",
    "\n",
    "Say the minimax agent encounters a suboptimal opponent. Should we expect the minimax agent to still play the game well, despite the contradiction with its assumptions?  If so, why?"
   ]
  },
  {
   "cell_type": "code",
   "execution_count": 8,
   "id": "56138e9e",
   "metadata": {
    "execution": {
     "iopub.execute_input": "2023-05-07T00:12:13.259092Z",
     "iopub.status.busy": "2023-05-07T00:12:13.258393Z",
     "iopub.status.idle": "2023-05-07T00:12:13.262318Z",
     "shell.execute_reply": "2023-05-07T00:12:13.261562Z"
    },
    "papermill": {
     "duration": 0.013287,
     "end_time": "2023-05-07T00:12:13.264322",
     "exception": false,
     "start_time": "2023-05-07T00:12:13.251035",
     "status": "completed"
    },
    "tags": []
   },
   "outputs": [],
   "source": [
    "#q_4.hint()"
   ]
  },
  {
   "cell_type": "code",
   "execution_count": 9,
   "id": "23d0d1ef",
   "metadata": {
    "execution": {
     "iopub.execute_input": "2023-05-07T00:12:13.277962Z",
     "iopub.status.busy": "2023-05-07T00:12:13.277556Z",
     "iopub.status.idle": "2023-05-07T00:12:13.286692Z",
     "shell.execute_reply": "2023-05-07T00:12:13.285641Z"
    },
    "papermill": {
     "duration": 0.018655,
     "end_time": "2023-05-07T00:12:13.288914",
     "exception": false,
     "start_time": "2023-05-07T00:12:13.270259",
     "status": "completed"
    },
    "tags": []
   },
   "outputs": [
    {
     "data": {
      "application/javascript": [
       "parent.postMessage({\"jupyterEvent\": \"custom.exercise_interaction\", \"data\": {\"interactionType\": 3, \"questionType\": 4, \"questionId\": \"4_Assumptions\", \"learnToolsVersion\": \"0.3.4\", \"valueTowardsCompletion\": 0.0, \"failureMessage\": \"\", \"exceptionClass\": \"\", \"trace\": \"\", \"outcomeType\": 4}}, \"*\")"
      ],
      "text/plain": [
       "<IPython.core.display.Javascript object>"
      ]
     },
     "metadata": {},
     "output_type": "display_data"
    },
    {
     "data": {
      "text/markdown": [
       "<span style=\"color:#33cc99\">Solution:</span> We can still expect the minimax agent to perform well. On a high level, assuming an optimal opponent simply overestimates the opponent, but does not break the algorithm.  The effect of overestimating the opponent is merely that the minimax agent will take longer to win, than if it had a more accurate understanding of its opponent.  For instance, the minimax agent is highly unlikely to select the same column three times in its first three moves (since it assumes an optimal opponent that will certainly block the winning play in the next move), but this is not a bad initial strategy for playing against an agent that selects columns completely at random."
      ],
      "text/plain": [
       "Solution: We can still expect the minimax agent to perform well. On a high level, assuming an optimal opponent simply overestimates the opponent, but does not break the algorithm.  The effect of overestimating the opponent is merely that the minimax agent will take longer to win, than if it had a more accurate understanding of its opponent.  For instance, the minimax agent is highly unlikely to select the same column three times in its first three moves (since it assumes an optimal opponent that will certainly block the winning play in the next move), but this is not a bad initial strategy for playing against an agent that selects columns completely at random."
      ]
     },
     "metadata": {},
     "output_type": "display_data"
    }
   ],
   "source": [
    "# Check your answer (Run this code cell to receive credit!)\n",
    "q_4.solution()"
   ]
  },
  {
   "cell_type": "markdown",
   "id": "35d428b2",
   "metadata": {
    "papermill": {
     "duration": 0.005874,
     "end_time": "2023-05-07T00:12:13.300883",
     "exception": false,
     "start_time": "2023-05-07T00:12:13.295009",
     "status": "completed"
    },
    "tags": []
   },
   "source": [
    "### 5) Submit to the competition\n",
    "\n",
    "Now, it's time to submit an agent to the competition!  Use the next code cell to define an agent.  (You can see an example of how to write a valid agent in **[this notebook](https://www.kaggle.com/alexisbcook/create-a-connectx-agent)**.)\n",
    "\n",
    "If you decide to use the minimax code from the tutorial, you might like to add [**alpha-beta pruning**](https://en.wikipedia.org/wiki/Alpha%E2%80%93beta_pruning) to decrease the computation time (i.e., get the minimax algorithm to run much faster!).  In this case, \"alpha\" and \"beta\" to refer to two values that are maintained while the algorithm is running, that help to identify early stopping conditions.  \n",
    "\n",
    "Without alpha-beta pruning, minimax evaluates each leaf node.  With alpha-beta pruning, minimax only evaluates nodes that could provide information that affects the agent's choice of action.  Put another way, it identifies nodes that could not possibly affect the final result and avoids evaluating them."
   ]
  },
  {
   "cell_type": "code",
   "execution_count": 10,
   "id": "ae4ed41b",
   "metadata": {
    "execution": {
     "iopub.execute_input": "2023-05-07T00:12:13.315127Z",
     "iopub.status.busy": "2023-05-07T00:12:13.314691Z",
     "iopub.status.idle": "2023-05-07T00:12:13.321036Z",
     "shell.execute_reply": "2023-05-07T00:12:13.319909Z"
    },
    "papermill": {
     "duration": 0.016165,
     "end_time": "2023-05-07T00:12:13.323343",
     "exception": false,
     "start_time": "2023-05-07T00:12:13.307178",
     "status": "completed"
    },
    "tags": []
   },
   "outputs": [],
   "source": [
    "# Helper function for minimax: calculates value of heuristic for grid\n",
    "def get_heuristic(grid, mark, config):\n",
    "    num_threes = count_windows(grid, 3, mark, config)\n",
    "    num_fours = count_windows(grid, 4, mark, config)\n",
    "    num_threes_opp = count_windows(grid, 3, mark%2+1, config)\n",
    "    num_fours_opp = count_windows(grid, 4, mark%2+1, config)\n",
    "    score = num_threes - 1e2*num_threes_opp - 1e4*num_fours_opp + 1e6*num_fours\n",
    "    return score"
   ]
  },
  {
   "cell_type": "code",
   "execution_count": 11,
   "id": "6bbc5c9d",
   "metadata": {
    "execution": {
     "iopub.execute_input": "2023-05-07T00:12:13.337429Z",
     "iopub.status.busy": "2023-05-07T00:12:13.337021Z",
     "iopub.status.idle": "2023-05-07T00:12:13.354457Z",
     "shell.execute_reply": "2023-05-07T00:12:13.353110Z"
    },
    "papermill": {
     "duration": 0.027431,
     "end_time": "2023-05-07T00:12:13.357009",
     "exception": false,
     "start_time": "2023-05-07T00:12:13.329578",
     "status": "completed"
    },
    "tags": []
   },
   "outputs": [],
   "source": [
    "# Uses minimax to calculate value of dropping piece in selected column\n",
    "def score_move(grid, col, mark, config, nsteps):\n",
    "    next_grid = drop_piece(grid, col, mark, config)\n",
    "    score = minimax(next_grid, nsteps-1, False, mark, config)\n",
    "    return score\n",
    "\n",
    "# Helper function for minimax: checks if agent or opponent has four in a row in the window\n",
    "def is_terminal_window(window, config):\n",
    "    return window.count(1) == config.inarow or window.count(2) == config.inarow\n",
    "\n",
    "# Helper function for minimax: checks if game has ended\n",
    "def is_terminal_node(grid, config):\n",
    "    # Check for draw \n",
    "    if list(grid[0, :]).count(0) == 0:\n",
    "        return True\n",
    "    # Check for win: horizontal, vertical, or diagonal\n",
    "    # horizontal \n",
    "    for row in range(config.rows):\n",
    "        for col in range(config.columns-(config.inarow-1)):\n",
    "            window = list(grid[row, col:col+config.inarow])\n",
    "            if is_terminal_window(window, config):\n",
    "                return True\n",
    "    # vertical\n",
    "    for row in range(config.rows-(config.inarow-1)):\n",
    "        for col in range(config.columns):\n",
    "            window = list(grid[row:row+config.inarow, col])\n",
    "            if is_terminal_window(window, config):\n",
    "                return True\n",
    "    # positive diagonal\n",
    "    for row in range(config.rows-(config.inarow-1)):\n",
    "        for col in range(config.columns-(config.inarow-1)):\n",
    "            window = list(grid[range(row, row+config.inarow), range(col, col+config.inarow)])\n",
    "            if is_terminal_window(window, config):\n",
    "                return True\n",
    "    # negative diagonal\n",
    "    for row in range(config.inarow-1, config.rows):\n",
    "        for col in range(config.columns-(config.inarow-1)):\n",
    "            window = list(grid[range(row, row-config.inarow, -1), range(col, col+config.inarow)])\n",
    "            if is_terminal_window(window, config):\n",
    "                return True\n",
    "    return False\n",
    "\n",
    "# Minimax implementation\n",
    "def minimax(node, depth, maximizingPlayer, mark, config):\n",
    "    is_terminal = is_terminal_node(node, config)\n",
    "    valid_moves = [c for c in range(config.columns) if node[0][c] == 0]\n",
    "    if depth == 0 or is_terminal:\n",
    "        return get_heuristic(node, mark, config)\n",
    "    if maximizingPlayer:\n",
    "        value = -np.Inf\n",
    "        for col in valid_moves:\n",
    "            child = drop_piece(node, col, mark, config)\n",
    "            value = max(value, minimax(child, depth-1, False, mark, config))\n",
    "        return value\n",
    "    else:\n",
    "        value = np.Inf\n",
    "        for col in valid_moves:\n",
    "            child = drop_piece(node, col, mark%2+1, config)\n",
    "            value = min(value, minimax(child, depth-1, True, mark, config))\n",
    "        return value"
   ]
  },
  {
   "cell_type": "code",
   "execution_count": 12,
   "id": "353aa424",
   "metadata": {
    "execution": {
     "iopub.execute_input": "2023-05-07T00:12:13.371832Z",
     "iopub.status.busy": "2023-05-07T00:12:13.371383Z",
     "iopub.status.idle": "2023-05-07T00:12:13.378452Z",
     "shell.execute_reply": "2023-05-07T00:12:13.377349Z"
    },
    "papermill": {
     "duration": 0.017454,
     "end_time": "2023-05-07T00:12:13.380699",
     "exception": false,
     "start_time": "2023-05-07T00:12:13.363245",
     "status": "completed"
    },
    "tags": []
   },
   "outputs": [],
   "source": [
    "def my_agent(obs, config):\n",
    "    # Get list of valid moves\n",
    "    valid_moves = [c for c in range(config.columns) if obs.board[c] == 0]\n",
    "    # Convert the board to a 2D grid\n",
    "    grid = np.asarray(obs.board).reshape(config.rows, config.columns)\n",
    "    # Use the heuristic to assign a score to each possible board in the next step\n",
    "    scores = dict(zip(valid_moves, [score_move(grid, col, obs.mark, config, N_STEPS) for col in valid_moves]))\n",
    "    # Get a list of columns (moves) that maximize the heuristic\n",
    "    max_cols = [key for key in scores.keys() if scores[key] == max(scores.values())]\n",
    "    # Select at random from the maximizing columns\n",
    "    return random.choice(max_cols)"
   ]
  },
  {
   "cell_type": "code",
   "execution_count": 13,
   "id": "6c53de9b",
   "metadata": {
    "execution": {
     "iopub.execute_input": "2023-05-07T00:12:13.395065Z",
     "iopub.status.busy": "2023-05-07T00:12:13.394633Z",
     "iopub.status.idle": "2023-05-07T00:12:13.403202Z",
     "shell.execute_reply": "2023-05-07T00:12:13.402130Z"
    },
    "papermill": {
     "duration": 0.018227,
     "end_time": "2023-05-07T00:12:13.405389",
     "exception": false,
     "start_time": "2023-05-07T00:12:13.387162",
     "status": "completed"
    },
    "tags": []
   },
   "outputs": [
    {
     "data": {
      "application/javascript": [
       "parent.postMessage({\"jupyterEvent\": \"custom.exercise_interaction\", \"data\": {\"outcomeType\": 1, \"valueTowardsCompletion\": 0.2, \"interactionType\": 1, \"questionType\": 2, \"questionId\": \"5_JustSubmitEx3\", \"learnToolsVersion\": \"0.3.4\", \"failureMessage\": \"\", \"exceptionClass\": \"\", \"trace\": \"\"}}, \"*\")"
      ],
      "text/plain": [
       "<IPython.core.display.Javascript object>"
      ]
     },
     "metadata": {},
     "output_type": "display_data"
    },
    {
     "data": {
      "text/markdown": [
       "<span style=\"color:#33cc33\">Thank you for creating an agent!</span>"
      ],
      "text/plain": [
       "Thank you for creating an agent!"
      ]
     },
     "metadata": {},
     "output_type": "display_data"
    }
   ],
   "source": [
    "# Run this code cell to get credit for creating an agent\n",
    "q_5.check()"
   ]
  },
  {
   "cell_type": "code",
   "execution_count": 14,
   "id": "1b30d2bf",
   "metadata": {
    "execution": {
     "iopub.execute_input": "2023-05-07T00:12:13.420525Z",
     "iopub.status.busy": "2023-05-07T00:12:13.420120Z",
     "iopub.status.idle": "2023-05-07T00:12:13.428516Z",
     "shell.execute_reply": "2023-05-07T00:12:13.427143Z"
    },
    "papermill": {
     "duration": 0.018525,
     "end_time": "2023-05-07T00:12:13.430583",
     "exception": false,
     "start_time": "2023-05-07T00:12:13.412058",
     "status": "completed"
    },
    "tags": []
   },
   "outputs": [
    {
     "name": "stdout",
     "output_type": "stream",
     "text": [
      "<function my_agent at 0x7833948348b0> written to submission.py\n"
     ]
    }
   ],
   "source": [
    "import inspect\n",
    "import os\n",
    "\n",
    "def write_agent_to_file(function, file):\n",
    "    with open(file, \"a\" if os.path.exists(file) else \"w\") as f:\n",
    "        f.write(inspect.getsource(function))\n",
    "        print(function, \"written to\", file)\n",
    "\n",
    "write_agent_to_file(my_agent, \"submission.py\")"
   ]
  },
  {
   "cell_type": "markdown",
   "id": "eb6be70f",
   "metadata": {
    "papermill": {
     "duration": 0.006053,
     "end_time": "2023-05-07T00:12:13.443087",
     "exception": false,
     "start_time": "2023-05-07T00:12:13.437034",
     "status": "completed"
    },
    "tags": []
   },
   "source": [
    "Then, follow these steps to submit your agent to the competition:\n",
    "1. Begin by clicking on the **Save Version** button in the top right corner of the window.  This will generate a pop-up window.  \n",
    "2. Ensure that the **Save and Run All** option is selected, and then click on the **Save** button.\n",
    "3. This generates a window in the bottom left corner of the notebook.  After it has finished running, click on the number to the right of the **Save Version** button.  This pulls up a list of versions on the right of the screen.  Click on the ellipsis **(...)** to the right of the most recent version, and select **Open in Viewer**.  This brings you into view mode of the same page. You will need to scroll down to get back to these instructions.\n",
    "4. Click on the **Data** tab near the top of the screen.  Then, click on the file you would like to submit, and click on the **Submit** button to submit your results to the leaderboard.\n",
    "\n",
    "You have now successfully submitted to the competition!\n",
    "\n",
    "If you want to keep working to improve your performance, select the **Edit** button in the top right of the screen. Then you can change your code and repeat the process. There's a lot of room to improve, and you will climb up the leaderboard as you work.\n",
    "\n",
    "\n",
    "Go to **\"My Submissions\"** to view your score and episodes being played.\n",
    "\n",
    "# Keep going\n",
    "\n",
    "Move on to learn how to **[use deep reinforcement learning](https://www.kaggle.com/alexisbcook/deep-reinforcement-learning)** to develop an agent without a heuristic!"
   ]
  },
  {
   "cell_type": "markdown",
   "id": "ca3e0c69",
   "metadata": {
    "papermill": {
     "duration": 0.006147,
     "end_time": "2023-05-07T00:12:13.456178",
     "exception": false,
     "start_time": "2023-05-07T00:12:13.450031",
     "status": "completed"
    },
    "tags": []
   },
   "source": [
    "---\n",
    "\n",
    "\n",
    "\n",
    "\n",
    "*Have questions or comments? Visit the [course discussion forum](https://www.kaggle.com/learn/intro-to-game-ai-and-reinforcement-learning/discussion) to chat with other learners.*"
   ]
  }
 ],
 "metadata": {
  "kernelspec": {
   "display_name": "Python 3",
   "language": "python",
   "name": "python3"
  },
  "language_info": {
   "codemirror_mode": {
    "name": "ipython",
    "version": 3
   },
   "file_extension": ".py",
   "mimetype": "text/x-python",
   "name": "python",
   "nbconvert_exporter": "python",
   "pygments_lexer": "ipython3",
   "version": "3.10.10"
  },
  "papermill": {
   "default_parameters": {},
   "duration": 12.288392,
   "end_time": "2023-05-07T00:12:14.585369",
   "environment_variables": {},
   "exception": null,
   "input_path": "__notebook__.ipynb",
   "output_path": "__notebook__.ipynb",
   "parameters": {},
   "start_time": "2023-05-07T00:12:02.296977",
   "version": "2.4.0"
  }
 },
 "nbformat": 4,
 "nbformat_minor": 5
}
