{
 "cells": [
  {
   "cell_type": "markdown",
   "id": "99f51f0a",
   "metadata": {
    "papermill": {
     "duration": 0.00629,
     "end_time": "2023-05-07T00:39:26.166509",
     "exception": false,
     "start_time": "2023-05-07T00:39:26.160219",
     "status": "completed"
    },
    "tags": []
   },
   "source": [
    "**This notebook is an exercise in the [Intro to Game AI and Reinforcement Learning](https://www.kaggle.com/learn/intro-to-game-ai-and-reinforcement-learning) course.  You can reference the tutorial at [this link](https://www.kaggle.com/alexisbcook/n-step-lookahead).**\n",
    "\n",
    "---\n"
   ]
  },
  {
   "cell_type": "markdown",
   "id": "5ef43ee7",
   "metadata": {
    "papermill": {
     "duration": 0.005215,
     "end_time": "2023-05-07T00:39:26.177804",
     "exception": false,
     "start_time": "2023-05-07T00:39:26.172589",
     "status": "completed"
    },
    "tags": []
   },
   "source": [
    "# Introduction\n",
    "\n",
    "In the tutorial, you learned how to build a reasonably intelligent agent with the minimax algorithm.  In this exercise, you will check your understanding and submit your own agent to the competition."
   ]
  },
  {
   "cell_type": "code",
   "execution_count": 1,
   "id": "d7e41f52",
   "metadata": {
    "execution": {
     "iopub.execute_input": "2023-05-07T00:39:26.190942Z",
     "iopub.status.busy": "2023-05-07T00:39:26.190391Z",
     "iopub.status.idle": "2023-05-07T00:39:26.249527Z",
     "shell.execute_reply": "2023-05-07T00:39:26.248025Z"
    },
    "papermill": {
     "duration": 0.069193,
     "end_time": "2023-05-07T00:39:26.252321",
     "exception": false,
     "start_time": "2023-05-07T00:39:26.183128",
     "status": "completed"
    },
    "tags": []
   },
   "outputs": [],
   "source": [
    "from learntools.core import binder\n",
    "binder.bind(globals())\n",
    "from learntools.game_ai.ex3 import *"
   ]
  },
  {
   "cell_type": "markdown",
   "id": "b4054ab6",
   "metadata": {
    "papermill": {
     "duration": 0.005042,
     "end_time": "2023-05-07T00:39:26.262692",
     "exception": false,
     "start_time": "2023-05-07T00:39:26.257650",
     "status": "completed"
    },
    "tags": []
   },
   "source": [
    "### 1) A closer look\n",
    "\n",
    "The heuristic from the tutorial looks at all groups of four adjacent grid locations on the same row, column, or diagonal and assigns points for each occurrence of the following patterns:\n",
    "\n",
    "<center>\n",
    "<img src=\"https://storage.googleapis.com/kaggle-media/learn/images/3NvBEGL.png\" width=70%><br/>\n",
    "</center>\n",
    "\n",
    "Is it really necessary to use so many numbers to define the heuristic?  Consider simplifying it, as in the image below.\n",
    "\n",
    "<center>\n",
    "<img src=\"https://storage.googleapis.com/kaggle-media/learn/images/grViegG.png\" width=70%><br/>\n",
    "</center>\n",
    "\n",
    "How would each heuristic score the potential moves in the example below (where, in this case, the agent looks only one step ahead)?  Which heuristic would lead to the agent selecting the better move?\n",
    "\n",
    "<center>\n",
    "<img src=\"https://storage.googleapis.com/kaggle-media/learn/images/LWPLy7N.png\" width=100%><br/>\n",
    "</center>"
   ]
  },
  {
   "cell_type": "code",
   "execution_count": 2,
   "id": "82c292ce",
   "metadata": {
    "execution": {
     "iopub.execute_input": "2023-05-07T00:39:26.275300Z",
     "iopub.status.busy": "2023-05-07T00:39:26.274849Z",
     "iopub.status.idle": "2023-05-07T00:39:26.280011Z",
     "shell.execute_reply": "2023-05-07T00:39:26.278719Z"
    },
    "papermill": {
     "duration": 0.014341,
     "end_time": "2023-05-07T00:39:26.282373",
     "exception": false,
     "start_time": "2023-05-07T00:39:26.268032",
     "status": "completed"
    },
    "tags": []
   },
   "outputs": [],
   "source": [
    "#q_1.hint()"
   ]
  },
  {
   "cell_type": "code",
   "execution_count": 3,
   "id": "f690ac16",
   "metadata": {
    "execution": {
     "iopub.execute_input": "2023-05-07T00:39:26.297007Z",
     "iopub.status.busy": "2023-05-07T00:39:26.296053Z",
     "iopub.status.idle": "2023-05-07T00:39:26.307254Z",
     "shell.execute_reply": "2023-05-07T00:39:26.306088Z"
    },
    "papermill": {
     "duration": 0.022087,
     "end_time": "2023-05-07T00:39:26.309857",
     "exception": false,
     "start_time": "2023-05-07T00:39:26.287770",
     "status": "completed"
    },
    "tags": []
   },
   "outputs": [
    {
     "data": {
      "application/javascript": [
       "parent.postMessage({\"jupyterEvent\": \"custom.exercise_interaction\", \"data\": {\"interactionType\": 3, \"questionType\": 4, \"questionId\": \"1_WorseHeuristic\", \"learnToolsVersion\": \"0.3.4\", \"valueTowardsCompletion\": 0.0, \"failureMessage\": \"\", \"exceptionClass\": \"\", \"trace\": \"\", \"outcomeType\": 4}}, \"*\")"
      ],
      "text/plain": [
       "<IPython.core.display.Javascript object>"
      ]
     },
     "metadata": {},
     "output_type": "display_data"
    },
    {
     "data": {
      "text/markdown": [
       "<span style=\"color:#33cc99\">Solution:</span> The first heuristic is guaranteed to select column 2 to block the opponent from winning.  The second heuristic selects either column 2 or column 3 (where it selects each with 50% probability). Thus, for this game board, the first heuristic is better. In general, we can expect that the first heuristic is a better heuristic, since we cannot trust the second heuristic to block the opponent from winning."
      ],
      "text/plain": [
       "Solution: The first heuristic is guaranteed to select column 2 to block the opponent from winning.  The second heuristic selects either column 2 or column 3 (where it selects each with 50% probability). Thus, for this game board, the first heuristic is better. In general, we can expect that the first heuristic is a better heuristic, since we cannot trust the second heuristic to block the opponent from winning."
      ]
     },
     "metadata": {},
     "output_type": "display_data"
    }
   ],
   "source": [
    "# Check your answer (Run this code cell to receive credit!)\n",
    "q_1.solution()"
   ]
  },
  {
   "cell_type": "markdown",
   "id": "ee47245d",
   "metadata": {
    "papermill": {
     "duration": 0.005269,
     "end_time": "2023-05-07T00:39:26.320790",
     "exception": false,
     "start_time": "2023-05-07T00:39:26.315521",
     "status": "completed"
    },
    "tags": []
   },
   "source": [
    "### 2) Count the leaves\n",
    "\n",
    "In the tutorial, we worked with a small game tree.\n",
    "\n",
    "<center>\n",
    "<img src=\"https://storage.googleapis.com/kaggle-media/learn/images/BrRe7Bu.png\" width=90%><br/>\n",
    "</center>\n",
    "\n",
    "The game tree above has 8 leaf nodes that appear at the bottom of the tree.  By definition, \"leaf nodes\" in a game tree are nodes that don't have nodes below them.\n",
    "\n",
    "In the ConnectX competition, the game trees will be much larger!  \n",
    "\n",
    "To see this, consider a minimax agent that is trying to plan its first move, where all columns in the game board are  empty.  Say the agent builds a game tree of depth 3.  How many leaf nodes are in the game tree?  \n",
    "\n",
    "Use your answer to fill in the blank below."
   ]
  },
  {
   "cell_type": "code",
   "execution_count": 4,
   "id": "d37115ed",
   "metadata": {
    "execution": {
     "iopub.execute_input": "2023-05-07T00:39:26.334269Z",
     "iopub.status.busy": "2023-05-07T00:39:26.333426Z",
     "iopub.status.idle": "2023-05-07T00:39:26.342599Z",
     "shell.execute_reply": "2023-05-07T00:39:26.341790Z"
    },
    "papermill": {
     "duration": 0.018501,
     "end_time": "2023-05-07T00:39:26.344900",
     "exception": false,
     "start_time": "2023-05-07T00:39:26.326399",
     "status": "completed"
    },
    "tags": []
   },
   "outputs": [
    {
     "data": {
      "application/javascript": [
       "parent.postMessage({\"jupyterEvent\": \"custom.exercise_interaction\", \"data\": {\"outcomeType\": 1, \"valueTowardsCompletion\": 0.2, \"interactionType\": 1, \"questionType\": 1, \"questionId\": \"2_NumLeaves\", \"learnToolsVersion\": \"0.3.4\", \"failureMessage\": \"\", \"exceptionClass\": \"\", \"trace\": \"\"}}, \"*\")"
      ],
      "text/plain": [
       "<IPython.core.display.Javascript object>"
      ]
     },
     "metadata": {},
     "output_type": "display_data"
    },
    {
     "data": {
      "text/markdown": [
       "<span style=\"color:#33cc33\">Correct</span>"
      ],
      "text/plain": [
       "Correct"
      ]
     },
     "metadata": {},
     "output_type": "display_data"
    }
   ],
   "source": [
    "# Fill in the blank\n",
    "num_leaves = 7*7*7\n",
    "\n",
    "# Check your answer\n",
    "q_2.check()"
   ]
  },
  {
   "cell_type": "code",
   "execution_count": 5,
   "id": "51b8960c",
   "metadata": {
    "execution": {
     "iopub.execute_input": "2023-05-07T00:39:26.359418Z",
     "iopub.status.busy": "2023-05-07T00:39:26.358593Z",
     "iopub.status.idle": "2023-05-07T00:39:26.363319Z",
     "shell.execute_reply": "2023-05-07T00:39:26.362495Z"
    },
    "papermill": {
     "duration": 0.015015,
     "end_time": "2023-05-07T00:39:26.365575",
     "exception": false,
     "start_time": "2023-05-07T00:39:26.350560",
     "status": "completed"
    },
    "tags": []
   },
   "outputs": [],
   "source": [
    "# Lines below will give you a hint or solution code\n",
    "#q_2.hint()\n",
    "# q_2.solution()"
   ]
  },
  {
   "cell_type": "markdown",
   "id": "ed1a4f55",
   "metadata": {
    "papermill": {
     "duration": 0.00565,
     "end_time": "2023-05-07T00:39:26.376950",
     "exception": false,
     "start_time": "2023-05-07T00:39:26.371300",
     "status": "completed"
    },
    "tags": []
   },
   "source": [
    "### 3) Which move will the agent select?\n",
    "\n",
    "In this question, you'll check your understanding of the minimax algorithm.  Remember that with this algorithm, \n",
    "> The agent chooses moves to get a score that is as high as possible, and it assumes the opponent will counteract this by choosing moves to force the score to be as low as possible.\n",
    "\n",
    "Consider the toy example below of a game tree that the agent will use to select its next move.  \n",
    "<center>\n",
    "<img src=\"https://storage.googleapis.com/kaggle-media/learn/images/QlfWGM9.png\" width=80%><br/>\n",
    "</center>\n",
    "\n",
    "Which move will the agent select?  Use your answer to set the value of the `selected_move` variable below.  Your answer should be one of `1`, `2`, or `3`."
   ]
  },
  {
   "cell_type": "code",
   "execution_count": 6,
   "id": "cf04b832",
   "metadata": {
    "execution": {
     "iopub.execute_input": "2023-05-07T00:39:26.391631Z",
     "iopub.status.busy": "2023-05-07T00:39:26.390734Z",
     "iopub.status.idle": "2023-05-07T00:39:26.399907Z",
     "shell.execute_reply": "2023-05-07T00:39:26.398982Z"
    },
    "papermill": {
     "duration": 0.018949,
     "end_time": "2023-05-07T00:39:26.402110",
     "exception": false,
     "start_time": "2023-05-07T00:39:26.383161",
     "status": "completed"
    },
    "tags": []
   },
   "outputs": [
    {
     "data": {
      "application/javascript": [
       "parent.postMessage({\"jupyterEvent\": \"custom.exercise_interaction\", \"data\": {\"outcomeType\": 1, \"valueTowardsCompletion\": 0.2, \"interactionType\": 1, \"questionType\": 2, \"questionId\": \"3_WhichMove\", \"learnToolsVersion\": \"0.3.4\", \"failureMessage\": \"\", \"exceptionClass\": \"\", \"trace\": \"\"}}, \"*\")"
      ],
      "text/plain": [
       "<IPython.core.display.Javascript object>"
      ]
     },
     "metadata": {},
     "output_type": "display_data"
    },
    {
     "data": {
      "text/markdown": [
       "<span style=\"color:#33cc33\">Correct</span>"
      ],
      "text/plain": [
       "Correct"
      ]
     },
     "metadata": {},
     "output_type": "display_data"
    }
   ],
   "source": [
    "# Fill in the blank\n",
    "selected_move = 3\n",
    "\n",
    "# Check your answer\n",
    "q_3.check()"
   ]
  },
  {
   "cell_type": "code",
   "execution_count": 7,
   "id": "b80def37",
   "metadata": {
    "execution": {
     "iopub.execute_input": "2023-05-07T00:39:26.416293Z",
     "iopub.status.busy": "2023-05-07T00:39:26.415500Z",
     "iopub.status.idle": "2023-05-07T00:39:26.420195Z",
     "shell.execute_reply": "2023-05-07T00:39:26.419383Z"
    },
    "papermill": {
     "duration": 0.01462,
     "end_time": "2023-05-07T00:39:26.422664",
     "exception": false,
     "start_time": "2023-05-07T00:39:26.408044",
     "status": "completed"
    },
    "tags": []
   },
   "outputs": [],
   "source": [
    "# Lines below will give you a hint or solution code\n",
    "#q_3.hint()\n",
    "#q_3.solution()"
   ]
  },
  {
   "cell_type": "markdown",
   "id": "3d247ad3",
   "metadata": {
    "papermill": {
     "duration": 0.005689,
     "end_time": "2023-05-07T00:39:26.434491",
     "exception": false,
     "start_time": "2023-05-07T00:39:26.428802",
     "status": "completed"
    },
    "tags": []
   },
   "source": [
    "### 4) Examine the assumptions\n",
    "\n",
    "The minimax agent assumes that its opponent plays optimally (with respect to the heuristic, and using a game tree of limited depth).  But this is almost never the case, in practice: it's far more likely for the agent to encounter a suboptimal (that is: worse than optimal) opponent.  \n",
    "\n",
    "Say the minimax agent encounters a suboptimal opponent. Should we expect the minimax agent to still play the game well, despite the contradiction with its assumptions?  If so, why?"
   ]
  },
  {
   "cell_type": "code",
   "execution_count": 8,
   "id": "8fa33bf5",
   "metadata": {
    "execution": {
     "iopub.execute_input": "2023-05-07T00:39:26.448787Z",
     "iopub.status.busy": "2023-05-07T00:39:26.447957Z",
     "iopub.status.idle": "2023-05-07T00:39:26.452757Z",
     "shell.execute_reply": "2023-05-07T00:39:26.451920Z"
    },
    "papermill": {
     "duration": 0.014724,
     "end_time": "2023-05-07T00:39:26.455210",
     "exception": false,
     "start_time": "2023-05-07T00:39:26.440486",
     "status": "completed"
    },
    "tags": []
   },
   "outputs": [],
   "source": [
    "#q_4.hint()"
   ]
  },
  {
   "cell_type": "code",
   "execution_count": 9,
   "id": "05e0be01",
   "metadata": {
    "execution": {
     "iopub.execute_input": "2023-05-07T00:39:26.469589Z",
     "iopub.status.busy": "2023-05-07T00:39:26.468819Z",
     "iopub.status.idle": "2023-05-07T00:39:26.478154Z",
     "shell.execute_reply": "2023-05-07T00:39:26.477003Z"
    },
    "papermill": {
     "duration": 0.019368,
     "end_time": "2023-05-07T00:39:26.480546",
     "exception": false,
     "start_time": "2023-05-07T00:39:26.461178",
     "status": "completed"
    },
    "tags": []
   },
   "outputs": [
    {
     "data": {
      "application/javascript": [
       "parent.postMessage({\"jupyterEvent\": \"custom.exercise_interaction\", \"data\": {\"interactionType\": 3, \"questionType\": 4, \"questionId\": \"4_Assumptions\", \"learnToolsVersion\": \"0.3.4\", \"valueTowardsCompletion\": 0.0, \"failureMessage\": \"\", \"exceptionClass\": \"\", \"trace\": \"\", \"outcomeType\": 4}}, \"*\")"
      ],
      "text/plain": [
       "<IPython.core.display.Javascript object>"
      ]
     },
     "metadata": {},
     "output_type": "display_data"
    },
    {
     "data": {
      "text/markdown": [
       "<span style=\"color:#33cc99\">Solution:</span> We can still expect the minimax agent to perform well. On a high level, assuming an optimal opponent simply overestimates the opponent, but does not break the algorithm.  The effect of overestimating the opponent is merely that the minimax agent will take longer to win, than if it had a more accurate understanding of its opponent.  For instance, the minimax agent is highly unlikely to select the same column three times in its first three moves (since it assumes an optimal opponent that will certainly block the winning play in the next move), but this is not a bad initial strategy for playing against an agent that selects columns completely at random."
      ],
      "text/plain": [
       "Solution: We can still expect the minimax agent to perform well. On a high level, assuming an optimal opponent simply overestimates the opponent, but does not break the algorithm.  The effect of overestimating the opponent is merely that the minimax agent will take longer to win, than if it had a more accurate understanding of its opponent.  For instance, the minimax agent is highly unlikely to select the same column three times in its first three moves (since it assumes an optimal opponent that will certainly block the winning play in the next move), but this is not a bad initial strategy for playing against an agent that selects columns completely at random."
      ]
     },
     "metadata": {},
     "output_type": "display_data"
    }
   ],
   "source": [
    "# Check your answer (Run this code cell to receive credit!)\n",
    "q_4.solution()"
   ]
  },
  {
   "cell_type": "markdown",
   "id": "ed354720",
   "metadata": {
    "papermill": {
     "duration": 0.006128,
     "end_time": "2023-05-07T00:39:26.493333",
     "exception": false,
     "start_time": "2023-05-07T00:39:26.487205",
     "status": "completed"
    },
    "tags": []
   },
   "source": [
    "### 5) Submit to the competition\n",
    "\n",
    "Now, it's time to submit an agent to the competition!  Use the next code cell to define an agent.  (You can see an example of how to write a valid agent in **[this notebook](https://www.kaggle.com/alexisbcook/create-a-connectx-agent)**.)\n",
    "\n",
    "If you decide to use the minimax code from the tutorial, you might like to add [**alpha-beta pruning**](https://en.wikipedia.org/wiki/Alpha%E2%80%93beta_pruning) to decrease the computation time (i.e., get the minimax algorithm to run much faster!).  In this case, \"alpha\" and \"beta\" to refer to two values that are maintained while the algorithm is running, that help to identify early stopping conditions.  \n",
    "\n",
    "Without alpha-beta pruning, minimax evaluates each leaf node.  With alpha-beta pruning, minimax only evaluates nodes that could provide information that affects the agent's choice of action.  Put another way, it identifies nodes that could not possibly affect the final result and avoids evaluating them."
   ]
  },
  {
   "cell_type": "code",
   "execution_count": 10,
   "id": "d0cc1db9",
   "metadata": {
    "execution": {
     "iopub.execute_input": "2023-05-07T00:39:26.508495Z",
     "iopub.status.busy": "2023-05-07T00:39:26.508102Z",
     "iopub.status.idle": "2023-05-07T00:39:26.514776Z",
     "shell.execute_reply": "2023-05-07T00:39:26.513493Z"
    },
    "papermill": {
     "duration": 0.017336,
     "end_time": "2023-05-07T00:39:26.517103",
     "exception": false,
     "start_time": "2023-05-07T00:39:26.499767",
     "status": "completed"
    },
    "tags": []
   },
   "outputs": [],
   "source": [
    "# Helper function for minimax: calculates value of heuristic for grid\n",
    "def get_heuristic(grid, mark, config):\n",
    "    num_threes = count_windows(grid, 3, mark, config)\n",
    "    num_fours = count_windows(grid, 4, mark, config)\n",
    "    num_threes_opp = count_windows(grid, 3, mark%2+1, config)\n",
    "    num_fours_opp = count_windows(grid, 4, mark%2+1, config)\n",
    "    score = num_threes - 1e2*num_threes_opp - 1e4*num_fours_opp + 1e6*num_fours\n",
    "    return score"
   ]
  },
  {
   "cell_type": "code",
   "execution_count": 11,
   "id": "50a97527",
   "metadata": {
    "execution": {
     "iopub.execute_input": "2023-05-07T00:39:26.531854Z",
     "iopub.status.busy": "2023-05-07T00:39:26.531391Z",
     "iopub.status.idle": "2023-05-07T00:39:26.561859Z",
     "shell.execute_reply": "2023-05-07T00:39:26.560709Z"
    },
    "papermill": {
     "duration": 0.040997,
     "end_time": "2023-05-07T00:39:26.564551",
     "exception": false,
     "start_time": "2023-05-07T00:39:26.523554",
     "status": "completed"
    },
    "tags": []
   },
   "outputs": [],
   "source": [
    "def my_agent(obs, config):\n",
    "    # Your code here: Amend the agent!\n",
    "    N_STEPS = 3\n",
    "    \n",
    "    ########################################### Helper Functions #######################################################\n",
    "    import random\n",
    "    import numpy as np\n",
    "    \n",
    "    def drop_piece(grid, col, mark, config):\n",
    "        next_grid = grid.copy()\n",
    "        for row in range(config.rows-1, -1, -1):\n",
    "            if next_grid[row][col] == 0:\n",
    "                break\n",
    "        next_grid[row][col] = mark\n",
    "        return next_grid\n",
    "    \n",
    "    def check_window(num, mark, window, config):\n",
    "        return window.count(mark) == num and window.count(0) == config.inarow-num\n",
    "    \n",
    "    def count_windows(grid, num_discs, mark, config):\n",
    "        count = 0\n",
    "        # Vertical\n",
    "        for row in range(config.rows-config.inarow+1):\n",
    "            for col in range(config.columns):\n",
    "                window = list(grid[row:row+config.inarow, col])\n",
    "                if check_window(num_discs, mark, window, config):\n",
    "                    count += 1\n",
    "        # Horizontal\n",
    "        for row in range(config.rows):\n",
    "            for col in range(config.columns-config.inarow+1):\n",
    "                window = list(grid[row, col:col+config.inarow])\n",
    "                if check_window(num_discs, mark, window, config):\n",
    "                    count += 1\n",
    "        # Positive diagonal\n",
    "        for row in range(config.rows-config.inarow+1):\n",
    "            for col in range(config.columns-config.inarow+1):\n",
    "                window = list(grid[range(row, row+config.inarow), range(col, col+config.inarow)])\n",
    "                if check_window(num_discs, mark, window, config):\n",
    "                    count += 1\n",
    "        # Negative diagonal\n",
    "        for row in range(config.inarow-1, config.rows):\n",
    "            for col in range(config.columns-(config.inarow-1)):\n",
    "                window = list(grid[range(row, row-config.inarow, -1), range(col, col+config.inarow)])\n",
    "                if check_window(num_discs, mark, window, config):\n",
    "                    count += 1\n",
    "        return count\n",
    "    \n",
    "    def get_heuristics(grid, mark, config):\n",
    "        count_four = count_windows(grid, 4, mark, config)\n",
    "        count_three = count_windows(grid, 3, mark, config)\n",
    "        count_three_opp = count_windows(grid, 3, mark%2+1, config)\n",
    "        count_four_opp = count_windows(grid, 4, mark%2+1, config)\n",
    "        \n",
    "        score = 100*count_four + 1*count_three - 1*count_three_opp - 100*count_four_opp\n",
    "        return score\n",
    "    \n",
    "    def score_move(grid, mark, config, move, n_steps):\n",
    "        next_grid = drop_piece(grid, move, obs.mark, config)\n",
    "        output_score = minimax(grid, obs.mark, config, n_steps, True, alpha = -np.Inf, beta = np.Inf)\n",
    "        \n",
    "        return output_score\n",
    "    \n",
    "    def is_terminal_window(window, config):\n",
    "        return window.count(1)==config.inarow or window.count(2)==config.inarow\n",
    "    \n",
    "    def is_terminal_node(grid, mark, config):\n",
    "        #Check for draw\n",
    "        if list(grid[0,:]).count(0) == 0:\n",
    "            return True\n",
    "        \n",
    "        #Check for all wins\n",
    "        # Vertical\n",
    "        for row in range(config.rows-config.inarow+1):\n",
    "            for col in range(config.columns):\n",
    "                window = list(grid[row:row+config.inarow, col])\n",
    "                if is_terminal_window(window, config):\n",
    "                    return True\n",
    "        # Horizontal\n",
    "        for row in range(config.rows):\n",
    "            for col in range(config.columns-config.inarow+1):\n",
    "                window = list(grid[row, col:col+config.inarow])\n",
    "                if is_terminal_window(window, config):\n",
    "                    return True\n",
    "        # Positive diagonal\n",
    "        for row in range(config.rows-config.inarow+1):\n",
    "            for col in range(config.columns-config.inarow+1):\n",
    "                window = list(grid[range(row, row+config.inarow), range(col, col+config.inarow)])\n",
    "                if is_terminal_window(window, config):\n",
    "                    return True\n",
    "        # Negative diagonal\n",
    "        for row in range(config.inarow-1, config.rows):\n",
    "            for col in range(config.columns-(config.inarow-1)):\n",
    "                window = list(grid[range(row, row-config.inarow, -1), range(col, col+config.inarow)])\n",
    "                if is_terminal_window(window, config):\n",
    "                    return True\n",
    "        return False\n",
    "    \n",
    "    def minimax(node, mark, config, depth, maximize, alpha, beta):\n",
    "        #Base condition\n",
    "        if depth == 0 or is_terminal_node(node, mark, config):\n",
    "            return get_heuristics(node, obs.mark, config)\n",
    "        \n",
    "        valid_moves = [col for col in range(config.columns) if node[0][col] == 0]\n",
    "        \n",
    "        if maximize:\n",
    "            value = -np.Inf\n",
    "            for move in valid_moves:\n",
    "                child = drop_piece(grid, move, mark, config)\n",
    "                value = max(value, minimax(child, mark, config, depth-1, False, alpha, beta))\n",
    "                alpha = max(alpha, value)\n",
    "                if beta <= alpha:\n",
    "                    break\n",
    "            return value\n",
    "        else:\n",
    "            value = np.Inf\n",
    "            for move in valid_moves:\n",
    "                child = drop_piece(grid, move, mark, config)\n",
    "                value = min(value, minimax(child, mark, config, depth-1, True, alpha, beta))\n",
    "                beta = min(beta, value)\n",
    "                if beta <= alpha:\n",
    "                    break\n",
    "            return value\n",
    "    \n",
    "    ########################################### Logic ##################################################################\n",
    "    valid_moves = [col for col in range(config.columns) if obs.board[col] == 0]\n",
    "    \n",
    "    grid = np.asarray(obs.board).reshape(config.rows, config.columns)\n",
    "    \n",
    "    scores = dict(zip(valid_moves, [score_move(grid, obs.mark, config, move, N_STEPS) for move in valid_moves]))\n",
    "    \n",
    "    max_score_moves = [key for key in scores.keys() if scores[key] == max(scores.values())]\n",
    "    \n",
    "    return random.choice(max_score_moves)"
   ]
  },
  {
   "cell_type": "code",
   "execution_count": 12,
   "id": "f4b5cf4d",
   "metadata": {
    "execution": {
     "iopub.execute_input": "2023-05-07T00:39:26.578826Z",
     "iopub.status.busy": "2023-05-07T00:39:26.578413Z",
     "iopub.status.idle": "2023-05-07T00:39:26.587970Z",
     "shell.execute_reply": "2023-05-07T00:39:26.586663Z"
    },
    "papermill": {
     "duration": 0.019568,
     "end_time": "2023-05-07T00:39:26.590418",
     "exception": false,
     "start_time": "2023-05-07T00:39:26.570850",
     "status": "completed"
    },
    "tags": []
   },
   "outputs": [
    {
     "data": {
      "application/javascript": [
       "parent.postMessage({\"jupyterEvent\": \"custom.exercise_interaction\", \"data\": {\"outcomeType\": 1, \"valueTowardsCompletion\": 0.2, \"interactionType\": 1, \"questionType\": 2, \"questionId\": \"5_JustSubmitEx3\", \"learnToolsVersion\": \"0.3.4\", \"failureMessage\": \"\", \"exceptionClass\": \"\", \"trace\": \"\"}}, \"*\")"
      ],
      "text/plain": [
       "<IPython.core.display.Javascript object>"
      ]
     },
     "metadata": {},
     "output_type": "display_data"
    },
    {
     "data": {
      "text/markdown": [
       "<span style=\"color:#33cc33\">Thank you for creating an agent!</span>"
      ],
      "text/plain": [
       "Thank you for creating an agent!"
      ]
     },
     "metadata": {},
     "output_type": "display_data"
    }
   ],
   "source": [
    "# Run this code cell to get credit for creating an agent\n",
    "q_5.check()"
   ]
  },
  {
   "cell_type": "code",
   "execution_count": 13,
   "id": "d8f13b31",
   "metadata": {
    "execution": {
     "iopub.execute_input": "2023-05-07T00:39:26.605318Z",
     "iopub.status.busy": "2023-05-07T00:39:26.604924Z",
     "iopub.status.idle": "2023-05-07T00:39:26.619376Z",
     "shell.execute_reply": "2023-05-07T00:39:26.617821Z"
    },
    "papermill": {
     "duration": 0.02475,
     "end_time": "2023-05-07T00:39:26.621752",
     "exception": false,
     "start_time": "2023-05-07T00:39:26.597002",
     "status": "completed"
    },
    "tags": []
   },
   "outputs": [
    {
     "name": "stdout",
     "output_type": "stream",
     "text": [
      "<function my_agent at 0x7b33b6424160> written to submission.py\n"
     ]
    }
   ],
   "source": [
    "import inspect\n",
    "import os\n",
    "\n",
    "def write_agent_to_file(function, file):\n",
    "    with open(file, \"a\" if os.path.exists(file) else \"w\") as f:\n",
    "        f.write(inspect.getsource(function))\n",
    "        print(function, \"written to\", file)\n",
    "\n",
    "write_agent_to_file(my_agent, \"submission.py\")"
   ]
  },
  {
   "cell_type": "markdown",
   "id": "65525ab0",
   "metadata": {
    "papermill": {
     "duration": 0.006248,
     "end_time": "2023-05-07T00:39:26.634701",
     "exception": false,
     "start_time": "2023-05-07T00:39:26.628453",
     "status": "completed"
    },
    "tags": []
   },
   "source": [
    "Then, follow these steps to submit your agent to the competition:\n",
    "1. Begin by clicking on the **Save Version** button in the top right corner of the window.  This will generate a pop-up window.  \n",
    "2. Ensure that the **Save and Run All** option is selected, and then click on the **Save** button.\n",
    "3. This generates a window in the bottom left corner of the notebook.  After it has finished running, click on the number to the right of the **Save Version** button.  This pulls up a list of versions on the right of the screen.  Click on the ellipsis **(...)** to the right of the most recent version, and select **Open in Viewer**.  This brings you into view mode of the same page. You will need to scroll down to get back to these instructions.\n",
    "4. Click on the **Data** tab near the top of the screen.  Then, click on the file you would like to submit, and click on the **Submit** button to submit your results to the leaderboard.\n",
    "\n",
    "You have now successfully submitted to the competition!\n",
    "\n",
    "If you want to keep working to improve your performance, select the **Edit** button in the top right of the screen. Then you can change your code and repeat the process. There's a lot of room to improve, and you will climb up the leaderboard as you work.\n",
    "\n",
    "\n",
    "Go to **\"My Submissions\"** to view your score and episodes being played.\n",
    "\n",
    "# Keep going\n",
    "\n",
    "Move on to learn how to **[use deep reinforcement learning](https://www.kaggle.com/alexisbcook/deep-reinforcement-learning)** to develop an agent without a heuristic!"
   ]
  },
  {
   "cell_type": "markdown",
   "id": "280af2bf",
   "metadata": {
    "papermill": {
     "duration": 0.006169,
     "end_time": "2023-05-07T00:39:26.647338",
     "exception": false,
     "start_time": "2023-05-07T00:39:26.641169",
     "status": "completed"
    },
    "tags": []
   },
   "source": [
    "---\n",
    "\n",
    "\n",
    "\n",
    "\n",
    "*Have questions or comments? Visit the [course discussion forum](https://www.kaggle.com/learn/intro-to-game-ai-and-reinforcement-learning/discussion) to chat with other learners.*"
   ]
  }
 ],
 "metadata": {
  "kernelspec": {
   "display_name": "Python 3",
   "language": "python",
   "name": "python3"
  },
  "language_info": {
   "codemirror_mode": {
    "name": "ipython",
    "version": 3
   },
   "file_extension": ".py",
   "mimetype": "text/x-python",
   "name": "python",
   "nbconvert_exporter": "python",
   "pygments_lexer": "ipython3",
   "version": "3.10.10"
  },
  "papermill": {
   "default_parameters": {},
   "duration": 13.562947,
   "end_time": "2023-05-07T00:39:27.578215",
   "environment_variables": {},
   "exception": null,
   "input_path": "__notebook__.ipynb",
   "output_path": "__notebook__.ipynb",
   "parameters": {},
   "start_time": "2023-05-07T00:39:14.015268",
   "version": "2.4.0"
  }
 },
 "nbformat": 4,
 "nbformat_minor": 5
}
