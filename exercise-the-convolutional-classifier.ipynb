{
 "cells": [
  {
   "cell_type": "markdown",
   "id": "0ba75f15",
   "metadata": {
    "papermill": {
     "duration": 0.013351,
     "end_time": "2023-03-13T00:18:22.054485",
     "exception": false,
     "start_time": "2023-03-13T00:18:22.041134",
     "status": "completed"
    },
    "tags": []
   },
   "source": [
    "**This notebook is an exercise in the [Computer Vision](https://www.kaggle.com/learn/computer-vision) course.  You can reference the tutorial at [this link](https://www.kaggle.com/ryanholbrook/the-convolutional-classifier).**\n",
    "\n",
    "---\n"
   ]
  },
  {
   "cell_type": "markdown",
   "id": "40192dec",
   "metadata": {
    "papermill": {
     "duration": 0.006857,
     "end_time": "2023-03-13T00:18:22.069394",
     "exception": false,
     "start_time": "2023-03-13T00:18:22.062537",
     "status": "completed"
    },
    "tags": []
   },
   "source": [
    "<blockquote style=\"margin-right:auto; margin-left:auto; background-color: #ebf9ff; padding: 1em; margin:24px;\">\n",
    "    <strong>Accelerate Training with a Kaggle GPU!</strong><br>\n",
    "Did you know Kaggle offers free time with a GPU accelerator? You can speed up training neural networks in this course by switching to <strong>GPU</strong> in the <em>Accelerator</em> option on the right. (It may already be turned on.) Two things to be aware of:\n",
    "<ul>\n",
    "<li>Changing the <em>Accelerator</em> option will cause the notebook session to restart. You'll need to rerun any setup code.\n",
    "<li>You can have only one GPU session at a time, so be sure to shut the notebook down after you've finished the exercise.\n",
    "</ul>\n",
    "</blockquote>"
   ]
  },
  {
   "cell_type": "markdown",
   "id": "9f20bd88",
   "metadata": {
    "papermill": {
     "duration": 0.005742,
     "end_time": "2023-03-13T00:18:22.081641",
     "exception": false,
     "start_time": "2023-03-13T00:18:22.075899",
     "status": "completed"
    },
    "tags": []
   },
   "source": [
    "# Introduction #\n",
    "\n",
    "In the tutorial, we saw how to build an image classifier by attaching a head of dense layers to a pretrained base. The base we used was from a model called **VGG16**. We saw that the VGG16 architecture was prone to overfitting this dataset. Over this course, you'll learn a number of ways you can improve upon this initial attempt.\n",
    "\n",
    "The first way you'll see is to use a base more appropriate to the dataset. The base this model comes from is called **InceptionV1** (also known as GoogLeNet). InceptionV1 was one of the early winners of the ImageNet competition. One of its successors, InceptionV4, is among the state of the art today.\n",
    "\n",
    "To get started, run the code cell below to set everything up."
   ]
  },
  {
   "cell_type": "code",
   "execution_count": 1,
   "id": "921ee042",
   "metadata": {
    "execution": {
     "iopub.execute_input": "2023-03-13T00:18:22.096870Z",
     "iopub.status.busy": "2023-03-13T00:18:22.096390Z",
     "iopub.status.idle": "2023-03-13T00:18:37.563125Z",
     "shell.execute_reply": "2023-03-13T00:18:37.561085Z"
    },
    "lines_to_next_cell": 2,
    "papermill": {
     "duration": 15.477502,
     "end_time": "2023-03-13T00:18:37.565861",
     "exception": false,
     "start_time": "2023-03-13T00:18:22.088359",
     "status": "completed"
    },
    "tags": []
   },
   "outputs": [
    {
     "name": "stdout",
     "output_type": "stream",
     "text": [
      "Found 5117 files belonging to 2 classes.\n",
      "Found 5051 files belonging to 2 classes.\n"
     ]
    }
   ],
   "source": [
    "# Setup feedback system\n",
    "from learntools.core import binder\n",
    "binder.bind(globals())\n",
    "from learntools.computer_vision.ex1 import *\n",
    "\n",
    "# Imports\n",
    "import os, warnings\n",
    "import matplotlib.pyplot as plt\n",
    "from matplotlib import gridspec\n",
    "\n",
    "import numpy as np\n",
    "import tensorflow as tf\n",
    "from tensorflow.keras.preprocessing import image_dataset_from_directory\n",
    "\n",
    "# Reproducability\n",
    "def set_seed(seed=31415):\n",
    "    np.random.seed(seed)\n",
    "    tf.random.set_seed(seed)\n",
    "    os.environ['PYTHONHASHSEED'] = str(seed)\n",
    "    os.environ['TF_DETERMINISTIC_OPS'] = '1'\n",
    "set_seed()\n",
    "\n",
    "# Set Matplotlib defaults\n",
    "plt.rc('figure', autolayout=True)\n",
    "plt.rc('axes', labelweight='bold', labelsize='large',\n",
    "       titleweight='bold', titlesize=18, titlepad=10)\n",
    "plt.rc('image', cmap='magma')\n",
    "warnings.filterwarnings(\"ignore\") # to clean up output cells\n",
    "\n",
    "\n",
    "# Load training and validation sets\n",
    "ds_train_ = image_dataset_from_directory(\n",
    "    '../input/car-or-truck/train',\n",
    "    labels='inferred',\n",
    "    label_mode='binary',\n",
    "    image_size=[128, 128],\n",
    "    interpolation='nearest',\n",
    "    batch_size=64,\n",
    "    shuffle=True,\n",
    ")\n",
    "ds_valid_ = image_dataset_from_directory(\n",
    "    '../input/car-or-truck/valid',\n",
    "    labels='inferred',\n",
    "    label_mode='binary',\n",
    "    image_size=[128, 128],\n",
    "    interpolation='nearest',\n",
    "    batch_size=64,\n",
    "    shuffle=False,\n",
    ")\n",
    "\n",
    "# Data Pipeline\n",
    "def convert_to_float(image, label):\n",
    "    image = tf.image.convert_image_dtype(image, dtype=tf.float32)\n",
    "    return image, label\n",
    "\n",
    "AUTOTUNE = tf.data.experimental.AUTOTUNE\n",
    "ds_train = (\n",
    "    ds_train_\n",
    "    .map(convert_to_float)\n",
    "    .cache()\n",
    "    .prefetch(buffer_size=AUTOTUNE)\n",
    ")\n",
    "ds_valid = (\n",
    "    ds_valid_\n",
    "    .map(convert_to_float)\n",
    "    .cache()\n",
    "    .prefetch(buffer_size=AUTOTUNE)\n",
    ")\n"
   ]
  },
  {
   "cell_type": "markdown",
   "id": "e1dcaf25",
   "metadata": {
    "papermill": {
     "duration": 0.004192,
     "end_time": "2023-03-13T00:18:37.575013",
     "exception": false,
     "start_time": "2023-03-13T00:18:37.570821",
     "status": "completed"
    },
    "tags": []
   },
   "source": [
    "The **InceptionV1** model pretrained on ImageNet is available in the [TensorFlow Hub](https://www.tensorflow.org/hub/) repository, but we'll load it from a local copy. Run this cell to load InceptionV1 for your base."
   ]
  },
  {
   "cell_type": "code",
   "execution_count": 2,
   "id": "5011186c",
   "metadata": {
    "execution": {
     "iopub.execute_input": "2023-03-13T00:18:37.585054Z",
     "iopub.status.busy": "2023-03-13T00:18:37.584762Z",
     "iopub.status.idle": "2023-03-13T00:18:40.840114Z",
     "shell.execute_reply": "2023-03-13T00:18:40.839092Z"
    },
    "lines_to_next_cell": 0,
    "papermill": {
     "duration": 3.263769,
     "end_time": "2023-03-13T00:18:40.843266",
     "exception": false,
     "start_time": "2023-03-13T00:18:37.579497",
     "status": "completed"
    },
    "tags": []
   },
   "outputs": [],
   "source": [
    "import tensorflow_hub as hub\n",
    "\n",
    "pretrained_base = tf.keras.models.load_model(\n",
    "    '../input/cv-course-models/cv-course-models/inceptionv1'\n",
    ")"
   ]
  },
  {
   "cell_type": "markdown",
   "id": "9f53a0b6",
   "metadata": {
    "papermill": {
     "duration": 0.00442,
     "end_time": "2023-03-13T00:18:40.854743",
     "exception": false,
     "start_time": "2023-03-13T00:18:40.850323",
     "status": "completed"
    },
    "tags": []
   },
   "source": [
    "# 1) Define Pretrained Base #\n",
    "\n",
    "Now that you have a pretrained base to do our feature extraction, decide whether this base should be trainable or not."
   ]
  },
  {
   "cell_type": "code",
   "execution_count": 3,
   "id": "283dcfae",
   "metadata": {
    "execution": {
     "iopub.execute_input": "2023-03-13T00:18:40.866518Z",
     "iopub.status.busy": "2023-03-13T00:18:40.865376Z",
     "iopub.status.idle": "2023-03-13T00:18:40.877421Z",
     "shell.execute_reply": "2023-03-13T00:18:40.876306Z"
    },
    "lines_to_next_cell": 0,
    "papermill": {
     "duration": 0.020224,
     "end_time": "2023-03-13T00:18:40.879558",
     "exception": false,
     "start_time": "2023-03-13T00:18:40.859334",
     "status": "completed"
    },
    "tags": []
   },
   "outputs": [
    {
     "data": {
      "application/javascript": [
       "parent.postMessage({\"jupyterEvent\": \"custom.exercise_interaction\", \"data\": {\"outcomeType\": 1, \"valueTowardsCompletion\": 0.25, \"interactionType\": 1, \"questionType\": 2, \"questionId\": \"1_Q1\", \"learnToolsVersion\": \"0.3.4\", \"failureMessage\": \"\", \"exceptionClass\": \"\", \"trace\": \"\"}}, \"*\")"
      ],
      "text/plain": [
       "<IPython.core.display.Javascript object>"
      ]
     },
     "metadata": {},
     "output_type": "display_data"
    },
    {
     "data": {
      "text/markdown": [
       "<span style=\"color:#33cc33\">Correct:</span> When doing transfer learning, it's generally not a good idea to retrain the entire base -- at least not without some care. The reason is that the random weights in the head will initially create large gradient updates, which propogate back into the base layers and destroy much of the pretraining. Using techniques known as **fine tuning** it's possible to further train the base on new data, but this requires some care to do well."
      ],
      "text/plain": [
       "Correct: When doing transfer learning, it's generally not a good idea to retrain the entire base -- at least not without some care. The reason is that the random weights in the head will initially create large gradient updates, which propogate back into the base layers and destroy much of the pretraining. Using techniques known as **fine tuning** it's possible to further train the base on new data, but this requires some care to do well."
      ]
     },
     "metadata": {},
     "output_type": "display_data"
    }
   ],
   "source": [
    "# YOUR_CODE_HERE\n",
    "pretrained_base.trainable = False\n",
    "\n",
    "# Check your answer\n",
    "q_1.check()"
   ]
  },
  {
   "cell_type": "code",
   "execution_count": 4,
   "id": "49d0ecfe",
   "metadata": {
    "execution": {
     "iopub.execute_input": "2023-03-13T00:18:40.891477Z",
     "iopub.status.busy": "2023-03-13T00:18:40.890789Z",
     "iopub.status.idle": "2023-03-13T00:18:40.896388Z",
     "shell.execute_reply": "2023-03-13T00:18:40.895318Z"
    },
    "papermill": {
     "duration": 0.014331,
     "end_time": "2023-03-13T00:18:40.898781",
     "exception": false,
     "start_time": "2023-03-13T00:18:40.884450",
     "status": "completed"
    },
    "tags": []
   },
   "outputs": [],
   "source": [
    "# Lines below will give you a hint or solution code\n",
    "#q_1.hint()\n",
    "#q_1.solution()"
   ]
  },
  {
   "cell_type": "markdown",
   "id": "7c50d5bb",
   "metadata": {
    "papermill": {
     "duration": 0.004815,
     "end_time": "2023-03-13T00:18:40.908546",
     "exception": false,
     "start_time": "2023-03-13T00:18:40.903731",
     "status": "completed"
    },
    "tags": []
   },
   "source": [
    "# 2) Attach Head #\n",
    "\n",
    "Now that the base is defined to do the feature extraction, create a head of `Dense` layers to perform the classification, following this diagram:\n",
    "\n",
    "<figure>\n",
    "<img src=\"https://i.imgur.com/i5VU7Ry.png\" alt=\"Diagram of the dense head.\">\n",
    "</figure>\n"
   ]
  },
  {
   "cell_type": "code",
   "execution_count": 5,
   "id": "3d483186",
   "metadata": {
    "execution": {
     "iopub.execute_input": "2023-03-13T00:18:40.919967Z",
     "iopub.status.busy": "2023-03-13T00:18:40.919597Z",
     "iopub.status.idle": "2023-03-13T00:18:40.943019Z",
     "shell.execute_reply": "2023-03-13T00:18:40.942061Z"
    },
    "lines_to_next_cell": 0,
    "papermill": {
     "duration": 0.031794,
     "end_time": "2023-03-13T00:18:40.945230",
     "exception": false,
     "start_time": "2023-03-13T00:18:40.913436",
     "status": "completed"
    },
    "tags": []
   },
   "outputs": [
    {
     "data": {
      "application/javascript": [
       "parent.postMessage({\"jupyterEvent\": \"custom.exercise_interaction\", \"data\": {\"outcomeType\": 1, \"valueTowardsCompletion\": 0.25, \"interactionType\": 1, \"questionType\": 2, \"questionId\": \"2_Q2\", \"learnToolsVersion\": \"0.3.4\", \"failureMessage\": \"\", \"exceptionClass\": \"\", \"trace\": \"\"}}, \"*\")"
      ],
      "text/plain": [
       "<IPython.core.display.Javascript object>"
      ]
     },
     "metadata": {},
     "output_type": "display_data"
    },
    {
     "data": {
      "text/markdown": [
       "<span style=\"color:#33cc33\">Correct</span>"
      ],
      "text/plain": [
       "Correct"
      ]
     },
     "metadata": {},
     "output_type": "display_data"
    }
   ],
   "source": [
    "from tensorflow import keras\n",
    "from tensorflow.keras import layers\n",
    "\n",
    "model = keras.Sequential([\n",
    "    pretrained_base,\n",
    "    layers.Flatten(),\n",
    "    # YOUR CODE HERE. Attach a head of dense layers.\n",
    "    layers.Dense(6, activation='relu'),\n",
    "    layers.Dense(1, activation='sigmoid'),\n",
    "])\n",
    "\n",
    "# Check your answer\n",
    "q_2.check()"
   ]
  },
  {
   "cell_type": "code",
   "execution_count": 6,
   "id": "fdbd79fd",
   "metadata": {
    "execution": {
     "iopub.execute_input": "2023-03-13T00:18:40.956434Z",
     "iopub.status.busy": "2023-03-13T00:18:40.956094Z",
     "iopub.status.idle": "2023-03-13T00:18:40.960274Z",
     "shell.execute_reply": "2023-03-13T00:18:40.959281Z"
    },
    "papermill": {
     "duration": 0.012064,
     "end_time": "2023-03-13T00:18:40.962366",
     "exception": false,
     "start_time": "2023-03-13T00:18:40.950302",
     "status": "completed"
    },
    "tags": []
   },
   "outputs": [],
   "source": [
    "# Lines below will give you a hint or solution code\n",
    "#q_2.hint()\n",
    "#q_2.solution()"
   ]
  },
  {
   "cell_type": "markdown",
   "id": "e2a37b2d",
   "metadata": {
    "papermill": {
     "duration": 0.004722,
     "end_time": "2023-03-13T00:18:40.971847",
     "exception": false,
     "start_time": "2023-03-13T00:18:40.967125",
     "status": "completed"
    },
    "tags": []
   },
   "source": [
    "# 3) Train #\n",
    "\n",
    "Before training a model in Keras, you need to specify an *optimizer* to perform the gradient descent, a *loss function* to be minimized, and (optionally) any *performance metrics*. The optimization algorithm we'll use for this course is called [\"Adam\"](https://keras.io/api/optimizers/adam/), which generally performs well regardless of what kind of problem you're trying to solve.\n",
    "\n",
    "The loss and the metrics, however, need to match the kind of problem you're trying to solve. Our problem is a **binary classification** problem: `Car` coded as 0, and `Truck` coded as 1. Choose an appropriate loss and an appropriate accuracy metric for binary classification."
   ]
  },
  {
   "cell_type": "code",
   "execution_count": 7,
   "id": "601a6dfc",
   "metadata": {
    "execution": {
     "iopub.execute_input": "2023-03-13T00:18:40.982829Z",
     "iopub.status.busy": "2023-03-13T00:18:40.982535Z",
     "iopub.status.idle": "2023-03-13T00:18:41.008191Z",
     "shell.execute_reply": "2023-03-13T00:18:41.007127Z"
    },
    "lines_to_next_cell": 0,
    "papermill": {
     "duration": 0.03369,
     "end_time": "2023-03-13T00:18:41.010304",
     "exception": false,
     "start_time": "2023-03-13T00:18:40.976614",
     "status": "completed"
    },
    "tags": []
   },
   "outputs": [
    {
     "data": {
      "application/javascript": [
       "parent.postMessage({\"jupyterEvent\": \"custom.exercise_interaction\", \"data\": {\"outcomeType\": 1, \"valueTowardsCompletion\": 0.25, \"interactionType\": 1, \"questionType\": 2, \"questionId\": \"3_Q3\", \"learnToolsVersion\": \"0.3.4\", \"failureMessage\": \"\", \"exceptionClass\": \"\", \"trace\": \"\"}}, \"*\")"
      ],
      "text/plain": [
       "<IPython.core.display.Javascript object>"
      ]
     },
     "metadata": {},
     "output_type": "display_data"
    },
    {
     "data": {
      "text/markdown": [
       "<span style=\"color:#33cc33\">Correct</span>"
      ],
      "text/plain": [
       "Correct"
      ]
     },
     "metadata": {},
     "output_type": "display_data"
    }
   ],
   "source": [
    "# YOUR CODE HERE: what loss function should you use for a binary\n",
    "# classification problem? (Your answer for each should be a string.)\n",
    "optimizer = tf.keras.optimizers.Adam(epsilon=0.01)\n",
    "model.compile(\n",
    "    optimizer=optimizer,\n",
    "    loss = 'binary_crossentropy',\n",
    "    metrics=['binary_accuracy'],\n",
    ")\n",
    "\n",
    "# Check your answer\n",
    "q_3.check()"
   ]
  },
  {
   "cell_type": "code",
   "execution_count": 8,
   "id": "508a62a9",
   "metadata": {
    "execution": {
     "iopub.execute_input": "2023-03-13T00:18:41.021587Z",
     "iopub.status.busy": "2023-03-13T00:18:41.021302Z",
     "iopub.status.idle": "2023-03-13T00:18:41.025462Z",
     "shell.execute_reply": "2023-03-13T00:18:41.024398Z"
    },
    "lines_to_next_cell": 0,
    "papermill": {
     "duration": 0.012165,
     "end_time": "2023-03-13T00:18:41.027552",
     "exception": false,
     "start_time": "2023-03-13T00:18:41.015387",
     "status": "completed"
    },
    "tags": []
   },
   "outputs": [],
   "source": [
    "# Lines below will give you a hint or solution code\n",
    "#q_3.hint()\n",
    "#q_3.solution()"
   ]
  },
  {
   "cell_type": "code",
   "execution_count": 9,
   "id": "9be0b6d4",
   "metadata": {
    "execution": {
     "iopub.execute_input": "2023-03-13T00:18:41.039110Z",
     "iopub.status.busy": "2023-03-13T00:18:41.038725Z",
     "iopub.status.idle": "2023-03-13T00:21:19.378096Z",
     "shell.execute_reply": "2023-03-13T00:21:19.376989Z"
    },
    "papermill": {
     "duration": 158.348102,
     "end_time": "2023-03-13T00:21:19.380641",
     "exception": false,
     "start_time": "2023-03-13T00:18:41.032539",
     "status": "completed"
    },
    "tags": []
   },
   "outputs": [
    {
     "name": "stdout",
     "output_type": "stream",
     "text": [
      "Epoch 1/30\n",
      "80/80 [==============================] - 35s 286ms/step - loss: 0.5569 - binary_accuracy: 0.7158 - val_loss: 0.4439 - val_binary_accuracy: 0.8020\n",
      "Epoch 2/30\n",
      "80/80 [==============================] - 4s 52ms/step - loss: 0.4210 - binary_accuracy: 0.8091 - val_loss: 0.4031 - val_binary_accuracy: 0.8256\n",
      "Epoch 3/30\n",
      "80/80 [==============================] - 4s 51ms/step - loss: 0.3917 - binary_accuracy: 0.8237 - val_loss: 0.3894 - val_binary_accuracy: 0.8311\n",
      "Epoch 4/30\n",
      "80/80 [==============================] - 4s 51ms/step - loss: 0.3742 - binary_accuracy: 0.8362 - val_loss: 0.3789 - val_binary_accuracy: 0.8381\n",
      "Epoch 5/30\n",
      "80/80 [==============================] - 4s 51ms/step - loss: 0.3608 - binary_accuracy: 0.8440 - val_loss: 0.3711 - val_binary_accuracy: 0.8416\n",
      "Epoch 6/30\n",
      "80/80 [==============================] - 4s 52ms/step - loss: 0.3495 - binary_accuracy: 0.8509 - val_loss: 0.3653 - val_binary_accuracy: 0.8412\n",
      "Epoch 7/30\n",
      "80/80 [==============================] - 4s 51ms/step - loss: 0.3392 - binary_accuracy: 0.8568 - val_loss: 0.3598 - val_binary_accuracy: 0.8454\n",
      "Epoch 8/30\n",
      "80/80 [==============================] - 4s 51ms/step - loss: 0.3318 - binary_accuracy: 0.8599 - val_loss: 0.3551 - val_binary_accuracy: 0.8452\n",
      "Epoch 9/30\n",
      "80/80 [==============================] - 4s 51ms/step - loss: 0.3209 - binary_accuracy: 0.8644 - val_loss: 0.3520 - val_binary_accuracy: 0.8460\n",
      "Epoch 10/30\n",
      "80/80 [==============================] - 4s 52ms/step - loss: 0.3114 - binary_accuracy: 0.8718 - val_loss: 0.3442 - val_binary_accuracy: 0.8495\n",
      "Epoch 11/30\n",
      "80/80 [==============================] - 4s 51ms/step - loss: 0.3034 - binary_accuracy: 0.8773 - val_loss: 0.3420 - val_binary_accuracy: 0.8505\n",
      "Epoch 12/30\n",
      "80/80 [==============================] - 4s 52ms/step - loss: 0.2957 - binary_accuracy: 0.8831 - val_loss: 0.3361 - val_binary_accuracy: 0.8541\n",
      "Epoch 13/30\n",
      "80/80 [==============================] - 5s 59ms/step - loss: 0.2884 - binary_accuracy: 0.8868 - val_loss: 0.3341 - val_binary_accuracy: 0.8537\n",
      "Epoch 14/30\n",
      "80/80 [==============================] - 4s 51ms/step - loss: 0.2816 - binary_accuracy: 0.8894 - val_loss: 0.3320 - val_binary_accuracy: 0.8551\n",
      "Epoch 15/30\n",
      "80/80 [==============================] - 4s 52ms/step - loss: 0.2766 - binary_accuracy: 0.8902 - val_loss: 0.3322 - val_binary_accuracy: 0.8557\n",
      "Epoch 16/30\n",
      "80/80 [==============================] - 4s 51ms/step - loss: 0.2714 - binary_accuracy: 0.8935 - val_loss: 0.3328 - val_binary_accuracy: 0.8582\n",
      "Epoch 17/30\n",
      "80/80 [==============================] - 5s 58ms/step - loss: 0.2663 - binary_accuracy: 0.8958 - val_loss: 0.3319 - val_binary_accuracy: 0.8582\n",
      "Epoch 18/30\n",
      "80/80 [==============================] - 4s 51ms/step - loss: 0.2622 - binary_accuracy: 0.8958 - val_loss: 0.3326 - val_binary_accuracy: 0.8580\n",
      "Epoch 19/30\n",
      "80/80 [==============================] - 4s 51ms/step - loss: 0.2578 - binary_accuracy: 0.8988 - val_loss: 0.3326 - val_binary_accuracy: 0.8580\n",
      "Epoch 20/30\n",
      "80/80 [==============================] - 4s 53ms/step - loss: 0.2541 - binary_accuracy: 0.9003 - val_loss: 0.3331 - val_binary_accuracy: 0.8598\n",
      "Epoch 21/30\n",
      "80/80 [==============================] - 4s 51ms/step - loss: 0.2508 - binary_accuracy: 0.9003 - val_loss: 0.3355 - val_binary_accuracy: 0.8610\n",
      "Epoch 22/30\n",
      "80/80 [==============================] - 4s 52ms/step - loss: 0.2479 - binary_accuracy: 0.9017 - val_loss: 0.3327 - val_binary_accuracy: 0.8634\n",
      "Epoch 23/30\n",
      "80/80 [==============================] - 4s 51ms/step - loss: 0.2441 - binary_accuracy: 0.9037 - val_loss: 0.3338 - val_binary_accuracy: 0.8640\n",
      "Epoch 24/30\n",
      "80/80 [==============================] - 4s 51ms/step - loss: 0.2410 - binary_accuracy: 0.9037 - val_loss: 0.3344 - val_binary_accuracy: 0.8636\n",
      "Epoch 25/30\n",
      "80/80 [==============================] - 4s 51ms/step - loss: 0.2373 - binary_accuracy: 0.9052 - val_loss: 0.3356 - val_binary_accuracy: 0.8644\n",
      "Epoch 26/30\n",
      "80/80 [==============================] - 4s 51ms/step - loss: 0.2340 - binary_accuracy: 0.9068 - val_loss: 0.3365 - val_binary_accuracy: 0.8650\n",
      "Epoch 27/30\n",
      "80/80 [==============================] - 4s 51ms/step - loss: 0.2313 - binary_accuracy: 0.9081 - val_loss: 0.3362 - val_binary_accuracy: 0.8642\n",
      "Epoch 28/30\n",
      "80/80 [==============================] - 4s 52ms/step - loss: 0.2275 - binary_accuracy: 0.9087 - val_loss: 0.3364 - val_binary_accuracy: 0.8654\n",
      "Epoch 29/30\n",
      "80/80 [==============================] - 4s 51ms/step - loss: 0.2254 - binary_accuracy: 0.9097 - val_loss: 0.3377 - val_binary_accuracy: 0.8648\n",
      "Epoch 30/30\n",
      "80/80 [==============================] - 5s 59ms/step - loss: 0.2225 - binary_accuracy: 0.9123 - val_loss: 0.3386 - val_binary_accuracy: 0.8642\n"
     ]
    }
   ],
   "source": [
    "history = model.fit(\n",
    "    ds_train,\n",
    "    validation_data=ds_valid,\n",
    "    epochs=30,\n",
    ")"
   ]
  },
  {
   "cell_type": "markdown",
   "id": "2f12dbf1",
   "metadata": {
    "papermill": {
     "duration": 0.069973,
     "end_time": "2023-03-13T00:21:19.521428",
     "exception": false,
     "start_time": "2023-03-13T00:21:19.451455",
     "status": "completed"
    },
    "tags": []
   },
   "source": [
    "Run the cell below to plot the loss and metric curves for this training run."
   ]
  },
  {
   "cell_type": "code",
   "execution_count": 10,
   "id": "6c24d437",
   "metadata": {
    "execution": {
     "iopub.execute_input": "2023-03-13T00:21:19.662096Z",
     "iopub.status.busy": "2023-03-13T00:21:19.661083Z",
     "iopub.status.idle": "2023-03-13T00:21:20.284134Z",
     "shell.execute_reply": "2023-03-13T00:21:20.283196Z"
    },
    "papermill": {
     "duration": 0.695756,
     "end_time": "2023-03-13T00:21:20.286374",
     "exception": false,
     "start_time": "2023-03-13T00:21:19.590618",
     "status": "completed"
    },
    "tags": []
   },
   "outputs": [
    {
     "data": {
      "image/png": "[encoded data removed]",
      "text/plain": [
       "<Figure size 640x480 with 1 Axes>"
      ]
     },
     "metadata": {},
     "output_type": "display_data"
    },
    {
     "data": {
      "image/png": "[encoded data removed]",
      "text/plain": [
       "<Figure size 640x480 with 1 Axes>"
      ]
     },
     "metadata": {},
     "output_type": "display_data"
    }
   ],
   "source": [
    "import pandas as pd\n",
    "history_frame = pd.DataFrame(history.history)\n",
    "history_frame.loc[:, ['loss', 'val_loss']].plot()\n",
    "history_frame.loc[:, ['binary_accuracy', 'val_binary_accuracy']].plot();"
   ]
  },
  {
   "cell_type": "markdown",
   "id": "7e8f1e5a",
   "metadata": {
    "papermill": {
     "duration": 0.071209,
     "end_time": "2023-03-13T00:21:20.428425",
     "exception": false,
     "start_time": "2023-03-13T00:21:20.357216",
     "status": "completed"
    },
    "tags": []
   },
   "source": [
    "# 4) Examine Loss and Accuracy #\n",
    "\n",
    "Do you notice a difference between these learning curves and the curves for VGG16 from the tutorial? What does this difference tell you about what this model (InceptionV2) learned compared to VGG16? Are there ways in which one is better than the other? Worse?\n",
    "\n",
    "After you've thought about it, run the cell below to see the answer."
   ]
  },
  {
   "cell_type": "code",
   "execution_count": 11,
   "id": "5820ef59",
   "metadata": {
    "execution": {
     "iopub.execute_input": "2023-03-13T00:21:20.571127Z",
     "iopub.status.busy": "2023-03-13T00:21:20.570770Z",
     "iopub.status.idle": "2023-03-13T00:21:20.579027Z",
     "shell.execute_reply": "2023-03-13T00:21:20.577975Z"
    },
    "papermill": {
     "duration": 0.082123,
     "end_time": "2023-03-13T00:21:20.581198",
     "exception": false,
     "start_time": "2023-03-13T00:21:20.499075",
     "status": "completed"
    },
    "tags": []
   },
   "outputs": [
    {
     "data": {
      "application/javascript": [
       "parent.postMessage({\"jupyterEvent\": \"custom.exercise_interaction\", \"data\": {\"outcomeType\": 1, \"valueTowardsCompletion\": 0.25, \"interactionType\": 1, \"questionType\": 4, \"questionId\": \"4_Q4\", \"learnToolsVersion\": \"0.3.4\", \"failureMessage\": \"\", \"exceptionClass\": \"\", \"trace\": \"\"}}, \"*\")"
      ],
      "text/plain": [
       "<IPython.core.display.Javascript object>"
      ]
     },
     "metadata": {},
     "output_type": "display_data"
    },
    {
     "data": {
      "text/markdown": [
       "<span style=\"color:#33cc33\">Correct:</span> \n",
       "\n",
       "That the training loss and validation loss stay fairly close is evidence that the model isn't just memorizing the training data, but rather learning general properties of the two classes. But, because this model converges at a loss greater than the VGG16 model, it's likely that it is underfitting some, and could benefit from some extra capacity.\n"
      ],
      "text/plain": [
       "Correct: \n",
       "\n",
       "That the training loss and validation loss stay fairly close is evidence that the model isn't just memorizing the training data, but rather learning general properties of the two classes. But, because this model converges at a loss greater than the VGG16 model, it's likely that it is underfitting some, and could benefit from some extra capacity."
      ]
     },
     "metadata": {},
     "output_type": "display_data"
    }
   ],
   "source": [
    "# View the solution (Run this code cell to receive credit!)\n",
    "q_4.check()"
   ]
  },
  {
   "cell_type": "markdown",
   "id": "8d87ee2d",
   "metadata": {
    "papermill": {
     "duration": 0.0722,
     "end_time": "2023-03-13T00:21:20.723474",
     "exception": false,
     "start_time": "2023-03-13T00:21:20.651274",
     "status": "completed"
    },
    "tags": []
   },
   "source": [
    "# Conclusion #\n",
    "\n",
    "In this first lesson, you learned the basics of **convolutional image classifiers**, that they consist of a **base** for extracting features from images, and a **head** which uses the features to decide the image's class. You also saw how to build a classifier with **transfer learning** on pretrained base. "
   ]
  },
  {
   "cell_type": "markdown",
   "id": "c70e588e",
   "metadata": {
    "papermill": {
     "duration": 0.073591,
     "end_time": "2023-03-13T00:21:20.868890",
     "exception": false,
     "start_time": "2023-03-13T00:21:20.795299",
     "status": "completed"
    },
    "tags": []
   },
   "source": [
    "# Keep Going #\n",
    "\n",
    "Move on to [**Lesson 2**](https://www.kaggle.com/ryanholbrook/convolution-and-relu) for a detailed look at how the base does this feature extraction. (It's really cool!)"
   ]
  },
  {
   "cell_type": "markdown",
   "id": "98e1f1b0",
   "metadata": {
    "papermill": {
     "duration": 0.074831,
     "end_time": "2023-03-13T00:21:21.013805",
     "exception": false,
     "start_time": "2023-03-13T00:21:20.938974",
     "status": "completed"
    },
    "tags": []
   },
   "source": [
    "---\n",
    "\n",
    "\n",
    "\n",
    "\n",
    "*Have questions or comments? Visit the [course discussion forum](https://www.kaggle.com/learn/computer-vision/discussion) to chat with other learners.*"
   ]
  }
 ],
 "metadata": {
  "kernelspec": {
   "display_name": "Python 3",
   "language": "python",
   "name": "python3"
  },
  "language_info": {
   "codemirror_mode": {
    "name": "ipython",
    "version": 3
   },
   "file_extension": ".py",
   "mimetype": "text/x-python",
   "name": "python",
   "nbconvert_exporter": "python",
   "pygments_lexer": "ipython3",
   "version": "3.7.12"
  },
  "papermill": {
   "default_parameters": {},
   "duration": 190.799384,
   "end_time": "2023-03-13T00:21:23.978236",
   "environment_variables": {},
   "exception": null,
   "input_path": "__notebook__.ipynb",
   "output_path": "__notebook__.ipynb",
   "parameters": {},
   "start_time": "2023-03-13T00:18:13.178852",
   "version": "2.4.0"
  }
 },
 "nbformat": 4,
 "nbformat_minor": 5
}
